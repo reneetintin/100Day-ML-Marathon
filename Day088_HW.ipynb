{
 "cells": [
  {
   "cell_type": "markdown",
   "metadata": {},
   "source": [
    "## Work\n",
    "1. 請嘗試寫一個 callback 用來記錄各類別在訓練過程中，對驗證集的 True Positive 與 True Negative"
   ]
  },
  {
   "cell_type": "code",
   "execution_count": 1,
   "metadata": {
    "ExecuteTime": {
     "end_time": "2019-12-25T14:56:17.486342Z",
     "start_time": "2019-12-25T14:56:14.681069Z"
    }
   },
   "outputs": [
    {
     "name": "stderr",
     "output_type": "stream",
     "text": [
      "Using TensorFlow backend.\n"
     ]
    }
   ],
   "source": [
    "import os\n",
    "import keras\n",
    "\n",
    "# Disable GPU\n",
    "os.environ[\"CUDA_VISIBLE_DEVICES\"] = \"\""
   ]
  },
  {
   "cell_type": "code",
   "execution_count": 2,
   "metadata": {
    "ExecuteTime": {
     "end_time": "2019-12-25T14:56:17.912508Z",
     "start_time": "2019-12-25T14:56:17.489065Z"
    }
   },
   "outputs": [],
   "source": [
    "train, test = keras.datasets.cifar10.load_data()"
   ]
  },
  {
   "cell_type": "code",
   "execution_count": 3,
   "metadata": {
    "ExecuteTime": {
     "end_time": "2019-12-25T14:56:17.923439Z",
     "start_time": "2019-12-25T14:56:17.917484Z"
    }
   },
   "outputs": [],
   "source": [
    "## 資料前處理\n",
    "def preproc_x(x, flatten=True):\n",
    "    x = x / 255.\n",
    "    if flatten:\n",
    "        x = x.reshape((len(x), -1))\n",
    "    return x\n",
    "\n",
    "def preproc_y(y, num_classes=10):\n",
    "    if y.shape[-1] == 1:\n",
    "        y = keras.utils.to_categorical(y, num_classes)\n",
    "    return y    "
   ]
  },
  {
   "cell_type": "code",
   "execution_count": 4,
   "metadata": {
    "ExecuteTime": {
     "end_time": "2019-12-25T14:56:22.646078Z",
     "start_time": "2019-12-25T14:56:17.925510Z"
    }
   },
   "outputs": [],
   "source": [
    "x_train, y_train = train\n",
    "x_test, y_test = test\n",
    "\n",
    "# Preproc the inputs\n",
    "x_train = preproc_x(x_train)\n",
    "x_test = preproc_x(x_test)\n",
    "\n",
    "# Preprc the outputs\n",
    "y_train = preproc_y(y_train)\n",
    "y_test = preproc_y(y_test)"
   ]
  },
  {
   "cell_type": "code",
   "execution_count": 5,
   "metadata": {
    "ExecuteTime": {
     "end_time": "2019-12-25T14:56:24.992744Z",
     "start_time": "2019-12-25T14:56:24.780248Z"
    }
   },
   "outputs": [],
   "source": [
    "import numpy as np\n",
    "\n",
    "a = np.arange(50000)\n",
    "np.random.shuffle(a)\n",
    "indexs = a[:5000]\n",
    "\n",
    "x_train = x_train[indexs]\n",
    "y_train = y_train[indexs]"
   ]
  },
  {
   "cell_type": "code",
   "execution_count": 6,
   "metadata": {
    "ExecuteTime": {
     "end_time": "2019-12-25T14:56:34.865996Z",
     "start_time": "2019-12-25T14:56:34.854545Z"
    }
   },
   "outputs": [],
   "source": [
    "from keras.layers import BatchNormalization\n",
    "\n",
    "\"\"\"\n",
    "建立神經網路，並加入 BN layer\n",
    "\"\"\"\n",
    "def build_mlp(input_shape, output_units=10, num_neurons=[512, 256, 128]):\n",
    "    input_layer = keras.layers.Input(input_shape)\n",
    "    \n",
    "    for i, n_units in enumerate(num_neurons):\n",
    "        if i == 0:\n",
    "            x = keras.layers.Dense(units=n_units, \n",
    "                                   activation=\"relu\", \n",
    "                                   name=\"hidden_layer\"+str(i+1))(input_layer)\n",
    "            x = BatchNormalization()(x)\n",
    "        else:\n",
    "            x = keras.layers.Dense(units=n_units, \n",
    "                                   activation=\"relu\", \n",
    "                                   name=\"hidden_layer\"+str(i+1))(x)\n",
    "            x = BatchNormalization()(x)\n",
    "    \n",
    "    out = keras.layers.Dense(units=output_units, activation=\"softmax\", name=\"output\")(x)\n",
    "    \n",
    "    model = keras.models.Model(inputs=[input_layer], outputs=[out])\n",
    "    return model"
   ]
  },
  {
   "cell_type": "code",
   "execution_count": 7,
   "metadata": {
    "ExecuteTime": {
     "end_time": "2019-12-25T14:56:36.839492Z",
     "start_time": "2019-12-25T14:56:36.835997Z"
    }
   },
   "outputs": [],
   "source": [
    "## 超參數設定\n",
    "LEARNING_RATE = 1e-3\n",
    "EPOCHS = 25\n",
    "BATCH_SIZE = 1024\n",
    "MOMENTUM = 0.95"
   ]
  },
  {
   "cell_type": "code",
   "execution_count": null,
   "metadata": {},
   "outputs": [],
   "source": [
    "\"\"\"\n",
    "# 載入 Callbacks，撰寫一個 f1 score 的 callback function\n",
    "\"\"\"\n",
    "\n",
    "from keras.callbacks import Callback\n",
    "from sklearn.metrics import f1_score\n",
    "\n",
    "class f1sc(Callback):\n",
    "    def on_train_begin(self, epoch, logs = {}):\n",
    "        logs = logs or {}\n",
    "        record_items = [\"val_auc\", \"val_f1sc\", \"val_fp\", \"val_fn\", \"val_tp\", \"val_tn\"]\n",
    "        for i in record_items:\n",
    "            if i not in self.params['metrics']:\n",
    "                self.params['metrics'].append(i)\n",
    "    \n",
    "    def on_epoch_end(self, epoch, logs = {}, thres=0.5):\n",
    "        logs = logs or {}\n",
    "        y_true = self.validation_data[1].argmax(axis = 1)\n",
    "        y_pred = self.model.predict(self.validation_data[0])\n",
    "        y_pred = (y_pred[:, 1] >= thres) * 1\n",
    "        \n",
    "        logs[\"val_f1sc\"] = f1_score(y_true = y_true, y_pred = y_pred, average=\"weighted\")\n",
    "        \n",
    "log_f1sc = f1sc()"
   ]
  },
  {
   "cell_type": "code",
   "execution_count": 13,
   "metadata": {
    "ExecuteTime": {
     "end_time": "2019-12-25T15:01:13.314543Z",
     "start_time": "2019-12-25T15:01:13.308582Z"
    }
   },
   "outputs": [
    {
     "data": {
      "text/plain": [
       "array([False,  True, False,  True, False])"
      ]
     },
     "execution_count": 13,
     "metadata": {},
     "output_type": "execute_result"
    }
   ],
   "source": [
    "actual = np.array([1,1,0,1,0])\n",
    "pred = np.array([0,1,0,1,0])\n",
    "(actual == 1) & (pred ==1)"
   ]
  },
  {
   "cell_type": "code",
   "execution_count": 15,
   "metadata": {
    "ExecuteTime": {
     "end_time": "2019-12-25T16:11:37.756407Z",
     "start_time": "2019-12-25T16:11:37.723556Z"
    }
   },
   "outputs": [],
   "source": [
    "# 載入 Callbacks\n",
    "from keras.callbacks import Callback\n",
    "\n",
    "# Record_fp_tp\n",
    "class Record_tp_tn(Callback):\n",
    "    \"\"\"Code Here\n",
    "    撰寫一個紀錄 ture positive 與 true negative 數量的 callbacks    \n",
    "    \"\"\"\n",
    "    def on_train_begin(self, epoch, logs = {}):\n",
    "        logs = logs or {}\n",
    "        record_items = [\"val_tp\", \"val_tn\"]\n",
    "        for i in record_items:\n",
    "            if i not in self.params['metrics']:\n",
    "                self.params['metrics'].append(i)\n",
    "    \n",
    "    def on_epoch_end(self, epoch, logs = {}, thres=0.5):\n",
    "        logs = logs or {}\n",
    "        y_true = self.validation_data[1].argmax(axis = 1)\n",
    "        y_pred = self.model.predict(self.validation_data[0])\n",
    "        y_pred = (y_pred[:, 1] >= thres) * 1\n",
    "        val_tp = (y_true == 1) & (y_pred ==1)\n",
    "        val_tn = (y_true == 0) & (y_pred ==0)\n",
    "        \n",
    "        logs[\"val_tp\"] = np.sum(val_tp)\n",
    "        logs[\"val_tn\"] = np.sum(val_tn)\n",
    "        \n",
    "rec_tptn = Record_tp_tn()"
   ]
  },
  {
   "cell_type": "code",
   "execution_count": 17,
   "metadata": {
    "ExecuteTime": {
     "end_time": "2019-12-25T16:33:31.405695Z",
     "start_time": "2019-12-25T16:32:16.282891Z"
    },
    "scrolled": true
   },
   "outputs": [
    {
     "name": "stdout",
     "output_type": "stream",
     "text": [
      "Model: \"model_2\"\n",
      "_________________________________________________________________\n",
      "Layer (type)                 Output Shape              Param #   \n",
      "=================================================================\n",
      "input_2 (InputLayer)         (None, 3072)              0         \n",
      "_________________________________________________________________\n",
      "hidden_layer1 (Dense)        (None, 512)               1573376   \n",
      "_________________________________________________________________\n",
      "batch_normalization_4 (Batch (None, 512)               2048      \n",
      "_________________________________________________________________\n",
      "hidden_layer2 (Dense)        (None, 256)               131328    \n",
      "_________________________________________________________________\n",
      "batch_normalization_5 (Batch (None, 256)               1024      \n",
      "_________________________________________________________________\n",
      "hidden_layer3 (Dense)        (None, 128)               32896     \n",
      "_________________________________________________________________\n",
      "batch_normalization_6 (Batch (None, 128)               512       \n",
      "_________________________________________________________________\n",
      "output (Dense)               (None, 10)                1290      \n",
      "=================================================================\n",
      "Total params: 1,742,474\n",
      "Trainable params: 1,740,682\n",
      "Non-trainable params: 1,792\n",
      "_________________________________________________________________\n",
      "Train on 5000 samples, validate on 10000 samples\n",
      "Epoch 1/25\n",
      "5000/5000 [==============================] - 5s 924us/step - loss: 2.9401 - accuracy: 0.1230 - val_loss: 2.3799 - val_accuracy: 0.1003\n",
      "Epoch 2/25\n",
      "5000/5000 [==============================] - 2s 391us/step - loss: 2.5423 - accuracy: 0.1910 - val_loss: 2.3328 - val_accuracy: 0.1133\n",
      "Epoch 3/25\n",
      "5000/5000 [==============================] - 2s 346us/step - loss: 2.2519 - accuracy: 0.2556 - val_loss: 2.2954 - val_accuracy: 0.1336\n",
      "Epoch 4/25\n",
      "5000/5000 [==============================] - 2s 305us/step - loss: 2.0608 - accuracy: 0.3070 - val_loss: 2.2626 - val_accuracy: 0.1417\n",
      "Epoch 5/25\n",
      "5000/5000 [==============================] - 2s 350us/step - loss: 1.9154 - accuracy: 0.3496 - val_loss: 2.2353 - val_accuracy: 0.1515\n",
      "Epoch 6/25\n",
      "5000/5000 [==============================] - 2s 336us/step - loss: 1.8016 - accuracy: 0.3804 - val_loss: 2.2168 - val_accuracy: 0.1504\n",
      "Epoch 7/25\n",
      "5000/5000 [==============================] - 2s 303us/step - loss: 1.7024 - accuracy: 0.4120 - val_loss: 2.2024 - val_accuracy: 0.1556\n",
      "Epoch 8/25\n",
      "5000/5000 [==============================] - 1s 270us/step - loss: 1.6155 - accuracy: 0.4370 - val_loss: 2.1880 - val_accuracy: 0.1655\n",
      "Epoch 9/25\n",
      "5000/5000 [==============================] - 1s 220us/step - loss: 1.5361 - accuracy: 0.4622 - val_loss: 2.1720 - val_accuracy: 0.1773\n",
      "Epoch 10/25\n",
      "5000/5000 [==============================] - 1s 300us/step - loss: 1.4700 - accuracy: 0.4910 - val_loss: 2.1563 - val_accuracy: 0.1903\n",
      "Epoch 11/25\n",
      "5000/5000 [==============================] - 1s 293us/step - loss: 1.4107 - accuracy: 0.5148 - val_loss: 2.1405 - val_accuracy: 0.2084\n",
      "Epoch 12/25\n",
      "5000/5000 [==============================] - 2s 354us/step - loss: 1.3554 - accuracy: 0.5396 - val_loss: 2.1254 - val_accuracy: 0.2219\n",
      "Epoch 13/25\n",
      "5000/5000 [==============================] - 2s 332us/step - loss: 1.3013 - accuracy: 0.5636 - val_loss: 2.1110 - val_accuracy: 0.2314\n",
      "Epoch 14/25\n",
      "5000/5000 [==============================] - 2s 321us/step - loss: 1.2540 - accuracy: 0.5888 - val_loss: 2.0975 - val_accuracy: 0.2444\n",
      "Epoch 15/25\n",
      "5000/5000 [==============================] - 2s 303us/step - loss: 1.2076 - accuracy: 0.6178 - val_loss: 2.0854 - val_accuracy: 0.2556\n",
      "Epoch 16/25\n",
      "5000/5000 [==============================] - 2s 308us/step - loss: 1.1662 - accuracy: 0.6294 - val_loss: 2.0749 - val_accuracy: 0.2626\n",
      "Epoch 17/25\n",
      "5000/5000 [==============================] - 2s 310us/step - loss: 1.1275 - accuracy: 0.6494 - val_loss: 2.0626 - val_accuracy: 0.2733\n",
      "Epoch 18/25\n",
      "5000/5000 [==============================] - 2s 316us/step - loss: 1.0902 - accuracy: 0.6666 - val_loss: 2.0477 - val_accuracy: 0.2823\n",
      "Epoch 19/25\n",
      "5000/5000 [==============================] - 2s 353us/step - loss: 1.0517 - accuracy: 0.6902 - val_loss: 2.0345 - val_accuracy: 0.2890\n",
      "Epoch 20/25\n",
      "5000/5000 [==============================] - 2s 344us/step - loss: 1.0193 - accuracy: 0.7060 - val_loss: 2.0228 - val_accuracy: 0.2962\n",
      "Epoch 21/25\n",
      "5000/5000 [==============================] - 2s 341us/step - loss: 0.9871 - accuracy: 0.7188 - val_loss: 2.0132 - val_accuracy: 0.2984\n",
      "Epoch 22/25\n",
      "5000/5000 [==============================] - 2s 328us/step - loss: 0.9568 - accuracy: 0.7358 - val_loss: 2.0026 - val_accuracy: 0.3046\n",
      "Epoch 23/25\n",
      "5000/5000 [==============================] - 1s 296us/step - loss: 0.9280 - accuracy: 0.7468 - val_loss: 1.9923 - val_accuracy: 0.3057\n",
      "Epoch 24/25\n",
      "5000/5000 [==============================] - 1s 257us/step - loss: 0.8985 - accuracy: 0.7606 - val_loss: 1.9848 - val_accuracy: 0.3126\n",
      "Epoch 25/25\n",
      "5000/5000 [==============================] - 1s 232us/step - loss: 0.8715 - accuracy: 0.7766 - val_loss: 1.9741 - val_accuracy: 0.3177\n"
     ]
    }
   ],
   "source": [
    "model = build_mlp(input_shape=x_train.shape[1:])\n",
    "model.summary()\n",
    "optimizer = keras.optimizers.SGD(lr=LEARNING_RATE, nesterov=True, momentum=MOMENTUM)\n",
    "model.compile(loss=\"categorical_crossentropy\", metrics=[\"accuracy\"], optimizer=optimizer)\n",
    "\n",
    "\"\"\"Code Here\n",
    "將 callbacks 放入模型訓練流程中\n",
    "\"\"\"\n",
    "model.fit(x_train, y_train, \n",
    "          epochs=EPOCHS, \n",
    "          batch_size=BATCH_SIZE, \n",
    "          validation_data=(x_test, y_test), \n",
    "          shuffle=True,\n",
    "          callbacks=[rec_tptn]\n",
    "         )\n",
    "\n",
    "\n",
    "# Collect results\n",
    "train_loss = model.history.history[\"loss\"]\n",
    "valid_loss = model.history.history[\"val_loss\"]\n",
    "train_acc = model.history.history[\"accuracy\"]\n",
    "valid_acc = model.history.history[\"val_accuracy\"]\n",
    "\n",
    "\"\"\"Code Here\n",
    "將 tp/tn 從訓練完的模型中取出\n",
    "\"\"\"\n",
    "valid_tp = model.history.history['val_tp']\n",
    "valid_tn = model.history.history['val_tn']"
   ]
  },
  {
   "cell_type": "code",
   "execution_count": 18,
   "metadata": {
    "ExecuteTime": {
     "end_time": "2019-12-25T16:33:33.459223Z",
     "start_time": "2019-12-25T16:33:31.413585Z"
    }
   },
   "outputs": [
    {
     "data": {
      "image/png": "[encoded data removed]",
      "text/plain": [
       "<Figure size 432x288 with 1 Axes>"
      ]
     },
     "metadata": {
      "needs_background": "light"
     },
     "output_type": "display_data"
    },
    {
     "data": {
      "image/png": "[encoded data removed]",
      "text/plain": [
       "<Figure size 432x288 with 1 Axes>"
      ]
     },
     "metadata": {
      "needs_background": "light"
     },
     "output_type": "display_data"
    },
    {
     "data": {
      "image/png": "[encoded data removed]",
      "text/plain": [
       "<Figure size 432x288 with 1 Axes>"
      ]
     },
     "metadata": {
      "needs_background": "light"
     },
     "output_type": "display_data"
    }
   ],
   "source": [
    "import matplotlib.pyplot as plt\n",
    "%matplotlib inline\n",
    "\n",
    "plt.plot(range(len(train_loss)), train_loss, label=\"train loss\")\n",
    "plt.plot(range(len(valid_loss)), valid_loss, label=\"valid loss\")\n",
    "plt.legend()\n",
    "plt.title(\"Loss\")\n",
    "plt.show()\n",
    "\n",
    "plt.plot(range(len(train_acc)), train_acc, label=\"train accuracy\")\n",
    "plt.plot(range(len(valid_acc)), valid_acc, label=\"valid accuracy\")\n",
    "plt.legend()\n",
    "plt.title(\"Accuracy\")\n",
    "plt.show()\n",
    "\n",
    "plt.plot(range(len(valid_tp)), valid_tp, label=\"valid tp\", color=\"navy\")\n",
    "plt.plot(range(len(valid_tn)), valid_tn, label=\"valid tn\", color=\"red\")\n",
    "plt.legend()\n",
    "plt.title(\"True positives and True Negatives\")\n",
    "plt.show()\n"
   ]
  },
  {
   "cell_type": "code",
   "execution_count": 19,
   "metadata": {
    "ExecuteTime": {
     "end_time": "2019-12-25T16:34:46.510939Z",
     "start_time": "2019-12-25T16:34:46.507588Z"
    }
   },
   "outputs": [],
   "source": [
    "# I think the last chart showing this is due to threshold setting at 0.5"
   ]
  },
  {
   "cell_type": "code",
   "execution_count": null,
   "metadata": {},
   "outputs": [],
   "source": []
  }
 ],
 "metadata": {
  "hide_input": false,
  "kernelspec": {
   "display_name": "Python 3",
   "language": "python",
   "name": "python3"
  },
  "language_info": {
   "codemirror_mode": {
    "name": "ipython",
    "version": 3
   },
   "file_extension": ".py",
   "mimetype": "text/x-python",
   "name": "python",
   "nbconvert_exporter": "python",
   "pygments_lexer": "ipython3",
   "version": "3.6.9"
  },
  "toc": {
   "base_numbering": 1,
   "nav_menu": {},
   "number_sections": true,
   "sideBar": true,
   "skip_h1_title": false,
   "title_cell": "Table of Contents",
   "title_sidebar": "Contents",
   "toc_cell": false,
   "toc_position": {},
   "toc_section_display": true,
   "toc_window_display": false
  }
 },
 "nbformat": 4,
 "nbformat_minor": 2
}
