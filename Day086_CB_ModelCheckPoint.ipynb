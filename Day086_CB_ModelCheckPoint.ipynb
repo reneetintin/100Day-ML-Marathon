{
 "cells": [
  {
   "cell_type": "markdown",
   "metadata": {},
   "source": [
    "## 範例重點\n",
    "* 學習如何在 keras 中加入 model checkpoint\n",
    "* 知道如何設定監控目標\n",
    "* 比較使用最佳與非最佳參數時的 performance"
   ]
  },
  {
   "cell_type": "code",
   "execution_count": 34,
   "metadata": {
    "ExecuteTime": {
     "end_time": "2019-12-24T09:37:23.790856Z",
     "start_time": "2019-12-24T09:37:23.765710Z"
    }
   },
   "outputs": [],
   "source": [
    "import os\n",
    "import keras\n",
    "\n",
    "# 本範例不需使用 GPU, 將 GPU 設定為 \"無\"\n",
    "os.environ[\"CUDA_VISIBLE_DEVICES\"] = \"\""
   ]
  },
  {
   "cell_type": "code",
   "execution_count": 36,
   "metadata": {
    "ExecuteTime": {
     "end_time": "2019-12-24T09:39:59.998142Z",
     "start_time": "2019-12-24T09:39:59.664869Z"
    }
   },
   "outputs": [],
   "source": [
    "train, test = keras.datasets.cifar10.load_data()"
   ]
  },
  {
   "cell_type": "code",
   "execution_count": 37,
   "metadata": {
    "ExecuteTime": {
     "end_time": "2019-12-24T09:40:00.416434Z",
     "start_time": "2019-12-24T09:40:00.411490Z"
    }
   },
   "outputs": [],
   "source": [
    "## 資料前處理\n",
    "def preproc_x(x, flatten=True):\n",
    "    x = x / 255.\n",
    "    if flatten:\n",
    "        x = x.reshape((len(x), -1))\n",
    "    return x\n",
    "\n",
    "def preproc_y(y, num_classes=10):\n",
    "    if y.shape[-1] == 1:\n",
    "        y = keras.utils.to_categorical(y, num_classes)\n",
    "    return y    "
   ]
  },
  {
   "cell_type": "code",
   "execution_count": 38,
   "metadata": {
    "ExecuteTime": {
     "end_time": "2019-12-24T09:40:04.232917Z",
     "start_time": "2019-12-24T09:40:01.028648Z"
    }
   },
   "outputs": [],
   "source": [
    "x_train, y_train = train\n",
    "x_test, y_test = test\n",
    "\n",
    "# 資料前處理 - X 標準化\n",
    "x_train = preproc_x(x_train)\n",
    "x_test = preproc_x(x_test)\n",
    "\n",
    "# 資料前處理 -Y 轉成 onehot\n",
    "y_train = preproc_y(y_train)\n",
    "y_test = preproc_y(y_test)"
   ]
  },
  {
   "cell_type": "code",
   "execution_count": 39,
   "metadata": {
    "ExecuteTime": {
     "end_time": "2019-12-24T09:40:04.238502Z",
     "start_time": "2019-12-24T09:40:04.235010Z"
    }
   },
   "outputs": [],
   "source": [
    "# x_test.shape"
   ]
  },
  {
   "cell_type": "code",
   "execution_count": 40,
   "metadata": {
    "ExecuteTime": {
     "end_time": "2019-12-24T09:40:04.248211Z",
     "start_time": "2019-12-24T09:40:04.241968Z"
    }
   },
   "outputs": [],
   "source": [
    "import numpy as np\n",
    "\n",
    "a = np.arange(50000)\n",
    "np.random.shuffle(a)\n",
    "indexs = a[:5000]\n",
    "\n",
    "x_train = x_train[indexs]\n",
    "y_train = y_train[indexs]"
   ]
  },
  {
   "cell_type": "code",
   "execution_count": 43,
   "metadata": {
    "ExecuteTime": {
     "end_time": "2019-12-24T09:40:07.706220Z",
     "start_time": "2019-12-24T09:40:07.689461Z"
    }
   },
   "outputs": [],
   "source": [
    "from keras.layers import BatchNormalization\n",
    "\n",
    "\"\"\"\n",
    "建立神經網路，並加入 BN layer\n",
    "\"\"\"\n",
    "def build_mlp(input_shape, output_units=10, num_neurons=[512, 256, 128]):\n",
    "    input_layer = keras.layers.Input(input_shape)\n",
    "    \n",
    "    for i, n_units in enumerate(num_neurons):\n",
    "        if i == 0:\n",
    "            x = keras.layers.Dense(units=n_units, \n",
    "                                   activation=\"relu\", \n",
    "                                   name=\"hidden_layer\"+str(i+1))(input_layer)\n",
    "            x = BatchNormalization()(x)\n",
    "        else:\n",
    "            x = keras.layers.Dense(units=n_units, \n",
    "                                   activation=\"relu\", \n",
    "                                   name=\"hidden_layer\"+str(i+1))(x)\n",
    "            x = BatchNormalization()(x)\n",
    "    \n",
    "    out = keras.layers.Dense(units=output_units, activation=\"softmax\", name=\"output\")(x)\n",
    "    \n",
    "    model = keras.models.Model(inputs=[input_layer], outputs=[out])\n",
    "    return model"
   ]
  },
  {
   "cell_type": "code",
   "execution_count": 44,
   "metadata": {
    "ExecuteTime": {
     "end_time": "2019-12-24T09:40:11.995228Z",
     "start_time": "2019-12-24T09:40:11.988999Z"
    }
   },
   "outputs": [],
   "source": [
    "## 超參數設定\n",
    "LEARNING_RATE = 1e-3\n",
    "EPOCHS = 50\n",
    "BATCH_SIZE = 1024\n",
    "MOMENTUM = 0.95"
   ]
  },
  {
   "cell_type": "code",
   "execution_count": 45,
   "metadata": {
    "ExecuteTime": {
     "end_time": "2019-12-24T09:40:13.310820Z",
     "start_time": "2019-12-24T09:40:13.300945Z"
    }
   },
   "outputs": [],
   "source": [
    "\"\"\"\n",
    "# 載入 Callbacks, 並將監控目標設為 validation loss, 且只存最佳參數時的模型\n",
    "\"\"\"\n",
    "from keras.callbacks import ModelCheckpoint\n",
    "\n",
    "model_ckpt = ModelCheckpoint(filepath=\"./tmp.h5\", \n",
    "                             monitor=\"val_loss\", \n",
    "                             save_best_only=True)"
   ]
  },
  {
   "cell_type": "code",
   "execution_count": 47,
   "metadata": {
    "ExecuteTime": {
     "end_time": "2019-12-24T09:43:53.757495Z",
     "start_time": "2019-12-24T09:42:58.307903Z"
    },
    "scrolled": true
   },
   "outputs": [
    {
     "name": "stdout",
     "output_type": "stream",
     "text": [
      "Model: \"model_2\"\n",
      "_________________________________________________________________\n",
      "Layer (type)                 Output Shape              Param #   \n",
      "=================================================================\n",
      "input_2 (InputLayer)         (None, 3072)              0         \n",
      "_________________________________________________________________\n",
      "hidden_layer1 (Dense)        (None, 512)               1573376   \n",
      "_________________________________________________________________\n",
      "batch_normalization_4 (Batch (None, 512)               2048      \n",
      "_________________________________________________________________\n",
      "hidden_layer2 (Dense)        (None, 256)               131328    \n",
      "_________________________________________________________________\n",
      "batch_normalization_5 (Batch (None, 256)               1024      \n",
      "_________________________________________________________________\n",
      "hidden_layer3 (Dense)        (None, 128)               32896     \n",
      "_________________________________________________________________\n",
      "batch_normalization_6 (Batch (None, 128)               512       \n",
      "_________________________________________________________________\n",
      "output (Dense)               (None, 10)                1290      \n",
      "=================================================================\n",
      "Total params: 1,742,474\n",
      "Trainable params: 1,740,682\n",
      "Non-trainable params: 1,792\n",
      "_________________________________________________________________\n",
      "Train on 5000 samples, validate on 10000 samples\n",
      "Epoch 1/50\n",
      "5000/5000 [==============================] - 2s 319us/step - loss: 2.9370 - accuracy: 0.1038 - val_loss: 2.3596 - val_accuracy: 0.1092\n",
      "Epoch 2/50\n",
      "5000/5000 [==============================] - 1s 235us/step - loss: 2.5229 - accuracy: 0.1720 - val_loss: 2.3267 - val_accuracy: 0.1336\n",
      "Epoch 3/50\n",
      "5000/5000 [==============================] - 1s 210us/step - loss: 2.2579 - accuracy: 0.2412 - val_loss: 2.3239 - val_accuracy: 0.1121\n",
      "Epoch 4/50\n",
      "5000/5000 [==============================] - 1s 219us/step - loss: 2.0636 - accuracy: 0.2940 - val_loss: 2.3172 - val_accuracy: 0.1097\n",
      "Epoch 5/50\n",
      "5000/5000 [==============================] - 1s 185us/step - loss: 1.9266 - accuracy: 0.3410 - val_loss: 2.3012 - val_accuracy: 0.1147\n",
      "Epoch 6/50\n",
      "5000/5000 [==============================] - 1s 183us/step - loss: 1.8119 - accuracy: 0.3752 - val_loss: 2.2685 - val_accuracy: 0.1288\n",
      "Epoch 7/50\n",
      "5000/5000 [==============================] - 1s 183us/step - loss: 1.7094 - accuracy: 0.4034 - val_loss: 2.2394 - val_accuracy: 0.1462\n",
      "Epoch 8/50\n",
      "5000/5000 [==============================] - 1s 184us/step - loss: 1.6207 - accuracy: 0.4442 - val_loss: 2.2128 - val_accuracy: 0.1607\n",
      "Epoch 9/50\n",
      "5000/5000 [==============================] - 1s 182us/step - loss: 1.5499 - accuracy: 0.4718 - val_loss: 2.1864 - val_accuracy: 0.1780\n",
      "Epoch 10/50\n",
      "5000/5000 [==============================] - 1s 184us/step - loss: 1.4796 - accuracy: 0.4964 - val_loss: 2.1583 - val_accuracy: 0.1969\n",
      "Epoch 11/50\n",
      "5000/5000 [==============================] - 1s 201us/step - loss: 1.4236 - accuracy: 0.5232 - val_loss: 2.1367 - val_accuracy: 0.2164\n",
      "Epoch 12/50\n",
      "5000/5000 [==============================] - 1s 215us/step - loss: 1.3718 - accuracy: 0.5458 - val_loss: 2.1179 - val_accuracy: 0.2298\n",
      "Epoch 13/50\n",
      "5000/5000 [==============================] - 1s 212us/step - loss: 1.3220 - accuracy: 0.5576 - val_loss: 2.1004 - val_accuracy: 0.2394\n",
      "Epoch 14/50\n",
      "5000/5000 [==============================] - 1s 234us/step - loss: 1.2746 - accuracy: 0.5802 - val_loss: 2.0854 - val_accuracy: 0.2497\n",
      "Epoch 15/50\n",
      "5000/5000 [==============================] - 1s 188us/step - loss: 1.2353 - accuracy: 0.6006 - val_loss: 2.0737 - val_accuracy: 0.2558\n",
      "Epoch 16/50\n",
      "5000/5000 [==============================] - 1s 188us/step - loss: 1.1931 - accuracy: 0.6128 - val_loss: 2.0618 - val_accuracy: 0.2640\n",
      "Epoch 17/50\n",
      "5000/5000 [==============================] - 1s 191us/step - loss: 1.1511 - accuracy: 0.6376 - val_loss: 2.0473 - val_accuracy: 0.2766\n",
      "Epoch 18/50\n",
      "5000/5000 [==============================] - 1s 193us/step - loss: 1.1163 - accuracy: 0.6536 - val_loss: 2.0339 - val_accuracy: 0.2860\n",
      "Epoch 19/50\n",
      "5000/5000 [==============================] - 1s 194us/step - loss: 1.0847 - accuracy: 0.6658 - val_loss: 2.0207 - val_accuracy: 0.2935\n",
      "Epoch 20/50\n",
      "5000/5000 [==============================] - 1s 252us/step - loss: 1.0511 - accuracy: 0.6778 - val_loss: 2.0075 - val_accuracy: 0.3010\n",
      "Epoch 21/50\n",
      "5000/5000 [==============================] - 1s 193us/step - loss: 1.0205 - accuracy: 0.6966 - val_loss: 1.9952 - val_accuracy: 0.3064\n",
      "Epoch 22/50\n",
      "5000/5000 [==============================] - 1s 224us/step - loss: 0.9884 - accuracy: 0.7080 - val_loss: 1.9831 - val_accuracy: 0.3117\n",
      "Epoch 23/50\n",
      "5000/5000 [==============================] - 1s 214us/step - loss: 0.9616 - accuracy: 0.7228 - val_loss: 1.9712 - val_accuracy: 0.3209\n",
      "Epoch 24/50\n",
      "5000/5000 [==============================] - 1s 218us/step - loss: 0.9308 - accuracy: 0.7358 - val_loss: 1.9587 - val_accuracy: 0.3262\n",
      "Epoch 25/50\n",
      "5000/5000 [==============================] - 1s 211us/step - loss: 0.9050 - accuracy: 0.7434 - val_loss: 1.9481 - val_accuracy: 0.3285\n",
      "Epoch 26/50\n",
      "5000/5000 [==============================] - 1s 194us/step - loss: 0.8798 - accuracy: 0.7570 - val_loss: 1.9377 - val_accuracy: 0.3331\n",
      "Epoch 27/50\n",
      "5000/5000 [==============================] - 1s 192us/step - loss: 0.8540 - accuracy: 0.7668 - val_loss: 1.9259 - val_accuracy: 0.3385\n",
      "Epoch 28/50\n",
      "5000/5000 [==============================] - 1s 204us/step - loss: 0.8320 - accuracy: 0.7796 - val_loss: 1.9153 - val_accuracy: 0.3422\n",
      "Epoch 29/50\n",
      "5000/5000 [==============================] - 1s 244us/step - loss: 0.8097 - accuracy: 0.7860 - val_loss: 1.9048 - val_accuracy: 0.3454\n",
      "Epoch 30/50\n",
      "5000/5000 [==============================] - 1s 221us/step - loss: 0.7827 - accuracy: 0.8014 - val_loss: 1.8964 - val_accuracy: 0.3477\n",
      "Epoch 31/50\n",
      "5000/5000 [==============================] - 1s 201us/step - loss: 0.7610 - accuracy: 0.8088 - val_loss: 1.8883 - val_accuracy: 0.3501\n",
      "Epoch 32/50\n",
      "5000/5000 [==============================] - 1s 234us/step - loss: 0.7411 - accuracy: 0.8172 - val_loss: 1.8798 - val_accuracy: 0.3523\n",
      "Epoch 33/50\n",
      "5000/5000 [==============================] - 1s 205us/step - loss: 0.7193 - accuracy: 0.8278 - val_loss: 1.8704 - val_accuracy: 0.3558\n",
      "Epoch 34/50\n",
      "5000/5000 [==============================] - 1s 193us/step - loss: 0.7000 - accuracy: 0.8400 - val_loss: 1.8620 - val_accuracy: 0.3553\n",
      "Epoch 35/50\n",
      "5000/5000 [==============================] - 1s 189us/step - loss: 0.6796 - accuracy: 0.8468 - val_loss: 1.8542 - val_accuracy: 0.3571\n",
      "Epoch 36/50\n",
      "5000/5000 [==============================] - 1s 183us/step - loss: 0.6622 - accuracy: 0.8556 - val_loss: 1.8446 - val_accuracy: 0.3595\n",
      "Epoch 37/50\n",
      "5000/5000 [==============================] - 1s 184us/step - loss: 0.6414 - accuracy: 0.8614 - val_loss: 1.8356 - val_accuracy: 0.3626\n",
      "Epoch 38/50\n",
      "5000/5000 [==============================] - 1s 181us/step - loss: 0.6233 - accuracy: 0.8722 - val_loss: 1.8282 - val_accuracy: 0.3635\n",
      "Epoch 39/50\n",
      "5000/5000 [==============================] - 1s 188us/step - loss: 0.6066 - accuracy: 0.8776 - val_loss: 1.8206 - val_accuracy: 0.3652\n",
      "Epoch 40/50\n",
      "5000/5000 [==============================] - 1s 191us/step - loss: 0.5892 - accuracy: 0.8848 - val_loss: 1.8125 - val_accuracy: 0.3688\n",
      "Epoch 41/50\n",
      "5000/5000 [==============================] - 1s 188us/step - loss: 0.5715 - accuracy: 0.8898 - val_loss: 1.8064 - val_accuracy: 0.3695\n",
      "Epoch 42/50\n",
      "5000/5000 [==============================] - 1s 214us/step - loss: 0.5532 - accuracy: 0.8942 - val_loss: 1.8003 - val_accuracy: 0.3701\n",
      "Epoch 43/50\n",
      "5000/5000 [==============================] - 1s 202us/step - loss: 0.5375 - accuracy: 0.9036 - val_loss: 1.7961 - val_accuracy: 0.3705\n",
      "Epoch 44/50\n",
      "5000/5000 [==============================] - 1s 190us/step - loss: 0.5252 - accuracy: 0.9068 - val_loss: 1.7914 - val_accuracy: 0.3719\n",
      "Epoch 45/50\n",
      "5000/5000 [==============================] - 1s 189us/step - loss: 0.5086 - accuracy: 0.9118 - val_loss: 1.7883 - val_accuracy: 0.3723\n",
      "Epoch 46/50\n",
      "5000/5000 [==============================] - 1s 211us/step - loss: 0.4947 - accuracy: 0.9168 - val_loss: 1.7815 - val_accuracy: 0.3756\n"
     ]
    },
    {
     "name": "stdout",
     "output_type": "stream",
     "text": [
      "Epoch 47/50\n",
      "5000/5000 [==============================] - 1s 186us/step - loss: 0.4785 - accuracy: 0.9208 - val_loss: 1.7772 - val_accuracy: 0.3767\n",
      "Epoch 48/50\n",
      "5000/5000 [==============================] - 1s 185us/step - loss: 0.4653 - accuracy: 0.9260 - val_loss: 1.7760 - val_accuracy: 0.3742\n",
      "Epoch 49/50\n",
      "5000/5000 [==============================] - 1s 183us/step - loss: 0.4517 - accuracy: 0.9314 - val_loss: 1.7735 - val_accuracy: 0.3767\n",
      "Epoch 50/50\n",
      "5000/5000 [==============================] - 1s 212us/step - loss: 0.4398 - accuracy: 0.9334 - val_loss: 1.7686 - val_accuracy: 0.3770\n",
      "10000/10000 [==============================] - 1s 95us/step\n"
     ]
    }
   ],
   "source": [
    "model = build_mlp(input_shape=x_train.shape[1:])\n",
    "model.summary()\n",
    "optimizer = keras.optimizers.SGD(lr=LEARNING_RATE, nesterov=True, momentum=MOMENTUM)\n",
    "model.compile(loss=\"categorical_crossentropy\", metrics=[\"accuracy\"], optimizer=optimizer)\n",
    "\n",
    "model.fit(x_train, y_train, \n",
    "          epochs=EPOCHS, \n",
    "          batch_size=BATCH_SIZE, \n",
    "          validation_data=(x_test, y_test), \n",
    "          shuffle=True,\n",
    "          callbacks=[model_ckpt]\n",
    "         )\n",
    "\n",
    "# Collect results\n",
    "train_loss = model.history.history[\"loss\"]\n",
    "valid_loss = model.history.history[\"val_loss\"]\n",
    "train_acc = model.history.history[\"accuracy\"]\n",
    "valid_acc = model.history.history[\"val_accuracy\"]\n",
    "\n",
    "# Load back\n",
    "model = keras.models.load_model(\"./tmp.h5\")\n",
    "loss_loadback, acc_loadback = model.evaluate(x_test, y_test)"
   ]
  },
  {
   "cell_type": "code",
   "execution_count": 48,
   "metadata": {
    "ExecuteTime": {
     "end_time": "2019-12-24T09:43:53.765380Z",
     "start_time": "2019-12-24T09:43:53.759280Z"
    }
   },
   "outputs": [
    {
     "data": {
      "text/plain": [
       "<keras.engine.training.Model at 0x133cb5c18>"
      ]
     },
     "execution_count": 48,
     "metadata": {},
     "output_type": "execute_result"
    }
   ],
   "source": [
    "model"
   ]
  },
  {
   "cell_type": "code",
   "execution_count": 49,
   "metadata": {
    "ExecuteTime": {
     "end_time": "2019-12-25T14:03:52.780761Z",
     "start_time": "2019-12-25T14:03:51.548595Z"
    }
   },
   "outputs": [
    {
     "data": {
      "image/png": "[encoded data removed]",
      "text/plain": [
       "<Figure size 432x288 with 1 Axes>"
      ]
     },
     "metadata": {
      "needs_background": "light"
     },
     "output_type": "display_data"
    },
    {
     "data": {
      "image/png": "[encoded data removed]",
      "text/plain": [
       "<Figure size 432x288 with 1 Axes>"
      ]
     },
     "metadata": {
      "needs_background": "light"
     },
     "output_type": "display_data"
    }
   ],
   "source": [
    "import matplotlib.pyplot as plt\n",
    "%matplotlib inline\n",
    "\n",
    "plt.plot(range(len(train_loss)), train_loss, label=\"train loss\")\n",
    "plt.plot(range(len(valid_loss)), valid_loss, label=\"valid loss\")\n",
    "plt.hlines(y=loss_loadback, xmin=0, xmax=len(train_loss), colors='r', linestyles='--')\n",
    "plt.legend()\n",
    "plt.title(\"Loss\")\n",
    "plt.show()\n",
    "\n",
    "plt.plot(range(len(train_acc)), train_acc, label=\"train accuracy\")\n",
    "plt.plot(range(len(valid_acc)), valid_acc, label=\"valid accuracy\")\n",
    "plt.hlines(y=acc_loadback, xmin=0, xmax=len(train_loss), colors='r', linestyles='--')\n",
    "plt.legend()\n",
    "plt.title(\"Accuracy\")\n",
    "plt.show()"
   ]
  },
  {
   "cell_type": "markdown",
   "metadata": {},
   "source": [
    "## Work\n",
    "1. 試比較 save_best_only 與否的差異\n",
    "2. 請僅存入將 save_weights_only 設定為 True, 並嘗試 reset ipynb 並將模型與權重重新建回並預測 x_test"
   ]
  }
 ],
 "metadata": {
  "hide_input": false,
  "kernelspec": {
   "display_name": "Python 3",
   "language": "python",
   "name": "python3"
  },
  "language_info": {
   "codemirror_mode": {
    "name": "ipython",
    "version": 3
   },
   "file_extension": ".py",
   "mimetype": "text/x-python",
   "name": "python",
   "nbconvert_exporter": "python",
   "pygments_lexer": "ipython3",
   "version": "3.6.9"
  },
  "toc": {
   "base_numbering": 1,
   "nav_menu": {},
   "number_sections": true,
   "sideBar": true,
   "skip_h1_title": false,
   "title_cell": "Table of Contents",
   "title_sidebar": "Contents",
   "toc_cell": false,
   "toc_position": {},
   "toc_section_display": true,
   "toc_window_display": false
  }
 },
 "nbformat": 4,
 "nbformat_minor": 2
}
