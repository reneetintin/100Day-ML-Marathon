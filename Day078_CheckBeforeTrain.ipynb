{
 "cells": [
  {
   "cell_type": "markdown",
   "metadata": {},
   "source": [
    "## 範例重點\n",
    "### 學習在模型開始前檢查各個環節\n",
    "1. 是否有 GPU 資源\n",
    "2. 將前處理轉為函式，統一處理訓練、驗證與測試集\n",
    "3. 將超參數變數化，易於重複使用函式、模型等"
   ]
  },
  {
   "cell_type": "code",
   "execution_count": 1,
   "metadata": {
    "ExecuteTime": {
     "end_time": "2019-12-21T16:33:14.321631Z",
     "start_time": "2019-12-21T16:33:14.130559Z"
    }
   },
   "outputs": [
    {
     "name": "stdout",
     "output_type": "stream",
     "text": [
      "/bin/sh: nvidia-smi: command not found\r\n"
     ]
    }
   ],
   "source": [
    "## 確認硬體資源 (如果你是在 Linux, 若是在 Windows, 請參考 https://blog.csdn.net/idwtwt/article/details/78017565)\n",
    "!nvidia-smi"
   ]
  },
  {
   "cell_type": "code",
   "execution_count": 3,
   "metadata": {
    "ExecuteTime": {
     "end_time": "2019-12-21T16:33:36.931995Z",
     "start_time": "2019-12-21T16:33:36.915241Z"
    }
   },
   "outputs": [],
   "source": [
    "import os\n",
    "import tensorflow.keras as keras\n",
    "\n",
    "# 本範例不需使用 GPU, 將 GPU 設定為 \"無\"\n",
    "os.environ[\"CUDA_VISIBLE_DEVICES\"] = \"\""
   ]
  },
  {
   "cell_type": "code",
   "execution_count": 4,
   "metadata": {
    "ExecuteTime": {
     "end_time": "2019-12-21T16:33:39.043599Z",
     "start_time": "2019-12-21T16:33:36.935876Z"
    }
   },
   "outputs": [],
   "source": [
    "# 從 Keras 的內建功能中，取得 train 與 test 資料集\n",
    "train, test = keras.datasets.cifar10.load_data()"
   ]
  },
  {
   "cell_type": "code",
   "execution_count": 5,
   "metadata": {
    "ExecuteTime": {
     "end_time": "2019-12-21T16:33:58.146771Z",
     "start_time": "2019-12-21T16:33:58.138092Z"
    }
   },
   "outputs": [],
   "source": [
    "## 資料前處理\n",
    "def preproc_x(x, flatten=True):\n",
    "    x = x / 255.\n",
    "    if flatten:\n",
    "        x = x.reshape((len(x), -1))\n",
    "    return x\n",
    "\n",
    "def preproc_y(y, num_classes=10):\n",
    "    if y.shape[-1] == 1:\n",
    "        y = keras.utils.to_categorical(y, num_classes)\n",
    "    return y    "
   ]
  },
  {
   "cell_type": "code",
   "execution_count": 6,
   "metadata": {
    "ExecuteTime": {
     "end_time": "2019-12-21T16:34:31.577457Z",
     "start_time": "2019-12-21T16:34:03.520785Z"
    }
   },
   "outputs": [],
   "source": [
    "x_train, y_train = train\n",
    "x_test, y_test = test\n",
    "\n",
    "# 資料前處理 - X 標準化\n",
    "x_train = preproc_x(x_train)\n",
    "x_test = preproc_x(x_test)\n",
    "\n",
    "# 資料前處理 -Y 轉成 onehot\n",
    "y_train = preproc_y(y_train)\n",
    "y_test = preproc_y(y_test)"
   ]
  },
  {
   "cell_type": "code",
   "execution_count": 7,
   "metadata": {
    "ExecuteTime": {
     "end_time": "2019-12-21T16:34:31.728332Z",
     "start_time": "2019-12-21T16:34:31.635335Z"
    }
   },
   "outputs": [],
   "source": [
    "def build_mlp(input_shape, output_units=10, num_neurons=[512, 256, 128]):\n",
    "    input_layer = keras.layers.Input(input_shape)\n",
    "    \n",
    "    for i, n_units in enumerate(num_neurons):\n",
    "        if i == 0:\n",
    "            x = keras.layers.Dense(units=n_units, activation=\"relu\", name=\"hidden_layer\"+str(i+1))(input_layer)\n",
    "        else:\n",
    "            x = keras.layers.Dense(units=n_units, activation=\"relu\", name=\"hidden_layer\"+str(i+1))(x)\n",
    "    \n",
    "    out = keras.layers.Dense(units=output_units, activation=\"softmax\", name=\"output\")(x)\n",
    "    \n",
    "    model = keras.models.Model(inputs=[input_layer], outputs=[out])\n",
    "    return model"
   ]
  },
  {
   "cell_type": "code",
   "execution_count": 8,
   "metadata": {
    "ExecuteTime": {
     "end_time": "2019-12-21T16:34:32.805444Z",
     "start_time": "2019-12-21T16:34:31.741851Z"
    }
   },
   "outputs": [
    {
     "name": "stdout",
     "output_type": "stream",
     "text": [
      "_________________________________________________________________\n",
      "Layer (type)                 Output Shape              Param #   \n",
      "=================================================================\n",
      "input_1 (InputLayer)         (None, 3072)              0         \n",
      "_________________________________________________________________\n",
      "hidden_layer1 (Dense)        (None, 512)               1573376   \n",
      "_________________________________________________________________\n",
      "hidden_layer2 (Dense)        (None, 256)               131328    \n",
      "_________________________________________________________________\n",
      "hidden_layer3 (Dense)        (None, 128)               32896     \n",
      "_________________________________________________________________\n",
      "output (Dense)               (None, 10)                1290      \n",
      "=================================================================\n",
      "Total params: 1,738,890\n",
      "Trainable params: 1,738,890\n",
      "Non-trainable params: 0\n",
      "_________________________________________________________________\n"
     ]
    }
   ],
   "source": [
    "model = build_mlp(input_shape=x_train.shape[1:])\n",
    "model.summary()"
   ]
  },
  {
   "cell_type": "code",
   "execution_count": 9,
   "metadata": {
    "ExecuteTime": {
     "end_time": "2019-12-21T16:34:32.880895Z",
     "start_time": "2019-12-21T16:34:32.856874Z"
    }
   },
   "outputs": [],
   "source": [
    "## 超參數設定\n",
    "LEARNING_RATE = 0.001\n",
    "EPOCHS = 100\n",
    "BATCH_SIZE = 256"
   ]
  },
  {
   "cell_type": "code",
   "execution_count": 10,
   "metadata": {
    "ExecuteTime": {
     "end_time": "2019-12-21T16:34:35.179219Z",
     "start_time": "2019-12-21T16:34:33.189166Z"
    }
   },
   "outputs": [],
   "source": [
    "optimizer = keras.optimizers.Adam(lr=LEARNING_RATE)\n",
    "model.compile(loss=\"categorical_crossentropy\", metrics=[\"accuracy\"], optimizer=optimizer)"
   ]
  },
  {
   "cell_type": "code",
   "execution_count": 13,
   "metadata": {
    "ExecuteTime": {
     "end_time": "2019-12-21T17:44:05.860794Z",
     "start_time": "2019-12-21T17:44:05.856995Z"
    }
   },
   "outputs": [],
   "source": [
    "x_train = x_train[:1000]\n",
    "x_test = x_test[:1000]\n",
    "y_train = y_train[:1000]\n",
    "y_test = y_test[:1000]"
   ]
  },
  {
   "cell_type": "code",
   "execution_count": 14,
   "metadata": {
    "ExecuteTime": {
     "end_time": "2019-12-21T17:45:11.220399Z",
     "start_time": "2019-12-21T17:44:07.983645Z"
    }
   },
   "outputs": [
    {
     "name": "stdout",
     "output_type": "stream",
     "text": [
      "Train on 1000 samples, validate on 1000 samples\n",
      "Epoch 1/100\n",
      "1000/1000 [==============================] - 1s 525us/step - loss: 0.6227 - acc: 0.7690 - val_loss: 1.6956 - val_acc: 0.5280\n",
      "Epoch 2/100\n",
      "1000/1000 [==============================] - 1s 674us/step - loss: 0.5165 - acc: 0.8210 - val_loss: 1.7155 - val_acc: 0.5430\n",
      "Epoch 3/100\n",
      "1000/1000 [==============================] - 1s 752us/step - loss: 0.4441 - acc: 0.8590 - val_loss: 1.6576 - val_acc: 0.5410\n",
      "Epoch 4/100\n",
      "1000/1000 [==============================] - 1s 681us/step - loss: 0.3614 - acc: 0.8870 - val_loss: 1.7151 - val_acc: 0.5440\n",
      "Epoch 5/100\n",
      "1000/1000 [==============================] - 1s 750us/step - loss: 0.2901 - acc: 0.9210 - val_loss: 1.7615 - val_acc: 0.5480\n",
      "Epoch 6/100\n",
      "1000/1000 [==============================] - 1s 602us/step - loss: 0.2490 - acc: 0.9420 - val_loss: 1.8219 - val_acc: 0.5400\n",
      "Epoch 7/100\n",
      "1000/1000 [==============================] - 1s 649us/step - loss: 0.2143 - acc: 0.9580 - val_loss: 1.8141 - val_acc: 0.5390\n",
      "Epoch 8/100\n",
      "1000/1000 [==============================] - 1s 634us/step - loss: 0.1772 - acc: 0.9700 - val_loss: 1.8235 - val_acc: 0.5490\n",
      "Epoch 9/100\n",
      "1000/1000 [==============================] - 1s 673us/step - loss: 0.1563 - acc: 0.9770 - val_loss: 1.8634 - val_acc: 0.5460\n",
      "Epoch 10/100\n",
      "1000/1000 [==============================] - 1s 635us/step - loss: 0.1359 - acc: 0.9850 - val_loss: 1.8930 - val_acc: 0.5360\n",
      "Epoch 11/100\n",
      "1000/1000 [==============================] - 1s 605us/step - loss: 0.1190 - acc: 0.9860 - val_loss: 1.9075 - val_acc: 0.5430\n",
      "Epoch 12/100\n",
      "1000/1000 [==============================] - 1s 685us/step - loss: 0.1049 - acc: 0.9900 - val_loss: 1.9337 - val_acc: 0.5450\n",
      "Epoch 13/100\n",
      "1000/1000 [==============================] - 1s 634us/step - loss: 0.0935 - acc: 0.9900 - val_loss: 1.9656 - val_acc: 0.5410\n",
      "Epoch 14/100\n",
      "1000/1000 [==============================] - 1s 755us/step - loss: 0.0848 - acc: 0.9930 - val_loss: 1.9869 - val_acc: 0.5450\n",
      "Epoch 15/100\n",
      "1000/1000 [==============================] - 1s 770us/step - loss: 0.0757 - acc: 0.9950 - val_loss: 2.0035 - val_acc: 0.5380\n",
      "Epoch 16/100\n",
      "1000/1000 [==============================] - 1s 768us/step - loss: 0.0704 - acc: 0.9950 - val_loss: 2.0232 - val_acc: 0.5420\n",
      "Epoch 17/100\n",
      "1000/1000 [==============================] - 1s 625us/step - loss: 0.0623 - acc: 0.9960 - val_loss: 2.0360 - val_acc: 0.5420\n",
      "Epoch 18/100\n",
      "1000/1000 [==============================] - 1s 576us/step - loss: 0.0570 - acc: 0.9970 - val_loss: 2.0391 - val_acc: 0.5450\n",
      "Epoch 19/100\n",
      "1000/1000 [==============================] - 1s 659us/step - loss: 0.0528 - acc: 0.9990 - val_loss: 2.0637 - val_acc: 0.5470\n",
      "Epoch 20/100\n",
      "1000/1000 [==============================] - 1s 604us/step - loss: 0.0491 - acc: 1.0000 - val_loss: 2.0806 - val_acc: 0.5420\n",
      "Epoch 21/100\n",
      "1000/1000 [==============================] - 1s 677us/step - loss: 0.0460 - acc: 1.0000 - val_loss: 2.0861 - val_acc: 0.5410\n",
      "Epoch 22/100\n",
      "1000/1000 [==============================] - 1s 691us/step - loss: 0.0430 - acc: 1.0000 - val_loss: 2.1065 - val_acc: 0.5420\n",
      "Epoch 23/100\n",
      "1000/1000 [==============================] - 1s 664us/step - loss: 0.0403 - acc: 1.0000 - val_loss: 2.1183 - val_acc: 0.5440\n",
      "Epoch 24/100\n",
      "1000/1000 [==============================] - 1s 683us/step - loss: 0.0377 - acc: 1.0000 - val_loss: 2.1273 - val_acc: 0.5420\n",
      "Epoch 25/100\n",
      "1000/1000 [==============================] - 1s 814us/step - loss: 0.0358 - acc: 1.0000 - val_loss: 2.1371 - val_acc: 0.5380\n",
      "Epoch 26/100\n",
      "1000/1000 [==============================] - 1s 679us/step - loss: 0.0340 - acc: 1.0000 - val_loss: 2.1482 - val_acc: 0.5440\n",
      "Epoch 27/100\n",
      "1000/1000 [==============================] - 1s 684us/step - loss: 0.0323 - acc: 1.0000 - val_loss: 2.1603 - val_acc: 0.5450\n",
      "Epoch 28/100\n",
      "1000/1000 [==============================] - 1s 687us/step - loss: 0.0305 - acc: 1.0000 - val_loss: 2.1710 - val_acc: 0.5400\n",
      "Epoch 29/100\n",
      "1000/1000 [==============================] - 1s 686us/step - loss: 0.0292 - acc: 1.0000 - val_loss: 2.1766 - val_acc: 0.5410\n",
      "Epoch 30/100\n",
      "1000/1000 [==============================] - 1s 786us/step - loss: 0.0277 - acc: 1.0000 - val_loss: 2.1842 - val_acc: 0.5430\n",
      "Epoch 31/100\n",
      "1000/1000 [==============================] - 1s 727us/step - loss: 0.0267 - acc: 1.0000 - val_loss: 2.1968 - val_acc: 0.5420\n",
      "Epoch 32/100\n",
      "1000/1000 [==============================] - 1s 784us/step - loss: 0.0254 - acc: 1.0000 - val_loss: 2.2083 - val_acc: 0.5390\n",
      "Epoch 33/100\n",
      "1000/1000 [==============================] - 1s 764us/step - loss: 0.0245 - acc: 1.0000 - val_loss: 2.2160 - val_acc: 0.5440\n",
      "Epoch 34/100\n",
      "1000/1000 [==============================] - 1s 644us/step - loss: 0.0235 - acc: 1.0000 - val_loss: 2.2216 - val_acc: 0.5430\n",
      "Epoch 35/100\n",
      "1000/1000 [==============================] - 1s 707us/step - loss: 0.0225 - acc: 1.0000 - val_loss: 2.2267 - val_acc: 0.5380\n",
      "Epoch 36/100\n",
      "1000/1000 [==============================] - 1s 850us/step - loss: 0.0218 - acc: 1.0000 - val_loss: 2.2354 - val_acc: 0.5390\n",
      "Epoch 37/100\n",
      "1000/1000 [==============================] - 1s 678us/step - loss: 0.0209 - acc: 1.0000 - val_loss: 2.2464 - val_acc: 0.5420\n",
      "Epoch 38/100\n",
      "1000/1000 [==============================] - 1s 850us/step - loss: 0.0202 - acc: 1.0000 - val_loss: 2.2533 - val_acc: 0.5400\n",
      "Epoch 39/100\n",
      "1000/1000 [==============================] - 1s 673us/step - loss: 0.0195 - acc: 1.0000 - val_loss: 2.2563 - val_acc: 0.5390\n",
      "Epoch 40/100\n",
      "1000/1000 [==============================] - 1s 700us/step - loss: 0.0188 - acc: 1.0000 - val_loss: 2.2670 - val_acc: 0.5400\n",
      "Epoch 41/100\n",
      "1000/1000 [==============================] - 1s 728us/step - loss: 0.0182 - acc: 1.0000 - val_loss: 2.2747 - val_acc: 0.5400\n",
      "Epoch 42/100\n",
      "1000/1000 [==============================] - 1s 694us/step - loss: 0.0176 - acc: 1.0000 - val_loss: 2.2796 - val_acc: 0.5400\n",
      "Epoch 43/100\n",
      "1000/1000 [==============================] - 1s 745us/step - loss: 0.0171 - acc: 1.0000 - val_loss: 2.2877 - val_acc: 0.5390\n",
      "Epoch 44/100\n",
      "1000/1000 [==============================] - 1s 734us/step - loss: 0.0166 - acc: 1.0000 - val_loss: 2.2924 - val_acc: 0.5360\n",
      "Epoch 45/100\n",
      "1000/1000 [==============================] - 1s 650us/step - loss: 0.0162 - acc: 1.0000 - val_loss: 2.2982 - val_acc: 0.5390\n",
      "Epoch 46/100\n",
      "1000/1000 [==============================] - 1s 727us/step - loss: 0.0157 - acc: 1.0000 - val_loss: 2.3053 - val_acc: 0.5360\n",
      "Epoch 47/100\n",
      "1000/1000 [==============================] - 1s 781us/step - loss: 0.0153 - acc: 1.0000 - val_loss: 2.3115 - val_acc: 0.5370\n",
      "Epoch 48/100\n",
      "1000/1000 [==============================] - 1s 662us/step - loss: 0.0148 - acc: 1.0000 - val_loss: 2.3168 - val_acc: 0.5390\n",
      "Epoch 49/100\n",
      "1000/1000 [==============================] - 1s 630us/step - loss: 0.0144 - acc: 1.0000 - val_loss: 2.3230 - val_acc: 0.5360\n",
      "Epoch 50/100\n",
      "1000/1000 [==============================] - 1s 688us/step - loss: 0.0140 - acc: 1.0000 - val_loss: 2.3303 - val_acc: 0.5350\n",
      "Epoch 51/100\n",
      "1000/1000 [==============================] - 1s 732us/step - loss: 0.0136 - acc: 1.0000 - val_loss: 2.3356 - val_acc: 0.5380\n",
      "Epoch 52/100\n",
      "1000/1000 [==============================] - 1s 610us/step - loss: 0.0133 - acc: 1.0000 - val_loss: 2.3411 - val_acc: 0.5370\n",
      "Epoch 53/100\n",
      "1000/1000 [==============================] - 1s 772us/step - loss: 0.0130 - acc: 1.0000 - val_loss: 2.3457 - val_acc: 0.5360\n",
      "Epoch 54/100\n",
      "1000/1000 [==============================] - 1s 788us/step - loss: 0.0126 - acc: 1.0000 - val_loss: 2.3485 - val_acc: 0.5320\n",
      "Epoch 55/100\n",
      "1000/1000 [==============================] - 1s 753us/step - loss: 0.0124 - acc: 1.0000 - val_loss: 2.3545 - val_acc: 0.5350\n",
      "Epoch 56/100\n",
      "1000/1000 [==============================] - 1s 725us/step - loss: 0.0120 - acc: 1.0000 - val_loss: 2.3586 - val_acc: 0.5340\n",
      "Epoch 57/100\n",
      "1000/1000 [==============================] - 1s 709us/step - loss: 0.0118 - acc: 1.0000 - val_loss: 2.3632 - val_acc: 0.5380\n",
      "Epoch 58/100\n",
      "1000/1000 [==============================] - 1s 676us/step - loss: 0.0116 - acc: 1.0000 - val_loss: 2.3688 - val_acc: 0.5320\n",
      "Epoch 59/100\n",
      "1000/1000 [==============================] - 1s 650us/step - loss: 0.0113 - acc: 1.0000 - val_loss: 2.3738 - val_acc: 0.5360\n",
      "Epoch 60/100\n"
     ]
    },
    {
     "name": "stdout",
     "output_type": "stream",
     "text": [
      "1000/1000 [==============================] - 1s 615us/step - loss: 0.0111 - acc: 1.0000 - val_loss: 2.3763 - val_acc: 0.5340\n",
      "Epoch 61/100\n",
      "1000/1000 [==============================] - 1s 657us/step - loss: 0.0108 - acc: 1.0000 - val_loss: 2.3834 - val_acc: 0.5380\n",
      "Epoch 62/100\n",
      "1000/1000 [==============================] - 1s 507us/step - loss: 0.0106 - acc: 1.0000 - val_loss: 2.3869 - val_acc: 0.5350\n",
      "Epoch 63/100\n",
      "1000/1000 [==============================] - 1s 522us/step - loss: 0.0103 - acc: 1.0000 - val_loss: 2.3910 - val_acc: 0.5330\n",
      "Epoch 64/100\n",
      "1000/1000 [==============================] - 1s 557us/step - loss: 0.0102 - acc: 1.0000 - val_loss: 2.3953 - val_acc: 0.5300\n",
      "Epoch 65/100\n",
      "1000/1000 [==============================] - 1s 557us/step - loss: 0.0099 - acc: 1.0000 - val_loss: 2.4000 - val_acc: 0.5320\n",
      "Epoch 66/100\n",
      "1000/1000 [==============================] - 1s 515us/step - loss: 0.0097 - acc: 1.0000 - val_loss: 2.4037 - val_acc: 0.5320\n",
      "Epoch 67/100\n",
      "1000/1000 [==============================] - 1s 527us/step - loss: 0.0095 - acc: 1.0000 - val_loss: 2.4094 - val_acc: 0.5340\n",
      "Epoch 68/100\n",
      "1000/1000 [==============================] - 1s 536us/step - loss: 0.0093 - acc: 1.0000 - val_loss: 2.4149 - val_acc: 0.5340\n",
      "Epoch 69/100\n",
      "1000/1000 [==============================] - 1s 504us/step - loss: 0.0092 - acc: 1.0000 - val_loss: 2.4194 - val_acc: 0.5320\n",
      "Epoch 70/100\n",
      "1000/1000 [==============================] - 1s 545us/step - loss: 0.0090 - acc: 1.0000 - val_loss: 2.4219 - val_acc: 0.5300\n",
      "Epoch 71/100\n",
      "1000/1000 [==============================] - 1s 520us/step - loss: 0.0089 - acc: 1.0000 - val_loss: 2.4257 - val_acc: 0.5320\n",
      "Epoch 72/100\n",
      "1000/1000 [==============================] - 1s 523us/step - loss: 0.0087 - acc: 1.0000 - val_loss: 2.4289 - val_acc: 0.5330\n",
      "Epoch 73/100\n",
      "1000/1000 [==============================] - 0s 496us/step - loss: 0.0086 - acc: 1.0000 - val_loss: 2.4359 - val_acc: 0.5290\n",
      "Epoch 74/100\n",
      "1000/1000 [==============================] - 1s 524us/step - loss: 0.0084 - acc: 1.0000 - val_loss: 2.4371 - val_acc: 0.5310\n",
      "Epoch 75/100\n",
      "1000/1000 [==============================] - 1s 521us/step - loss: 0.0082 - acc: 1.0000 - val_loss: 2.4389 - val_acc: 0.5340\n",
      "Epoch 76/100\n",
      "1000/1000 [==============================] - 1s 533us/step - loss: 0.0081 - acc: 1.0000 - val_loss: 2.4447 - val_acc: 0.5320\n",
      "Epoch 77/100\n",
      "1000/1000 [==============================] - 1s 549us/step - loss: 0.0079 - acc: 1.0000 - val_loss: 2.4505 - val_acc: 0.5330\n",
      "Epoch 78/100\n",
      "1000/1000 [==============================] - 1s 514us/step - loss: 0.0078 - acc: 1.0000 - val_loss: 2.4538 - val_acc: 0.5350\n",
      "Epoch 79/100\n",
      "1000/1000 [==============================] - 0s 493us/step - loss: 0.0077 - acc: 1.0000 - val_loss: 2.4549 - val_acc: 0.5360\n",
      "Epoch 80/100\n",
      "1000/1000 [==============================] - 1s 503us/step - loss: 0.0075 - acc: 1.0000 - val_loss: 2.4589 - val_acc: 0.5340\n",
      "Epoch 81/100\n",
      "1000/1000 [==============================] - 0s 480us/step - loss: 0.0074 - acc: 1.0000 - val_loss: 2.4644 - val_acc: 0.5330\n",
      "Epoch 82/100\n",
      "1000/1000 [==============================] - 1s 622us/step - loss: 0.0073 - acc: 1.0000 - val_loss: 2.4689 - val_acc: 0.5340\n",
      "Epoch 83/100\n",
      "1000/1000 [==============================] - 1s 619us/step - loss: 0.0072 - acc: 1.0000 - val_loss: 2.4718 - val_acc: 0.5340\n",
      "Epoch 84/100\n",
      "1000/1000 [==============================] - 1s 588us/step - loss: 0.0071 - acc: 1.0000 - val_loss: 2.4734 - val_acc: 0.5330\n",
      "Epoch 85/100\n",
      "1000/1000 [==============================] - 0s 498us/step - loss: 0.0069 - acc: 1.0000 - val_loss: 2.4760 - val_acc: 0.5320\n",
      "Epoch 86/100\n",
      "1000/1000 [==============================] - 1s 588us/step - loss: 0.0068 - acc: 1.0000 - val_loss: 2.4797 - val_acc: 0.5330\n",
      "Epoch 87/100\n",
      "1000/1000 [==============================] - 0s 495us/step - loss: 0.0067 - acc: 1.0000 - val_loss: 2.4848 - val_acc: 0.5340\n",
      "Epoch 88/100\n",
      "1000/1000 [==============================] - 1s 583us/step - loss: 0.0066 - acc: 1.0000 - val_loss: 2.4869 - val_acc: 0.5320\n",
      "Epoch 89/100\n",
      "1000/1000 [==============================] - 1s 539us/step - loss: 0.0065 - acc: 1.0000 - val_loss: 2.4896 - val_acc: 0.5330\n",
      "Epoch 90/100\n",
      "1000/1000 [==============================] - 1s 519us/step - loss: 0.0064 - acc: 1.0000 - val_loss: 2.4927 - val_acc: 0.5350\n",
      "Epoch 91/100\n",
      "1000/1000 [==============================] - 1s 522us/step - loss: 0.0063 - acc: 1.0000 - val_loss: 2.4969 - val_acc: 0.5310\n",
      "Epoch 92/100\n",
      "1000/1000 [==============================] - 1s 548us/step - loss: 0.0062 - acc: 1.0000 - val_loss: 2.4993 - val_acc: 0.5330\n",
      "Epoch 93/100\n",
      "1000/1000 [==============================] - 1s 525us/step - loss: 0.0061 - acc: 1.0000 - val_loss: 2.5030 - val_acc: 0.5340\n",
      "Epoch 94/100\n",
      "1000/1000 [==============================] - 1s 561us/step - loss: 0.0061 - acc: 1.0000 - val_loss: 2.5055 - val_acc: 0.5320\n",
      "Epoch 95/100\n",
      "1000/1000 [==============================] - 0s 441us/step - loss: 0.0060 - acc: 1.0000 - val_loss: 2.5090 - val_acc: 0.5330\n",
      "Epoch 96/100\n",
      "1000/1000 [==============================] - 1s 505us/step - loss: 0.0059 - acc: 1.0000 - val_loss: 2.5120 - val_acc: 0.5320\n",
      "Epoch 97/100\n",
      "1000/1000 [==============================] - 0s 455us/step - loss: 0.0058 - acc: 1.0000 - val_loss: 2.5146 - val_acc: 0.5330\n",
      "Epoch 98/100\n",
      "1000/1000 [==============================] - 0s 493us/step - loss: 0.0057 - acc: 1.0000 - val_loss: 2.5177 - val_acc: 0.5320\n",
      "Epoch 99/100\n",
      "1000/1000 [==============================] - 1s 518us/step - loss: 0.0056 - acc: 1.0000 - val_loss: 2.5203 - val_acc: 0.5320\n",
      "Epoch 100/100\n",
      "1000/1000 [==============================] - 1s 572us/step - loss: 0.0056 - acc: 1.0000 - val_loss: 2.5231 - val_acc: 0.5310\n"
     ]
    },
    {
     "data": {
      "text/plain": [
       "<tensorflow.python.keras.callbacks.History at 0x1a382ec1d0>"
      ]
     },
     "execution_count": 14,
     "metadata": {},
     "output_type": "execute_result"
    }
   ],
   "source": [
    "model.fit(x_train, y_train, \n",
    "          epochs=EPOCHS, \n",
    "          batch_size=BATCH_SIZE, \n",
    "          validation_data=(x_test, y_test), \n",
    "          shuffle=True)"
   ]
  },
  {
   "cell_type": "code",
   "execution_count": 15,
   "metadata": {
    "ExecuteTime": {
     "end_time": "2019-12-21T17:45:13.474040Z",
     "start_time": "2019-12-21T17:45:11.223856Z"
    }
   },
   "outputs": [
    {
     "data": {
      "image/png": "[encoded data removed]",
      "text/plain": [
       "<Figure size 432x288 with 1 Axes>"
      ]
     },
     "metadata": {
      "needs_background": "light"
     },
     "output_type": "display_data"
    },
    {
     "data": {
      "image/png": "[encoded data removed]",
      "text/plain": [
       "<Figure size 432x288 with 1 Axes>"
      ]
     },
     "metadata": {
      "needs_background": "light"
     },
     "output_type": "display_data"
    }
   ],
   "source": [
    "# 訓練模型並檢視驗證集的結果\n",
    "import matplotlib.pyplot as plt\n",
    "\n",
    "train_loss = model.history.history[\"loss\"]\n",
    "valid_loss = model.history.history[\"val_loss\"]\n",
    "\n",
    "train_acc = model.history.history[\"acc\"]\n",
    "valid_acc = model.history.history[\"val_acc\"]\n",
    "\n",
    "plt.plot(range(len(train_loss)), train_loss, label=\"train loss\")\n",
    "plt.plot(range(len(valid_loss)), valid_loss, label=\"valid loss\")\n",
    "plt.legend()\n",
    "plt.title(\"Loss\")\n",
    "plt.show()\n",
    "\n",
    "plt.plot(range(len(train_acc)), train_acc, label=\"train accuracy\")\n",
    "plt.plot(range(len(valid_acc)), valid_acc, label=\"valid accuracy\")\n",
    "plt.legend()\n",
    "plt.title(\"Accuracy\")\n",
    "plt.show()"
   ]
  },
  {
   "cell_type": "markdown",
   "metadata": {},
   "source": [
    "## Work\n",
    "1. 請嘗試將 preproc_x 替換成以每筆資料的 min/max 進行標準化至 -1 ~ 1 間，再進行訓練\n",
    "2. 請嘗試將 mlp 疊更深 (e.g 5~10 層)，進行訓練後觀察 learning curve 的走勢\n",
    "3. (optional) 請改用 GPU 進行訓練 (如果你有 GPU 的話)，比較使用 CPU 與 GPU 的訓練速度"
   ]
  }
 ],
 "metadata": {
  "hide_input": false,
  "kernelspec": {
   "display_name": "Python 3",
   "language": "python",
   "name": "python3"
  },
  "language_info": {
   "codemirror_mode": {
    "name": "ipython",
    "version": 3
   },
   "file_extension": ".py",
   "mimetype": "text/x-python",
   "name": "python",
   "nbconvert_exporter": "python",
   "pygments_lexer": "ipython3",
   "version": "3.7.3"
  },
  "toc": {
   "base_numbering": 1,
   "nav_menu": {},
   "number_sections": true,
   "sideBar": true,
   "skip_h1_title": false,
   "title_cell": "Table of Contents",
   "title_sidebar": "Contents",
   "toc_cell": false,
   "toc_position": {},
   "toc_section_display": true,
   "toc_window_display": false
  }
 },
 "nbformat": 4,
 "nbformat_minor": 2
}
