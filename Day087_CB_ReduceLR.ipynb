{
 "cells": [
  {
   "cell_type": "markdown",
   "metadata": {},
   "source": [
    "## 範例重點\n",
    "* 學習如何在 keras 中加入 reduce learning rate\n",
    "* 知道如何設定 reduce_lr 的監控目標\n",
    "* 比較使用有無使用 reduce_lr 時的 performance"
   ]
  },
  {
   "cell_type": "code",
   "execution_count": 1,
   "metadata": {
    "ExecuteTime": {
     "end_time": "2019-12-25T14:26:28.222625Z",
     "start_time": "2019-12-25T14:26:24.067512Z"
    }
   },
   "outputs": [
    {
     "name": "stderr",
     "output_type": "stream",
     "text": [
      "Using TensorFlow backend.\n"
     ]
    }
   ],
   "source": [
    "import os\n",
    "import keras\n",
    "\n",
    "# 本範例不需使用 GPU, 將 GPU 設定為 \"無\"\n",
    "os.environ[\"CUDA_VISIBLE_DEVICES\"] = \"\""
   ]
  },
  {
   "cell_type": "code",
   "execution_count": 2,
   "metadata": {
    "ExecuteTime": {
     "end_time": "2019-12-25T14:26:28.732877Z",
     "start_time": "2019-12-25T14:26:28.225105Z"
    }
   },
   "outputs": [],
   "source": [
    "train, test = keras.datasets.cifar10.load_data()"
   ]
  },
  {
   "cell_type": "code",
   "execution_count": 3,
   "metadata": {
    "ExecuteTime": {
     "end_time": "2019-12-25T14:26:28.747253Z",
     "start_time": "2019-12-25T14:26:28.737674Z"
    }
   },
   "outputs": [],
   "source": [
    "## 資料前處理\n",
    "def preproc_x(x, flatten=True):\n",
    "    x = x / 255.\n",
    "    if flatten:\n",
    "        x = x.reshape((len(x), -1))\n",
    "    return x\n",
    "\n",
    "def preproc_y(y, num_classes=10):\n",
    "    if y.shape[-1] == 1:\n",
    "        y = keras.utils.to_categorical(y, num_classes)\n",
    "    return y    "
   ]
  },
  {
   "cell_type": "code",
   "execution_count": 4,
   "metadata": {
    "ExecuteTime": {
     "end_time": "2019-12-25T14:26:34.631966Z",
     "start_time": "2019-12-25T14:26:28.785178Z"
    }
   },
   "outputs": [],
   "source": [
    "x_train, y_train = train\n",
    "x_test, y_test = test\n",
    "\n",
    "# 資料前處理 - X 標準化\n",
    "x_train = preproc_x(x_train)\n",
    "x_test = preproc_x(x_test)\n",
    "\n",
    "# 資料前處理 -Y 轉成 onehot\n",
    "y_train = preproc_y(y_train)\n",
    "y_test = preproc_y(y_test)"
   ]
  },
  {
   "cell_type": "code",
   "execution_count": 5,
   "metadata": {
    "ExecuteTime": {
     "end_time": "2019-12-25T14:26:36.245393Z",
     "start_time": "2019-12-25T14:26:36.020393Z"
    }
   },
   "outputs": [],
   "source": [
    "import numpy as np\n",
    "\n",
    "a = np.arange(50000)\n",
    "np.random.shuffle(a)\n",
    "indexs = a[:5000]\n",
    "\n",
    "x_train = x_train[indexs]\n",
    "y_train = y_train[indexs]"
   ]
  },
  {
   "cell_type": "code",
   "execution_count": 6,
   "metadata": {
    "ExecuteTime": {
     "end_time": "2019-12-25T14:26:38.180134Z",
     "start_time": "2019-12-25T14:26:38.167077Z"
    }
   },
   "outputs": [],
   "source": [
    "from keras.layers import BatchNormalization\n",
    "\n",
    "\"\"\"\n",
    "建立神經網路，並加入 BN layer\n",
    "\"\"\"\n",
    "def build_mlp(input_shape, output_units=10, num_neurons=[512, 256, 128]):\n",
    "    input_layer = keras.layers.Input(input_shape)\n",
    "    \n",
    "    for i, n_units in enumerate(num_neurons):\n",
    "        if i == 0:\n",
    "            x = keras.layers.Dense(units=n_units, \n",
    "                                   activation=\"relu\", \n",
    "                                   name=\"hidden_layer\"+str(i+1))(input_layer)\n",
    "            x = BatchNormalization()(x)\n",
    "        else:\n",
    "            x = keras.layers.Dense(units=n_units, \n",
    "                                   activation=\"relu\", \n",
    "                                   name=\"hidden_layer\"+str(i+1))(x)\n",
    "            x = BatchNormalization()(x)\n",
    "    \n",
    "    out = keras.layers.Dense(units=output_units, activation=\"softmax\", name=\"output\")(x)\n",
    "    \n",
    "    model = keras.models.Model(inputs=[input_layer], outputs=[out])\n",
    "    return model"
   ]
  },
  {
   "cell_type": "code",
   "execution_count": 7,
   "metadata": {
    "ExecuteTime": {
     "end_time": "2019-12-25T14:26:40.399364Z",
     "start_time": "2019-12-25T14:26:40.395642Z"
    }
   },
   "outputs": [],
   "source": [
    "## 超參數設定\n",
    "LEARNING_RATE = 1e-3\n",
    "EPOCHS = 50\n",
    "BATCH_SIZE = 1024\n",
    "MOMENTUM = 0.95"
   ]
  },
  {
   "cell_type": "code",
   "execution_count": 8,
   "metadata": {
    "ExecuteTime": {
     "end_time": "2019-12-25T14:26:42.351965Z",
     "start_time": "2019-12-25T14:26:42.346956Z"
    }
   },
   "outputs": [],
   "source": [
    "\"\"\"\n",
    "# 載入 Callbacks, 並設定監控目標為 validation loss\n",
    "\"\"\"\n",
    "from keras.callbacks import ReduceLROnPlateau\n",
    "\n",
    "reduce_lr = ReduceLROnPlateau(factor=0.5, \n",
    "                              min_lr=1e-12, \n",
    "                              monitor='val_loss', \n",
    "                              patience=5, \n",
    "                              verbose=1)"
   ]
  },
  {
   "cell_type": "code",
   "execution_count": 11,
   "metadata": {
    "ExecuteTime": {
     "end_time": "2019-12-25T14:39:29.248747Z",
     "start_time": "2019-12-25T14:38:34.488015Z"
    },
    "scrolled": true
   },
   "outputs": [
    {
     "name": "stdout",
     "output_type": "stream",
     "text": [
      "Model: \"model_2\"\n",
      "_________________________________________________________________\n",
      "Layer (type)                 Output Shape              Param #   \n",
      "=================================================================\n",
      "input_2 (InputLayer)         (None, 3072)              0         \n",
      "_________________________________________________________________\n",
      "hidden_layer1 (Dense)        (None, 512)               1573376   \n",
      "_________________________________________________________________\n",
      "batch_normalization_4 (Batch (None, 512)               2048      \n",
      "_________________________________________________________________\n",
      "hidden_layer2 (Dense)        (None, 256)               131328    \n",
      "_________________________________________________________________\n",
      "batch_normalization_5 (Batch (None, 256)               1024      \n",
      "_________________________________________________________________\n",
      "hidden_layer3 (Dense)        (None, 128)               32896     \n",
      "_________________________________________________________________\n",
      "batch_normalization_6 (Batch (None, 128)               512       \n",
      "_________________________________________________________________\n",
      "output (Dense)               (None, 10)                1290      \n",
      "=================================================================\n",
      "Total params: 1,742,474\n",
      "Trainable params: 1,740,682\n",
      "Non-trainable params: 1,792\n",
      "_________________________________________________________________\n",
      "Train on 5000 samples, validate on 10000 samples\n",
      "Epoch 1/50\n",
      "5000/5000 [==============================] - 2s 337us/step - loss: 2.8682 - accuracy: 0.1052 - val_loss: 2.2899 - val_accuracy: 0.1477\n",
      "Epoch 2/50\n",
      "5000/5000 [==============================] - 1s 196us/step - loss: 2.4801 - accuracy: 0.1784 - val_loss: 2.2671 - val_accuracy: 0.1344\n",
      "Epoch 3/50\n",
      "5000/5000 [==============================] - 1s 202us/step - loss: 2.1888 - accuracy: 0.2606 - val_loss: 2.2411 - val_accuracy: 0.1326\n",
      "Epoch 4/50\n",
      "5000/5000 [==============================] - 1s 230us/step - loss: 2.0059 - accuracy: 0.3060 - val_loss: 2.2121 - val_accuracy: 0.1489\n",
      "Epoch 5/50\n",
      "5000/5000 [==============================] - 1s 238us/step - loss: 1.8742 - accuracy: 0.3478 - val_loss: 2.1888 - val_accuracy: 0.1637\n",
      "Epoch 6/50\n",
      "5000/5000 [==============================] - 1s 191us/step - loss: 1.7726 - accuracy: 0.3808 - val_loss: 2.1682 - val_accuracy: 0.1824\n",
      "Epoch 7/50\n",
      "5000/5000 [==============================] - 1s 193us/step - loss: 1.6811 - accuracy: 0.4138 - val_loss: 2.1512 - val_accuracy: 0.1971\n",
      "Epoch 8/50\n",
      "5000/5000 [==============================] - 1s 193us/step - loss: 1.6058 - accuracy: 0.4466 - val_loss: 2.1362 - val_accuracy: 0.2107\n",
      "Epoch 9/50\n",
      "5000/5000 [==============================] - 1s 191us/step - loss: 1.5342 - accuracy: 0.4726 - val_loss: 2.1214 - val_accuracy: 0.2212\n",
      "Epoch 10/50\n",
      "5000/5000 [==============================] - 1s 193us/step - loss: 1.4731 - accuracy: 0.4956 - val_loss: 2.1111 - val_accuracy: 0.2181\n",
      "Epoch 11/50\n",
      "5000/5000 [==============================] - 1s 201us/step - loss: 1.4175 - accuracy: 0.5146 - val_loss: 2.0975 - val_accuracy: 0.2258\n",
      "Epoch 12/50\n",
      "5000/5000 [==============================] - 1s 190us/step - loss: 1.3625 - accuracy: 0.5406 - val_loss: 2.0842 - val_accuracy: 0.2327\n",
      "Epoch 13/50\n",
      "5000/5000 [==============================] - 1s 191us/step - loss: 1.3141 - accuracy: 0.5586 - val_loss: 2.0703 - val_accuracy: 0.2429\n",
      "Epoch 14/50\n",
      "5000/5000 [==============================] - 1s 194us/step - loss: 1.2690 - accuracy: 0.5810 - val_loss: 2.0578 - val_accuracy: 0.2507\n",
      "Epoch 15/50\n",
      "5000/5000 [==============================] - 1s 190us/step - loss: 1.2264 - accuracy: 0.5970 - val_loss: 2.0461 - val_accuracy: 0.2604\n",
      "Epoch 16/50\n",
      "5000/5000 [==============================] - 1s 190us/step - loss: 1.1878 - accuracy: 0.6146 - val_loss: 2.0353 - val_accuracy: 0.2717\n",
      "Epoch 17/50\n",
      "5000/5000 [==============================] - 1s 188us/step - loss: 1.1499 - accuracy: 0.6336 - val_loss: 2.0258 - val_accuracy: 0.2793\n",
      "Epoch 18/50\n",
      "5000/5000 [==============================] - 1s 188us/step - loss: 1.1128 - accuracy: 0.6528 - val_loss: 2.0179 - val_accuracy: 0.2843\n",
      "Epoch 19/50\n",
      "5000/5000 [==============================] - 1s 215us/step - loss: 1.0812 - accuracy: 0.6662 - val_loss: 2.0119 - val_accuracy: 0.2919\n",
      "Epoch 20/50\n",
      "5000/5000 [==============================] - 1s 217us/step - loss: 1.0486 - accuracy: 0.6808 - val_loss: 2.0022 - val_accuracy: 0.2959\n",
      "Epoch 21/50\n",
      "5000/5000 [==============================] - 1s 211us/step - loss: 1.0178 - accuracy: 0.7010 - val_loss: 1.9932 - val_accuracy: 0.3016\n",
      "Epoch 22/50\n",
      "5000/5000 [==============================] - 1s 227us/step - loss: 0.9865 - accuracy: 0.7182 - val_loss: 1.9855 - val_accuracy: 0.3053\n",
      "Epoch 23/50\n",
      "5000/5000 [==============================] - 1s 217us/step - loss: 0.9597 - accuracy: 0.7276 - val_loss: 1.9766 - val_accuracy: 0.3087\n",
      "Epoch 24/50\n",
      "5000/5000 [==============================] - 1s 189us/step - loss: 0.9311 - accuracy: 0.7388 - val_loss: 1.9664 - val_accuracy: 0.3125\n",
      "Epoch 25/50\n",
      "5000/5000 [==============================] - 1s 186us/step - loss: 0.9044 - accuracy: 0.7518 - val_loss: 1.9568 - val_accuracy: 0.3182\n",
      "Epoch 26/50\n",
      "5000/5000 [==============================] - 1s 183us/step - loss: 0.8810 - accuracy: 0.7604 - val_loss: 1.9485 - val_accuracy: 0.3189\n",
      "Epoch 27/50\n",
      "5000/5000 [==============================] - 1s 185us/step - loss: 0.8535 - accuracy: 0.7762 - val_loss: 1.9379 - val_accuracy: 0.3222\n",
      "Epoch 28/50\n",
      "5000/5000 [==============================] - 1s 201us/step - loss: 0.8308 - accuracy: 0.7852 - val_loss: 1.9288 - val_accuracy: 0.3262\n",
      "Epoch 29/50\n",
      "5000/5000 [==============================] - 1s 204us/step - loss: 0.8070 - accuracy: 0.7960 - val_loss: 1.9207 - val_accuracy: 0.3273\n",
      "Epoch 30/50\n",
      "5000/5000 [==============================] - 1s 201us/step - loss: 0.7838 - accuracy: 0.8056 - val_loss: 1.9126 - val_accuracy: 0.3286\n",
      "Epoch 31/50\n",
      "5000/5000 [==============================] - 1s 289us/step - loss: 0.7622 - accuracy: 0.8190 - val_loss: 1.9035 - val_accuracy: 0.3309\n",
      "Epoch 32/50\n",
      "5000/5000 [==============================] - 1s 273us/step - loss: 0.7405 - accuracy: 0.8254 - val_loss: 1.8960 - val_accuracy: 0.3328\n",
      "Epoch 33/50\n",
      "5000/5000 [==============================] - 2s 338us/step - loss: 0.7235 - accuracy: 0.8342 - val_loss: 1.8892 - val_accuracy: 0.3348\n",
      "Epoch 34/50\n",
      "5000/5000 [==============================] - 1s 273us/step - loss: 0.7014 - accuracy: 0.8392 - val_loss: 1.8815 - val_accuracy: 0.3356\n",
      "Epoch 35/50\n",
      "5000/5000 [==============================] - 1s 224us/step - loss: 0.6826 - accuracy: 0.8484 - val_loss: 1.8730 - val_accuracy: 0.3371\n",
      "Epoch 36/50\n",
      "5000/5000 [==============================] - 1s 194us/step - loss: 0.6630 - accuracy: 0.8564 - val_loss: 1.8654 - val_accuracy: 0.3392\n",
      "Epoch 37/50\n",
      "5000/5000 [==============================] - 1s 198us/step - loss: 0.6437 - accuracy: 0.8632 - val_loss: 1.8595 - val_accuracy: 0.3390\n",
      "Epoch 38/50\n",
      "5000/5000 [==============================] - 1s 246us/step - loss: 0.6258 - accuracy: 0.8722 - val_loss: 1.8501 - val_accuracy: 0.3426\n",
      "Epoch 39/50\n",
      "5000/5000 [==============================] - 1s 219us/step - loss: 0.6087 - accuracy: 0.8824 - val_loss: 1.8420 - val_accuracy: 0.3464\n",
      "Epoch 40/50\n",
      "5000/5000 [==============================] - 1s 209us/step - loss: 0.5926 - accuracy: 0.8864 - val_loss: 1.8357 - val_accuracy: 0.3478\n",
      "Epoch 41/50\n",
      "5000/5000 [==============================] - 1s 215us/step - loss: 0.5759 - accuracy: 0.8904 - val_loss: 1.8299 - val_accuracy: 0.3494\n",
      "Epoch 42/50\n",
      "5000/5000 [==============================] - 1s 195us/step - loss: 0.5605 - accuracy: 0.9008 - val_loss: 1.8253 - val_accuracy: 0.3482\n",
      "Epoch 43/50\n",
      "5000/5000 [==============================] - 1s 226us/step - loss: 0.5442 - accuracy: 0.9006 - val_loss: 1.8208 - val_accuracy: 0.3513\n",
      "Epoch 44/50\n",
      "5000/5000 [==============================] - 1s 216us/step - loss: 0.5302 - accuracy: 0.9072 - val_loss: 1.8169 - val_accuracy: 0.3527\n",
      "Epoch 45/50\n",
      "5000/5000 [==============================] - 1s 200us/step - loss: 0.5136 - accuracy: 0.9136 - val_loss: 1.8106 - val_accuracy: 0.3561\n",
      "Epoch 46/50\n",
      "5000/5000 [==============================] - 1s 189us/step - loss: 0.4997 - accuracy: 0.9190 - val_loss: 1.8086 - val_accuracy: 0.3551\n"
     ]
    },
    {
     "name": "stdout",
     "output_type": "stream",
     "text": [
      "Epoch 47/50\n",
      "5000/5000 [==============================] - 1s 188us/step - loss: 0.4867 - accuracy: 0.9224 - val_loss: 1.8027 - val_accuracy: 0.3568\n",
      "Epoch 48/50\n",
      "5000/5000 [==============================] - 1s 188us/step - loss: 0.4738 - accuracy: 0.9248 - val_loss: 1.8007 - val_accuracy: 0.3574\n",
      "Epoch 49/50\n",
      "5000/5000 [==============================] - 1s 202us/step - loss: 0.4606 - accuracy: 0.9270 - val_loss: 1.7983 - val_accuracy: 0.3574\n",
      "Epoch 50/50\n",
      "5000/5000 [==============================] - 1s 203us/step - loss: 0.4471 - accuracy: 0.9346 - val_loss: 1.7924 - val_accuracy: 0.3626\n"
     ]
    }
   ],
   "source": [
    "model = build_mlp(input_shape=x_train.shape[1:])\n",
    "model.summary()\n",
    "optimizer = keras.optimizers.SGD(lr=LEARNING_RATE, nesterov=True, momentum=MOMENTUM)\n",
    "model.compile(loss=\"categorical_crossentropy\", metrics=[\"accuracy\"], optimizer=optimizer)\n",
    "\n",
    "model.fit(x_train, y_train, \n",
    "          epochs=EPOCHS, \n",
    "          batch_size=BATCH_SIZE, \n",
    "          validation_data=(x_test, y_test), \n",
    "          shuffle=True,\n",
    "          callbacks=[reduce_lr]\n",
    "         )\n",
    "\n",
    "# Collect results\n",
    "train_loss = model.history.history[\"loss\"]\n",
    "valid_loss = model.history.history[\"val_loss\"]\n",
    "train_acc = model.history.history[\"accuracy\"]\n",
    "valid_acc = model.history.history[\"val_accuracy\"]"
   ]
  },
  {
   "cell_type": "code",
   "execution_count": 12,
   "metadata": {
    "ExecuteTime": {
     "end_time": "2019-12-25T14:39:29.823487Z",
     "start_time": "2019-12-25T14:39:29.251187Z"
    }
   },
   "outputs": [
    {
     "data": {
      "image/png": "[encoded data removed]",
      "text/plain": [
       "<Figure size 432x288 with 1 Axes>"
      ]
     },
     "metadata": {
      "needs_background": "light"
     },
     "output_type": "display_data"
    },
    {
     "data": {
      "image/png": "[encoded data removed]",
      "text/plain": [
       "<Figure size 432x288 with 1 Axes>"
      ]
     },
     "metadata": {
      "needs_background": "light"
     },
     "output_type": "display_data"
    }
   ],
   "source": [
    "import matplotlib.pyplot as plt\n",
    "%matplotlib inline\n",
    "\n",
    "plt.plot(range(len(train_loss)), train_loss, label=\"train loss\")\n",
    "plt.plot(range(len(valid_loss)), valid_loss, label=\"valid loss\")\n",
    "plt.legend()\n",
    "plt.title(\"Loss\")\n",
    "plt.show()\n",
    "\n",
    "plt.plot(range(len(train_acc)), train_acc, label=\"train accuracy\")\n",
    "plt.plot(range(len(valid_acc)), valid_acc, label=\"valid accuracy\")\n",
    "plt.legend()\n",
    "plt.title(\"Accuracy\")\n",
    "plt.show()"
   ]
  },
  {
   "cell_type": "markdown",
   "metadata": {},
   "source": [
    "## Work\n",
    "1. 請改變 reduce_lr 的 patience 和 factor 並比較不同設定下，對訓練/驗證集的影響\n",
    "2. 請將 optimizer 換成 Adam、RMSprop 搭配 reduce_lr 並比較訓練結果"
   ]
  }
 ],
 "metadata": {
  "hide_input": false,
  "kernelspec": {
   "display_name": "Python 3",
   "language": "python",
   "name": "python3"
  },
  "language_info": {
   "codemirror_mode": {
    "name": "ipython",
    "version": 3
   },
   "file_extension": ".py",
   "mimetype": "text/x-python",
   "name": "python",
   "nbconvert_exporter": "python",
   "pygments_lexer": "ipython3",
   "version": "3.6.9"
  },
  "toc": {
   "base_numbering": 1,
   "nav_menu": {},
   "number_sections": true,
   "sideBar": true,
   "skip_h1_title": false,
   "title_cell": "Table of Contents",
   "title_sidebar": "Contents",
   "toc_cell": false,
   "toc_position": {},
   "toc_section_display": true,
   "toc_window_display": false
  }
 },
 "nbformat": 4,
 "nbformat_minor": 2
}
