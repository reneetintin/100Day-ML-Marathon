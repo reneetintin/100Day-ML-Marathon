{
 "cells": [
  {
   "cell_type": "markdown",
   "metadata": {},
   "source": [
    "## Work\n",
    "1. 試比較 save_best_only 與否的差異\n",
    "2. 請僅存入將 save_weights_only 設定為 True, 並嘗試 reset ipynb 並將模型與權重重新建回並預測 x_test"
   ]
  },
  {
   "cell_type": "code",
   "execution_count": 17,
   "metadata": {
    "ExecuteTime": {
     "end_time": "2019-12-25T14:22:10.860784Z",
     "start_time": "2019-12-25T14:22:10.857156Z"
    }
   },
   "outputs": [],
   "source": [
    "import os\n",
    "import keras\n",
    "\n",
    "# Disable GPU\n",
    "os.environ[\"CUDA_VISIBLE_DEVICES\"] = \"\""
   ]
  },
  {
   "cell_type": "code",
   "execution_count": 18,
   "metadata": {
    "ExecuteTime": {
     "end_time": "2019-12-25T14:22:11.488556Z",
     "start_time": "2019-12-25T14:22:11.056618Z"
    }
   },
   "outputs": [],
   "source": [
    "train, test = keras.datasets.cifar10.load_data()"
   ]
  },
  {
   "cell_type": "code",
   "execution_count": 19,
   "metadata": {
    "ExecuteTime": {
     "end_time": "2019-12-25T14:22:11.497321Z",
     "start_time": "2019-12-25T14:22:11.490883Z"
    }
   },
   "outputs": [],
   "source": [
    "## 資料前處理\n",
    "def preproc_x(x, flatten=True):\n",
    "    x = x / 255.\n",
    "    if flatten:\n",
    "        x = x.reshape((len(x), -1))\n",
    "    return x\n",
    "\n",
    "def preproc_y(y, num_classes=10):\n",
    "    if y.shape[-1] == 1:\n",
    "        y = keras.utils.to_categorical(y, num_classes)\n",
    "    return y    "
   ]
  },
  {
   "cell_type": "code",
   "execution_count": 20,
   "metadata": {
    "ExecuteTime": {
     "end_time": "2019-12-25T14:22:16.761891Z",
     "start_time": "2019-12-25T14:22:11.500545Z"
    }
   },
   "outputs": [],
   "source": [
    "x_train, y_train = train\n",
    "x_test, y_test = test\n",
    "\n",
    "# Preproc the inputs\n",
    "x_train = preproc_x(x_train)\n",
    "x_test = preproc_x(x_test)\n",
    "\n",
    "# Preprc the outputs\n",
    "y_train = preproc_y(y_train)\n",
    "y_test = preproc_y(y_test)"
   ]
  },
  {
   "cell_type": "code",
   "execution_count": 21,
   "metadata": {
    "ExecuteTime": {
     "end_time": "2019-12-25T14:22:17.066267Z",
     "start_time": "2019-12-25T14:22:16.768669Z"
    }
   },
   "outputs": [],
   "source": [
    "import numpy as np\n",
    "\n",
    "a = np.arange(50000)\n",
    "np.random.shuffle(a)\n",
    "indexs = a[:5000]\n",
    "\n",
    "x_train = x_train[indexs]\n",
    "y_train = y_train[indexs]"
   ]
  },
  {
   "cell_type": "code",
   "execution_count": 22,
   "metadata": {
    "ExecuteTime": {
     "end_time": "2019-12-25T14:22:17.106050Z",
     "start_time": "2019-12-25T14:22:17.070733Z"
    }
   },
   "outputs": [],
   "source": [
    "from keras.layers import BatchNormalization\n",
    "\n",
    "\"\"\"\n",
    "建立神經網路，並加入 BN layer\n",
    "\"\"\"\n",
    "def build_mlp(input_shape, output_units=10, num_neurons=[512, 256, 128]):\n",
    "    input_layer = keras.layers.Input(input_shape)\n",
    "    \n",
    "    for i, n_units in enumerate(num_neurons):\n",
    "        if i == 0:\n",
    "            x = keras.layers.Dense(units=n_units, \n",
    "                                   activation=\"relu\", \n",
    "                                   name=\"hidden_layer\"+str(i+1))(input_layer)\n",
    "            x = BatchNormalization()(x)\n",
    "        else:\n",
    "            x = keras.layers.Dense(units=n_units, \n",
    "                                   activation=\"relu\", \n",
    "                                   name=\"hidden_layer\"+str(i+1))(x)\n",
    "            x = BatchNormalization()(x)\n",
    "    \n",
    "    out = keras.layers.Dense(units=output_units, activation=\"softmax\", name=\"output\")(x)\n",
    "    \n",
    "    model = keras.models.Model(inputs=[input_layer], outputs=[out])\n",
    "    return model"
   ]
  },
  {
   "cell_type": "code",
   "execution_count": 23,
   "metadata": {
    "ExecuteTime": {
     "end_time": "2019-12-25T14:22:17.112819Z",
     "start_time": "2019-12-25T14:22:17.108715Z"
    }
   },
   "outputs": [],
   "source": [
    "## 超參數設定\n",
    "LEARNING_RATE = 1e-3\n",
    "EPOCHS = 50\n",
    "BATCH_SIZE = 1024\n",
    "MOMENTUM = 0.95"
   ]
  },
  {
   "cell_type": "markdown",
   "metadata": {},
   "source": [
    "## 試比較 save_best_only 與否的差異"
   ]
  },
  {
   "cell_type": "code",
   "execution_count": 24,
   "metadata": {
    "ExecuteTime": {
     "end_time": "2019-12-25T14:24:26.147884Z",
     "start_time": "2019-12-25T14:22:28.674488Z"
    }
   },
   "outputs": [
    {
     "name": "stdout",
     "output_type": "stream",
     "text": [
      "Model: \"model_1\"\n",
      "_________________________________________________________________\n",
      "Layer (type)                 Output Shape              Param #   \n",
      "=================================================================\n",
      "input_1 (InputLayer)         (None, 3072)              0         \n",
      "_________________________________________________________________\n",
      "hidden_layer1 (Dense)        (None, 512)               1573376   \n",
      "_________________________________________________________________\n",
      "batch_normalization_1 (Batch (None, 512)               2048      \n",
      "_________________________________________________________________\n",
      "hidden_layer2 (Dense)        (None, 256)               131328    \n",
      "_________________________________________________________________\n",
      "batch_normalization_2 (Batch (None, 256)               1024      \n",
      "_________________________________________________________________\n",
      "hidden_layer3 (Dense)        (None, 128)               32896     \n",
      "_________________________________________________________________\n",
      "batch_normalization_3 (Batch (None, 128)               512       \n",
      "_________________________________________________________________\n",
      "output (Dense)               (None, 10)                1290      \n",
      "=================================================================\n",
      "Total params: 1,742,474\n",
      "Trainable params: 1,740,682\n",
      "Non-trainable params: 1,792\n",
      "_________________________________________________________________\n",
      "Train on 5000 samples, validate on 10000 samples\n",
      "Epoch 1/50\n",
      "5000/5000 [==============================] - 2s 320us/step - loss: 2.9585 - accuracy: 0.1118 - val_loss: 2.3187 - val_accuracy: 0.1201\n",
      "Epoch 2/50\n",
      "5000/5000 [==============================] - 1s 192us/step - loss: 2.5881 - accuracy: 0.1752 - val_loss: 2.2931 - val_accuracy: 0.1601\n",
      "Epoch 3/50\n",
      "5000/5000 [==============================] - 1s 208us/step - loss: 2.2893 - accuracy: 0.2382 - val_loss: 2.2703 - val_accuracy: 0.1698\n",
      "Epoch 4/50\n",
      "5000/5000 [==============================] - 1s 206us/step - loss: 2.0804 - accuracy: 0.2928 - val_loss: 2.2476 - val_accuracy: 0.1743\n",
      "Epoch 5/50\n",
      "5000/5000 [==============================] - 1s 226us/step - loss: 1.9264 - accuracy: 0.3444 - val_loss: 2.2263 - val_accuracy: 0.1808\n",
      "Epoch 6/50\n",
      "5000/5000 [==============================] - 1s 255us/step - loss: 1.8020 - accuracy: 0.3810 - val_loss: 2.2084 - val_accuracy: 0.1838\n",
      "Epoch 7/50\n",
      "5000/5000 [==============================] - 1s 215us/step - loss: 1.7023 - accuracy: 0.4128 - val_loss: 2.1941 - val_accuracy: 0.1891\n",
      "Epoch 8/50\n",
      "5000/5000 [==============================] - 1s 205us/step - loss: 1.6201 - accuracy: 0.4440 - val_loss: 2.1812 - val_accuracy: 0.1945\n",
      "Epoch 9/50\n",
      "5000/5000 [==============================] - 1s 242us/step - loss: 1.5481 - accuracy: 0.4720 - val_loss: 2.1712 - val_accuracy: 0.2002\n",
      "Epoch 10/50\n",
      "5000/5000 [==============================] - 1s 201us/step - loss: 1.4851 - accuracy: 0.4928 - val_loss: 2.1608 - val_accuracy: 0.2057\n",
      "Epoch 11/50\n",
      "5000/5000 [==============================] - 1s 203us/step - loss: 1.4259 - accuracy: 0.5224 - val_loss: 2.1477 - val_accuracy: 0.2143\n",
      "Epoch 12/50\n",
      "5000/5000 [==============================] - 1s 207us/step - loss: 1.3747 - accuracy: 0.5436 - val_loss: 2.1367 - val_accuracy: 0.2196\n",
      "Epoch 13/50\n",
      "5000/5000 [==============================] - 1s 192us/step - loss: 1.3277 - accuracy: 0.5664 - val_loss: 2.1239 - val_accuracy: 0.2284\n",
      "Epoch 14/50\n",
      "5000/5000 [==============================] - 1s 192us/step - loss: 1.2825 - accuracy: 0.5806 - val_loss: 2.1113 - val_accuracy: 0.2385\n",
      "Epoch 15/50\n",
      "5000/5000 [==============================] - 1s 192us/step - loss: 1.2435 - accuracy: 0.6028 - val_loss: 2.0984 - val_accuracy: 0.2465\n",
      "Epoch 16/50\n",
      "5000/5000 [==============================] - 1s 194us/step - loss: 1.2020 - accuracy: 0.6198 - val_loss: 2.0850 - val_accuracy: 0.2541\n",
      "Epoch 17/50\n",
      "5000/5000 [==============================] - 1s 191us/step - loss: 1.1664 - accuracy: 0.6418 - val_loss: 2.0736 - val_accuracy: 0.2602\n",
      "Epoch 18/50\n",
      "5000/5000 [==============================] - 1s 198us/step - loss: 1.1308 - accuracy: 0.6556 - val_loss: 2.0602 - val_accuracy: 0.2678\n",
      "Epoch 19/50\n",
      "5000/5000 [==============================] - 1s 194us/step - loss: 1.0999 - accuracy: 0.6684 - val_loss: 2.0478 - val_accuracy: 0.2738\n",
      "Epoch 20/50\n",
      "5000/5000 [==============================] - 1s 193us/step - loss: 1.0675 - accuracy: 0.6830 - val_loss: 2.0380 - val_accuracy: 0.2782\n",
      "Epoch 21/50\n",
      "5000/5000 [==============================] - 1s 213us/step - loss: 1.0379 - accuracy: 0.7024 - val_loss: 2.0281 - val_accuracy: 0.2836\n",
      "Epoch 22/50\n",
      "5000/5000 [==============================] - 1s 198us/step - loss: 1.0109 - accuracy: 0.7078 - val_loss: 2.0179 - val_accuracy: 0.2885\n",
      "Epoch 23/50\n",
      "5000/5000 [==============================] - 1s 191us/step - loss: 0.9831 - accuracy: 0.7202 - val_loss: 2.0062 - val_accuracy: 0.2945\n",
      "Epoch 24/50\n",
      "5000/5000 [==============================] - 1s 216us/step - loss: 0.9537 - accuracy: 0.7330 - val_loss: 1.9962 - val_accuracy: 0.2992\n",
      "Epoch 25/50\n",
      "5000/5000 [==============================] - 1s 220us/step - loss: 0.9285 - accuracy: 0.7478 - val_loss: 1.9848 - val_accuracy: 0.3066\n",
      "Epoch 26/50\n",
      "5000/5000 [==============================] - 1s 210us/step - loss: 0.9028 - accuracy: 0.7582 - val_loss: 1.9748 - val_accuracy: 0.3103\n",
      "Epoch 27/50\n",
      "5000/5000 [==============================] - 1s 228us/step - loss: 0.8823 - accuracy: 0.7660 - val_loss: 1.9673 - val_accuracy: 0.3143\n",
      "Epoch 28/50\n",
      "5000/5000 [==============================] - 1s 228us/step - loss: 0.8590 - accuracy: 0.7772 - val_loss: 1.9587 - val_accuracy: 0.3196\n",
      "Epoch 29/50\n",
      "5000/5000 [==============================] - 1s 217us/step - loss: 0.8349 - accuracy: 0.7854 - val_loss: 1.9482 - val_accuracy: 0.3252\n",
      "Epoch 30/50\n",
      "5000/5000 [==============================] - 1s 207us/step - loss: 0.8126 - accuracy: 0.7944 - val_loss: 1.9385 - val_accuracy: 0.3297\n",
      "Epoch 31/50\n",
      "5000/5000 [==============================] - 1s 194us/step - loss: 0.7913 - accuracy: 0.8066 - val_loss: 1.9318 - val_accuracy: 0.3323\n",
      "Epoch 32/50\n",
      "5000/5000 [==============================] - 1s 192us/step - loss: 0.7713 - accuracy: 0.8124 - val_loss: 1.9250 - val_accuracy: 0.3356\n",
      "Epoch 33/50\n",
      "5000/5000 [==============================] - 1s 197us/step - loss: 0.7495 - accuracy: 0.8244 - val_loss: 1.9163 - val_accuracy: 0.3386\n",
      "Epoch 34/50\n",
      "5000/5000 [==============================] - 1s 192us/step - loss: 0.7285 - accuracy: 0.8296 - val_loss: 1.9063 - val_accuracy: 0.3415\n",
      "Epoch 35/50\n",
      "5000/5000 [==============================] - 1s 221us/step - loss: 0.7089 - accuracy: 0.8400 - val_loss: 1.8995 - val_accuracy: 0.3441\n",
      "Epoch 36/50\n",
      "5000/5000 [==============================] - 1s 202us/step - loss: 0.6901 - accuracy: 0.8460 - val_loss: 1.8944 - val_accuracy: 0.3463\n",
      "Epoch 37/50\n",
      "5000/5000 [==============================] - 1s 200us/step - loss: 0.6728 - accuracy: 0.8498 - val_loss: 1.8866 - val_accuracy: 0.3471\n",
      "Epoch 38/50\n",
      "5000/5000 [==============================] - 1s 206us/step - loss: 0.6557 - accuracy: 0.8560 - val_loss: 1.8788 - val_accuracy: 0.3494\n",
      "Epoch 39/50\n",
      "5000/5000 [==============================] - 1s 213us/step - loss: 0.6379 - accuracy: 0.8674 - val_loss: 1.8750 - val_accuracy: 0.3488\n",
      "Epoch 40/50\n",
      "5000/5000 [==============================] - 1s 211us/step - loss: 0.6222 - accuracy: 0.8708 - val_loss: 1.8692 - val_accuracy: 0.3511\n",
      "Epoch 41/50\n",
      "5000/5000 [==============================] - 1s 211us/step - loss: 0.6053 - accuracy: 0.8788 - val_loss: 1.8629 - val_accuracy: 0.3551\n",
      "Epoch 42/50\n",
      "5000/5000 [==============================] - 1s 196us/step - loss: 0.5895 - accuracy: 0.8826 - val_loss: 1.8559 - val_accuracy: 0.3559\n",
      "Epoch 43/50\n",
      "5000/5000 [==============================] - 1s 215us/step - loss: 0.5740 - accuracy: 0.8892 - val_loss: 1.8532 - val_accuracy: 0.3564\n",
      "Epoch 44/50\n",
      "5000/5000 [==============================] - 1s 203us/step - loss: 0.5597 - accuracy: 0.8946 - val_loss: 1.8508 - val_accuracy: 0.3590\n",
      "Epoch 45/50\n",
      "5000/5000 [==============================] - 1s 212us/step - loss: 0.5429 - accuracy: 0.9022 - val_loss: 1.8454 - val_accuracy: 0.3602\n",
      "Epoch 46/50\n",
      "5000/5000 [==============================] - 1s 204us/step - loss: 0.5281 - accuracy: 0.9056 - val_loss: 1.8373 - val_accuracy: 0.3593\n"
     ]
    },
    {
     "name": "stdout",
     "output_type": "stream",
     "text": [
      "Epoch 47/50\n",
      "5000/5000 [==============================] - 1s 205us/step - loss: 0.5150 - accuracy: 0.9116 - val_loss: 1.8353 - val_accuracy: 0.3600\n",
      "Epoch 48/50\n",
      "5000/5000 [==============================] - 1s 209us/step - loss: 0.5001 - accuracy: 0.9182 - val_loss: 1.8317 - val_accuracy: 0.3607\n",
      "Epoch 49/50\n",
      "5000/5000 [==============================] - 1s 194us/step - loss: 0.4882 - accuracy: 0.9210 - val_loss: 1.8269 - val_accuracy: 0.3633\n",
      "Epoch 50/50\n",
      "5000/5000 [==============================] - 1s 195us/step - loss: 0.4761 - accuracy: 0.9260 - val_loss: 1.8257 - val_accuracy: 0.3635\n",
      "10000/10000 [==============================] - 1s 98us/step\n",
      "Model: \"model_1\"\n",
      "_________________________________________________________________\n",
      "Layer (type)                 Output Shape              Param #   \n",
      "=================================================================\n",
      "input_1 (InputLayer)         (None, 3072)              0         \n",
      "_________________________________________________________________\n",
      "hidden_layer1 (Dense)        (None, 512)               1573376   \n",
      "_________________________________________________________________\n",
      "batch_normalization_1 (Batch (None, 512)               2048      \n",
      "_________________________________________________________________\n",
      "hidden_layer2 (Dense)        (None, 256)               131328    \n",
      "_________________________________________________________________\n",
      "batch_normalization_2 (Batch (None, 256)               1024      \n",
      "_________________________________________________________________\n",
      "hidden_layer3 (Dense)        (None, 128)               32896     \n",
      "_________________________________________________________________\n",
      "batch_normalization_3 (Batch (None, 128)               512       \n",
      "_________________________________________________________________\n",
      "output (Dense)               (None, 10)                1290      \n",
      "=================================================================\n",
      "Total params: 1,742,474\n",
      "Trainable params: 1,740,682\n",
      "Non-trainable params: 1,792\n",
      "_________________________________________________________________\n",
      "Train on 5000 samples, validate on 10000 samples\n",
      "Epoch 1/50\n",
      "5000/5000 [==============================] - 2s 347us/step - loss: 2.8729 - accuracy: 0.1106 - val_loss: 2.3843 - val_accuracy: 0.1035\n",
      "Epoch 2/50\n",
      "5000/5000 [==============================] - 1s 215us/step - loss: 2.5393 - accuracy: 0.1758 - val_loss: 2.3374 - val_accuracy: 0.1258\n",
      "Epoch 3/50\n",
      "5000/5000 [==============================] - 1s 199us/step - loss: 2.2808 - accuracy: 0.2396 - val_loss: 2.3049 - val_accuracy: 0.1189\n",
      "Epoch 4/50\n",
      "5000/5000 [==============================] - 1s 236us/step - loss: 2.0796 - accuracy: 0.2936 - val_loss: 2.2758 - val_accuracy: 0.1236\n",
      "Epoch 5/50\n",
      "5000/5000 [==============================] - 1s 211us/step - loss: 1.9355 - accuracy: 0.3322 - val_loss: 2.2514 - val_accuracy: 0.1356\n",
      "Epoch 6/50\n",
      "5000/5000 [==============================] - 1s 224us/step - loss: 1.8166 - accuracy: 0.3744 - val_loss: 2.2302 - val_accuracy: 0.1478\n",
      "Epoch 7/50\n",
      "5000/5000 [==============================] - 1s 211us/step - loss: 1.7180 - accuracy: 0.4098 - val_loss: 2.2115 - val_accuracy: 0.1581\n",
      "Epoch 8/50\n",
      "5000/5000 [==============================] - 1s 203us/step - loss: 1.6394 - accuracy: 0.4368 - val_loss: 2.1936 - val_accuracy: 0.1719\n",
      "Epoch 9/50\n",
      "5000/5000 [==============================] - 1s 197us/step - loss: 1.5634 - accuracy: 0.4618 - val_loss: 2.1758 - val_accuracy: 0.1855\n",
      "Epoch 10/50\n",
      "5000/5000 [==============================] - 1s 204us/step - loss: 1.4996 - accuracy: 0.4852 - val_loss: 2.1568 - val_accuracy: 0.1996\n",
      "Epoch 11/50\n",
      "5000/5000 [==============================] - 1s 200us/step - loss: 1.4395 - accuracy: 0.5148 - val_loss: 2.1409 - val_accuracy: 0.2107\n",
      "Epoch 12/50\n",
      "5000/5000 [==============================] - 1s 196us/step - loss: 1.3865 - accuracy: 0.5354 - val_loss: 2.1270 - val_accuracy: 0.2169\n",
      "Epoch 13/50\n",
      "5000/5000 [==============================] - 1s 205us/step - loss: 1.3363 - accuracy: 0.5550 - val_loss: 2.1125 - val_accuracy: 0.2242\n",
      "Epoch 14/50\n",
      "5000/5000 [==============================] - 1s 203us/step - loss: 1.2913 - accuracy: 0.5758 - val_loss: 2.0962 - val_accuracy: 0.2373\n",
      "Epoch 15/50\n",
      "5000/5000 [==============================] - 1s 200us/step - loss: 1.2460 - accuracy: 0.5934 - val_loss: 2.0797 - val_accuracy: 0.2505\n",
      "Epoch 16/50\n",
      "5000/5000 [==============================] - 1s 199us/step - loss: 1.2071 - accuracy: 0.6088 - val_loss: 2.0660 - val_accuracy: 0.2585\n",
      "Epoch 17/50\n",
      "5000/5000 [==============================] - 1s 202us/step - loss: 1.1676 - accuracy: 0.6250 - val_loss: 2.0541 - val_accuracy: 0.2690\n",
      "Epoch 18/50\n",
      "5000/5000 [==============================] - 1s 210us/step - loss: 1.1328 - accuracy: 0.6410 - val_loss: 2.0435 - val_accuracy: 0.2750\n",
      "Epoch 19/50\n",
      "5000/5000 [==============================] - 1s 202us/step - loss: 1.0995 - accuracy: 0.6600 - val_loss: 2.0308 - val_accuracy: 0.2844\n",
      "Epoch 20/50\n",
      "5000/5000 [==============================] - 1s 206us/step - loss: 1.0651 - accuracy: 0.6756 - val_loss: 2.0174 - val_accuracy: 0.2911\n",
      "Epoch 21/50\n",
      "5000/5000 [==============================] - 1s 207us/step - loss: 1.0361 - accuracy: 0.6884 - val_loss: 2.0036 - val_accuracy: 0.3019\n",
      "Epoch 22/50\n",
      "5000/5000 [==============================] - 1s 208us/step - loss: 1.0064 - accuracy: 0.7058 - val_loss: 1.9918 - val_accuracy: 0.3061\n",
      "Epoch 23/50\n",
      "5000/5000 [==============================] - 1s 200us/step - loss: 0.9773 - accuracy: 0.7222 - val_loss: 1.9795 - val_accuracy: 0.3134\n",
      "Epoch 24/50\n",
      "5000/5000 [==============================] - 1s 197us/step - loss: 0.9495 - accuracy: 0.7290 - val_loss: 1.9672 - val_accuracy: 0.3166\n",
      "Epoch 25/50\n",
      "5000/5000 [==============================] - 1s 199us/step - loss: 0.9236 - accuracy: 0.7450 - val_loss: 1.9545 - val_accuracy: 0.3219\n",
      "Epoch 26/50\n",
      "5000/5000 [==============================] - 1s 190us/step - loss: 0.8992 - accuracy: 0.7558 - val_loss: 1.9434 - val_accuracy: 0.3247\n",
      "Epoch 27/50\n",
      "5000/5000 [==============================] - 1s 194us/step - loss: 0.8736 - accuracy: 0.7686 - val_loss: 1.9316 - val_accuracy: 0.3279\n",
      "Epoch 28/50\n",
      "5000/5000 [==============================] - 1s 199us/step - loss: 0.8487 - accuracy: 0.7786 - val_loss: 1.9218 - val_accuracy: 0.3305\n",
      "Epoch 29/50\n",
      "5000/5000 [==============================] - 1s 194us/step - loss: 0.8264 - accuracy: 0.7884 - val_loss: 1.9133 - val_accuracy: 0.3317\n",
      "Epoch 30/50\n",
      "5000/5000 [==============================] - 1s 198us/step - loss: 0.8046 - accuracy: 0.7948 - val_loss: 1.9032 - val_accuracy: 0.3345\n",
      "Epoch 31/50\n",
      "5000/5000 [==============================] - 1s 189us/step - loss: 0.7833 - accuracy: 0.8022 - val_loss: 1.8936 - val_accuracy: 0.3365\n",
      "Epoch 32/50\n",
      "5000/5000 [==============================] - 1s 193us/step - loss: 0.7614 - accuracy: 0.8168 - val_loss: 1.8863 - val_accuracy: 0.3393\n",
      "Epoch 33/50\n",
      "5000/5000 [==============================] - 1s 194us/step - loss: 0.7419 - accuracy: 0.8248 - val_loss: 1.8796 - val_accuracy: 0.3399\n",
      "Epoch 34/50\n",
      "5000/5000 [==============================] - 1s 198us/step - loss: 0.7203 - accuracy: 0.8328 - val_loss: 1.8715 - val_accuracy: 0.3428\n",
      "Epoch 35/50\n",
      "5000/5000 [==============================] - 1s 217us/step - loss: 0.7027 - accuracy: 0.8390 - val_loss: 1.8640 - val_accuracy: 0.3439\n",
      "Epoch 36/50\n",
      "5000/5000 [==============================] - 1s 196us/step - loss: 0.6856 - accuracy: 0.8418 - val_loss: 1.8568 - val_accuracy: 0.3451\n",
      "Epoch 37/50\n",
      "5000/5000 [==============================] - 1s 193us/step - loss: 0.6689 - accuracy: 0.8506 - val_loss: 1.8507 - val_accuracy: 0.3444\n",
      "Epoch 38/50\n",
      "5000/5000 [==============================] - 1s 192us/step - loss: 0.6494 - accuracy: 0.8598 - val_loss: 1.8444 - val_accuracy: 0.3456\n",
      "Epoch 39/50\n",
      "5000/5000 [==============================] - 1s 194us/step - loss: 0.6319 - accuracy: 0.8690 - val_loss: 1.8399 - val_accuracy: 0.3468\n",
      "Epoch 40/50\n",
      "5000/5000 [==============================] - 1s 192us/step - loss: 0.6151 - accuracy: 0.8756 - val_loss: 1.8334 - val_accuracy: 0.3480\n",
      "Epoch 41/50\n",
      "5000/5000 [==============================] - 1s 206us/step - loss: 0.5985 - accuracy: 0.8812 - val_loss: 1.8255 - val_accuracy: 0.3517\n",
      "Epoch 42/50\n"
     ]
    },
    {
     "name": "stdout",
     "output_type": "stream",
     "text": [
      "5000/5000 [==============================] - 1s 225us/step - loss: 0.5845 - accuracy: 0.8838 - val_loss: 1.8229 - val_accuracy: 0.3529\n",
      "Epoch 43/50\n",
      "5000/5000 [==============================] - 1s 214us/step - loss: 0.5679 - accuracy: 0.8926 - val_loss: 1.8172 - val_accuracy: 0.3544\n",
      "Epoch 44/50\n",
      "5000/5000 [==============================] - 1s 214us/step - loss: 0.5541 - accuracy: 0.8970 - val_loss: 1.8127 - val_accuracy: 0.3578\n",
      "Epoch 45/50\n",
      "5000/5000 [==============================] - 1s 230us/step - loss: 0.5398 - accuracy: 0.9062 - val_loss: 1.8109 - val_accuracy: 0.3569\n",
      "Epoch 46/50\n",
      "5000/5000 [==============================] - 1s 214us/step - loss: 0.5252 - accuracy: 0.9126 - val_loss: 1.8065 - val_accuracy: 0.3570\n",
      "Epoch 47/50\n",
      "5000/5000 [==============================] - 1s 230us/step - loss: 0.5094 - accuracy: 0.9170 - val_loss: 1.8056 - val_accuracy: 0.3575\n",
      "Epoch 48/50\n",
      "5000/5000 [==============================] - 1s 207us/step - loss: 0.4982 - accuracy: 0.9172 - val_loss: 1.8028 - val_accuracy: 0.3588\n",
      "Epoch 49/50\n",
      "5000/5000 [==============================] - 1s 237us/step - loss: 0.4840 - accuracy: 0.9252 - val_loss: 1.7990 - val_accuracy: 0.3607\n",
      "Epoch 50/50\n",
      "5000/5000 [==============================] - 1s 206us/step - loss: 0.4723 - accuracy: 0.9286 - val_loss: 1.8001 - val_accuracy: 0.3599\n",
      "10000/10000 [==============================] - 1s 100us/step\n"
     ]
    }
   ],
   "source": [
    "\"\"\"\n",
    "# 載入 Callbacks, 並將監控目標設為 validation loss, 且只存最佳參數時的模型\n",
    "\"\"\"\n",
    "from keras.callbacks import ModelCheckpoint\n",
    "\n",
    "def create_model_ckpt(save_best_only):\n",
    "\n",
    "    model_ckpt = ModelCheckpoint(filepath=\"./tmp_{}.h5\".format(save_best_only), \n",
    "                                 monitor=\"val_loss\", \n",
    "                                 save_best_only=save_best_only)\n",
    "    return model_ckpt\n",
    "\n",
    "\n",
    "\n",
    "results = {}\n",
    "\"\"\"Code Here\n",
    "撰寫你的訓練流程並將結果用 dictionary 紀錄\n",
    "\"\"\"\n",
    "for save_best_only in [True, False]:\n",
    "    try:\n",
    "        keras.backend.clear_session() # 把舊的 Graph 清掉\n",
    "    except:\n",
    "        pass\n",
    "\n",
    "    model = build_mlp(input_shape=x_train.shape[1:])\n",
    "    model.summary()\n",
    "    optimizer = keras.optimizers.SGD(lr=LEARNING_RATE, nesterov=True, momentum=MOMENTUM)\n",
    "    model.compile(loss=\"categorical_crossentropy\", metrics=[\"accuracy\"], optimizer=optimizer)\n",
    "\n",
    "    model_ckpt = create_model_ckpt(save_best_only)\n",
    "    \n",
    "    model.fit(x_train, y_train, \n",
    "              epochs=EPOCHS, \n",
    "              batch_size=BATCH_SIZE, \n",
    "              validation_data=(x_test, y_test), \n",
    "              shuffle=True,\n",
    "              callbacks=[model_ckpt]\n",
    "             )\n",
    "\n",
    "    # Collect results\n",
    "    train_loss = model.history.history[\"loss\"]\n",
    "    valid_loss = model.history.history[\"val_loss\"]\n",
    "    train_acc = model.history.history[\"accuracy\"]\n",
    "    valid_acc = model.history.history[\"val_accuracy\"]\n",
    "\n",
    "    # Load back\n",
    "    model = keras.models.load_model(\"./tmp_{}.h5\".format(save_best_only))\n",
    "    loss_loadback, acc_loadback = model.evaluate(x_test, y_test)\n",
    "    \n",
    "    exp_name_tag = \"exp-{save_best_only}\".format(save_best_only=save_best_only)\n",
    "    results[exp_name_tag] = {'train-loss': train_loss,\n",
    "                             'valid-loss': valid_loss,\n",
    "                             'train-acc': train_acc,\n",
    "                             'valid-acc': valid_acc,\n",
    "                            'loss_loadback':loss_loadback,\n",
    "                            'acc_loadback':acc_loadback}"
   ]
  },
  {
   "cell_type": "code",
   "execution_count": null,
   "metadata": {},
   "outputs": [],
   "source": [
    "model = keras.models.load_model(\"./tmp_{}.h5\".format(True))"
   ]
  },
  {
   "cell_type": "code",
   "execution_count": null,
   "metadata": {},
   "outputs": [],
   "source": [
    "model = keras.models.load_model(\"./tmp_{}.h5\".format(True))"
   ]
  },
  {
   "cell_type": "code",
   "execution_count": 25,
   "metadata": {
    "ExecuteTime": {
     "end_time": "2019-12-25T14:25:08.056240Z",
     "start_time": "2019-12-25T14:25:07.128878Z"
    }
   },
   "outputs": [
    {
     "data": {
      "image/png": "[encoded data removed]",
      "text/plain": [
       "<Figure size 1152x432 with 1 Axes>"
      ]
     },
     "metadata": {
      "needs_background": "light"
     },
     "output_type": "display_data"
    },
    {
     "data": {
      "image/png": "[encoded data removed]",
      "text/plain": [
       "<Figure size 1152x432 with 1 Axes>"
      ]
     },
     "metadata": {
      "needs_background": "light"
     },
     "output_type": "display_data"
    }
   ],
   "source": [
    "import matplotlib.pyplot as plt\n",
    "%matplotlib inline\n",
    "\n",
    "import matplotlib.colors as colors\n",
    "color_bar = list(colors._colors_full_map.values())\n",
    "\n",
    "plt.figure(figsize=(16,6))\n",
    "for i, cond in enumerate(results.keys()):\n",
    "    plt.plot(range(len(results[cond]['train-loss'])),results[cond]['train-loss'], '-', label=cond, color=color_bar[i])\n",
    "    plt.plot(range(len(results[cond]['valid-loss'])),results[cond]['valid-loss'], '--', label=cond, color=color_bar[i])\n",
    "    plt.hlines(y=results[cond]['loss_loadback'], xmin=0, xmax=len(train_loss), colors='r', linestyles='--')\n",
    "plt.title(\"Loss\")\n",
    "\n",
    "plt.legend()\n",
    "plt.show()\n",
    "\n",
    "plt.figure(figsize=(16,6))\n",
    "for i, cond in enumerate(results.keys()):\n",
    "    plt.plot(range(len(results[cond]['train-acc'])),results[cond]['train-acc'], '-', label=cond, color=color_bar[i])\n",
    "    plt.plot(range(len(results[cond]['valid-acc'])),results[cond]['valid-acc'], '--', label=cond, color=color_bar[i])\n",
    "    plt.hlines(y=results[cond]['acc_loadback'], xmin=0, xmax=len(train_loss), colors='r', linestyles='--')\n",
    "plt.title(\"Accuracy\")\n",
    "plt.legend()\n",
    "plt.show()"
   ]
  },
  {
   "cell_type": "code",
   "execution_count": null,
   "metadata": {},
   "outputs": [],
   "source": []
  },
  {
   "cell_type": "markdown",
   "metadata": {},
   "source": [
    "請僅存入將 save_weights_only 設定為 True, 並嘗試 reset ipynb 並將模型與權重重新建回並預測 x_test"
   ]
  },
  {
   "cell_type": "code",
   "execution_count": 37,
   "metadata": {
    "ExecuteTime": {
     "end_time": "2019-12-25T14:44:45.613301Z",
     "start_time": "2019-12-25T14:43:47.801191Z"
    }
   },
   "outputs": [
    {
     "name": "stdout",
     "output_type": "stream",
     "text": [
      "Model: \"model_1\"\n",
      "_________________________________________________________________\n",
      "Layer (type)                 Output Shape              Param #   \n",
      "=================================================================\n",
      "input_1 (InputLayer)         (None, 3072)              0         \n",
      "_________________________________________________________________\n",
      "hidden_layer1 (Dense)        (None, 512)               1573376   \n",
      "_________________________________________________________________\n",
      "batch_normalization_1 (Batch (None, 512)               2048      \n",
      "_________________________________________________________________\n",
      "hidden_layer2 (Dense)        (None, 256)               131328    \n",
      "_________________________________________________________________\n",
      "batch_normalization_2 (Batch (None, 256)               1024      \n",
      "_________________________________________________________________\n",
      "hidden_layer3 (Dense)        (None, 128)               32896     \n",
      "_________________________________________________________________\n",
      "batch_normalization_3 (Batch (None, 128)               512       \n",
      "_________________________________________________________________\n",
      "output (Dense)               (None, 10)                1290      \n",
      "=================================================================\n",
      "Total params: 1,742,474\n",
      "Trainable params: 1,740,682\n",
      "Non-trainable params: 1,792\n",
      "_________________________________________________________________\n",
      "Train on 5000 samples, validate on 10000 samples\n",
      "Epoch 1/50\n",
      "5000/5000 [==============================] - 2s 401us/step - loss: 2.8211 - accuracy: 0.1168 - val_loss: 2.2932 - val_accuracy: 0.1281\n",
      "Epoch 2/50\n",
      "5000/5000 [==============================] - 1s 232us/step - loss: 2.4691 - accuracy: 0.1930 - val_loss: 2.2667 - val_accuracy: 0.1328\n",
      "Epoch 3/50\n",
      "5000/5000 [==============================] - 1s 213us/step - loss: 2.2236 - accuracy: 0.2562 - val_loss: 2.2614 - val_accuracy: 0.1203\n",
      "Epoch 4/50\n",
      "5000/5000 [==============================] - 1s 215us/step - loss: 2.0450 - accuracy: 0.3000 - val_loss: 2.2491 - val_accuracy: 0.1255\n",
      "Epoch 5/50\n",
      "5000/5000 [==============================] - 1s 219us/step - loss: 1.9097 - accuracy: 0.3418 - val_loss: 2.2287 - val_accuracy: 0.1362\n",
      "Epoch 6/50\n",
      "5000/5000 [==============================] - 1s 199us/step - loss: 1.8005 - accuracy: 0.3782 - val_loss: 2.2020 - val_accuracy: 0.1527\n",
      "Epoch 7/50\n",
      "5000/5000 [==============================] - 1s 217us/step - loss: 1.7062 - accuracy: 0.4098 - val_loss: 2.1796 - val_accuracy: 0.1661\n",
      "Epoch 8/50\n",
      "5000/5000 [==============================] - 1s 204us/step - loss: 1.6234 - accuracy: 0.4392 - val_loss: 2.1646 - val_accuracy: 0.1691\n",
      "Epoch 9/50\n",
      "5000/5000 [==============================] - 1s 207us/step - loss: 1.5531 - accuracy: 0.4690 - val_loss: 2.1514 - val_accuracy: 0.1794\n",
      "Epoch 10/50\n",
      "5000/5000 [==============================] - 1s 241us/step - loss: 1.4916 - accuracy: 0.4868 - val_loss: 2.1384 - val_accuracy: 0.1994\n",
      "Epoch 11/50\n",
      "5000/5000 [==============================] - 1s 202us/step - loss: 1.4334 - accuracy: 0.5144 - val_loss: 2.1272 - val_accuracy: 0.2162\n",
      "Epoch 12/50\n",
      "5000/5000 [==============================] - 1s 265us/step - loss: 1.3807 - accuracy: 0.5386 - val_loss: 2.1157 - val_accuracy: 0.2341\n",
      "Epoch 13/50\n",
      "5000/5000 [==============================] - 1s 208us/step - loss: 1.3306 - accuracy: 0.5532 - val_loss: 2.1014 - val_accuracy: 0.2531\n",
      "Epoch 14/50\n",
      "5000/5000 [==============================] - 1s 240us/step - loss: 1.2844 - accuracy: 0.5754 - val_loss: 2.0875 - val_accuracy: 0.2668\n",
      "Epoch 15/50\n",
      "5000/5000 [==============================] - 1s 219us/step - loss: 1.2446 - accuracy: 0.5976 - val_loss: 2.0758 - val_accuracy: 0.2769\n",
      "Epoch 16/50\n",
      "5000/5000 [==============================] - 1s 197us/step - loss: 1.2022 - accuracy: 0.6196 - val_loss: 2.0661 - val_accuracy: 0.2869\n",
      "Epoch 17/50\n",
      "5000/5000 [==============================] - 1s 196us/step - loss: 1.1653 - accuracy: 0.6350 - val_loss: 2.0588 - val_accuracy: 0.2906\n",
      "Epoch 18/50\n",
      "5000/5000 [==============================] - 1s 243us/step - loss: 1.1301 - accuracy: 0.6504 - val_loss: 2.0521 - val_accuracy: 0.2926\n",
      "Epoch 19/50\n",
      "5000/5000 [==============================] - 1s 225us/step - loss: 1.0965 - accuracy: 0.6662 - val_loss: 2.0429 - val_accuracy: 0.2969\n",
      "Epoch 20/50\n",
      "5000/5000 [==============================] - 1s 199us/step - loss: 1.0659 - accuracy: 0.6808 - val_loss: 2.0340 - val_accuracy: 0.2971\n",
      "Epoch 21/50\n",
      "5000/5000 [==============================] - 1s 201us/step - loss: 1.0344 - accuracy: 0.7006 - val_loss: 2.0234 - val_accuracy: 0.3041\n",
      "Epoch 22/50\n",
      "5000/5000 [==============================] - 1s 207us/step - loss: 1.0078 - accuracy: 0.7120 - val_loss: 2.0129 - val_accuracy: 0.3091\n",
      "Epoch 23/50\n",
      "5000/5000 [==============================] - 1s 217us/step - loss: 0.9757 - accuracy: 0.7228 - val_loss: 2.0032 - val_accuracy: 0.3118\n",
      "Epoch 24/50\n",
      "5000/5000 [==============================] - 1s 210us/step - loss: 0.9517 - accuracy: 0.7362 - val_loss: 1.9933 - val_accuracy: 0.3143\n",
      "Epoch 25/50\n",
      "5000/5000 [==============================] - 1s 219us/step - loss: 0.9214 - accuracy: 0.7482 - val_loss: 1.9851 - val_accuracy: 0.3155\n",
      "Epoch 26/50\n",
      "5000/5000 [==============================] - 1s 213us/step - loss: 0.8989 - accuracy: 0.7602 - val_loss: 1.9748 - val_accuracy: 0.3219\n",
      "Epoch 27/50\n",
      "5000/5000 [==============================] - 1s 213us/step - loss: 0.8731 - accuracy: 0.7666 - val_loss: 1.9654 - val_accuracy: 0.3225\n",
      "Epoch 28/50\n",
      "5000/5000 [==============================] - 1s 206us/step - loss: 0.8476 - accuracy: 0.7766 - val_loss: 1.9559 - val_accuracy: 0.3266\n",
      "Epoch 29/50\n",
      "5000/5000 [==============================] - 1s 202us/step - loss: 0.8256 - accuracy: 0.7870 - val_loss: 1.9482 - val_accuracy: 0.3269\n",
      "Epoch 30/50\n",
      "5000/5000 [==============================] - 1s 200us/step - loss: 0.8014 - accuracy: 0.7966 - val_loss: 1.9393 - val_accuracy: 0.3298\n",
      "Epoch 31/50\n",
      "5000/5000 [==============================] - 1s 212us/step - loss: 0.7811 - accuracy: 0.8084 - val_loss: 1.9297 - val_accuracy: 0.3321\n",
      "Epoch 32/50\n",
      "5000/5000 [==============================] - 1s 202us/step - loss: 0.7601 - accuracy: 0.8184 - val_loss: 1.9221 - val_accuracy: 0.3338\n",
      "Epoch 33/50\n",
      "5000/5000 [==============================] - 1s 194us/step - loss: 0.7368 - accuracy: 0.8234 - val_loss: 1.9136 - val_accuracy: 0.3366\n",
      "Epoch 34/50\n",
      "5000/5000 [==============================] - 1s 194us/step - loss: 0.7185 - accuracy: 0.8320 - val_loss: 1.9077 - val_accuracy: 0.3367\n",
      "Epoch 35/50\n",
      "5000/5000 [==============================] - 1s 195us/step - loss: 0.6987 - accuracy: 0.8412 - val_loss: 1.8986 - val_accuracy: 0.3396\n",
      "Epoch 36/50\n",
      "5000/5000 [==============================] - 1s 231us/step - loss: 0.6783 - accuracy: 0.8476 - val_loss: 1.8917 - val_accuracy: 0.3424\n",
      "Epoch 37/50\n",
      "5000/5000 [==============================] - 1s 228us/step - loss: 0.6622 - accuracy: 0.8558 - val_loss: 1.8828 - val_accuracy: 0.3444\n",
      "Epoch 38/50\n",
      "5000/5000 [==============================] - 1s 226us/step - loss: 0.6452 - accuracy: 0.8640 - val_loss: 1.8776 - val_accuracy: 0.3448\n",
      "Epoch 39/50\n",
      "5000/5000 [==============================] - 1s 201us/step - loss: 0.6253 - accuracy: 0.8716 - val_loss: 1.8712 - val_accuracy: 0.3481\n",
      "Epoch 40/50\n",
      "5000/5000 [==============================] - 1s 196us/step - loss: 0.6078 - accuracy: 0.8780 - val_loss: 1.8639 - val_accuracy: 0.3507\n",
      "Epoch 41/50\n",
      "5000/5000 [==============================] - 1s 208us/step - loss: 0.5912 - accuracy: 0.8852 - val_loss: 1.8599 - val_accuracy: 0.3510\n",
      "Epoch 42/50\n",
      "5000/5000 [==============================] - 1s 200us/step - loss: 0.5741 - accuracy: 0.8932 - val_loss: 1.8532 - val_accuracy: 0.3523\n",
      "Epoch 43/50\n",
      "5000/5000 [==============================] - 1s 197us/step - loss: 0.5607 - accuracy: 0.8968 - val_loss: 1.8476 - val_accuracy: 0.3540\n",
      "Epoch 44/50\n",
      "5000/5000 [==============================] - 1s 206us/step - loss: 0.5443 - accuracy: 0.9010 - val_loss: 1.8407 - val_accuracy: 0.3560\n",
      "Epoch 45/50\n",
      "5000/5000 [==============================] - 1s 210us/step - loss: 0.5291 - accuracy: 0.9068 - val_loss: 1.8361 - val_accuracy: 0.3573\n",
      "Epoch 46/50\n",
      "5000/5000 [==============================] - 1s 247us/step - loss: 0.5133 - accuracy: 0.9122 - val_loss: 1.8307 - val_accuracy: 0.3591\n"
     ]
    },
    {
     "name": "stdout",
     "output_type": "stream",
     "text": [
      "Epoch 47/50\n",
      "5000/5000 [==============================] - 1s 253us/step - loss: 0.4987 - accuracy: 0.9184 - val_loss: 1.8259 - val_accuracy: 0.3594\n",
      "Epoch 48/50\n",
      "5000/5000 [==============================] - 1s 232us/step - loss: 0.4857 - accuracy: 0.9236 - val_loss: 1.8216 - val_accuracy: 0.3622\n",
      "Epoch 49/50\n",
      "5000/5000 [==============================] - 1s 258us/step - loss: 0.4737 - accuracy: 0.9262 - val_loss: 1.8194 - val_accuracy: 0.3639\n",
      "Epoch 50/50\n",
      "5000/5000 [==============================] - 1s 222us/step - loss: 0.4591 - accuracy: 0.9308 - val_loss: 1.8185 - val_accuracy: 0.3625\n"
     ]
    }
   ],
   "source": [
    "try:\n",
    "    keras.backend.clear_session() # 把舊的 Graph 清掉\n",
    "except:\n",
    "    pass\n",
    "\n",
    "\n",
    "model_ckpt = ModelCheckpoint(filepath=\"./tmp_{name}.h5\".format(name = 'save_weights_only_true'), \n",
    "                                 monitor=\"val_loss\", \n",
    "                                 save_weights_only=True)\n",
    "    \n",
    "model = build_mlp(input_shape=x_train.shape[1:])\n",
    "model.summary()\n",
    "optimizer = keras.optimizers.SGD(lr=LEARNING_RATE, nesterov=True, momentum=MOMENTUM)\n",
    "model.compile(loss=\"categorical_crossentropy\", metrics=[\"accuracy\"], optimizer=optimizer)\n",
    "\n",
    "model.fit(x_train, y_train, \n",
    "          epochs=EPOCHS, \n",
    "          batch_size=BATCH_SIZE, \n",
    "          validation_data=(x_test, y_test), \n",
    "          shuffle=True,\n",
    "          callbacks=[model_ckpt]\n",
    "         )\n",
    "\n",
    "# Collect results\n",
    "train_loss = model.history.history[\"loss\"]\n",
    "valid_loss = model.history.history[\"val_loss\"]\n",
    "train_acc = model.history.history[\"accuracy\"]\n",
    "valid_acc = model.history.history[\"val_accuracy\"]\n",
    "\n"
   ]
  },
  {
   "cell_type": "code",
   "execution_count": 36,
   "metadata": {
    "ExecuteTime": {
     "end_time": "2019-12-25T14:43:38.168467Z",
     "start_time": "2019-12-25T14:43:35.948666Z"
    }
   },
   "outputs": [
    {
     "name": "stdout",
     "output_type": "stream",
     "text": [
      "10000/10000 [==============================] - 2s 187us/step\n"
     ]
    }
   ],
   "source": [
    "# Load back\n",
    "model = build_mlp(input_shape=x_train.shape[1:])\n",
    "model.load_weights(\"tmp_save_weights_only_true.h5\")\n",
    "\n",
    "\n",
    "optimizer = keras.optimizers.SGD(lr=LEARNING_RATE, nesterov=True, momentum=MOMENTUM)\n",
    "model.compile(loss=\"categorical_crossentropy\", metrics=[\"accuracy\"], optimizer=optimizer)\n",
    "# model = keras.models.load_weights(\"tmp_save_weights_only_true.h5\")\n",
    "loss_loadback, acc_loadback = model.evaluate(x_test, y_test)\n"
   ]
  },
  {
   "cell_type": "code",
   "execution_count": 29,
   "metadata": {
    "ExecuteTime": {
     "end_time": "2019-12-25T14:35:39.991798Z",
     "start_time": "2019-12-25T14:35:39.620550Z"
    }
   },
   "outputs": [
    {
     "data": {
      "image/png": "[encoded data removed]",
      "text/plain": [
       "<Figure size 432x288 with 1 Axes>"
      ]
     },
     "metadata": {
      "needs_background": "light"
     },
     "output_type": "display_data"
    },
    {
     "data": {
      "image/png": "[encoded data removed]",
      "text/plain": [
       "<Figure size 432x288 with 1 Axes>"
      ]
     },
     "metadata": {
      "needs_background": "light"
     },
     "output_type": "display_data"
    }
   ],
   "source": [
    "import matplotlib.pyplot as plt\n",
    "%matplotlib inline\n",
    "\n",
    "plt.plot(range(len(train_loss)), train_loss, label=\"train loss\")\n",
    "plt.plot(range(len(valid_loss)), valid_loss, label=\"valid loss\")\n",
    "plt.hlines(y=loss_loadback, xmin=0, xmax=len(train_loss), colors='r', linestyles='--')\n",
    "plt.legend()\n",
    "plt.title(\"Loss\")\n",
    "plt.show()\n",
    "\n",
    "plt.plot(range(len(train_acc)), train_acc, label=\"train accuracy\")\n",
    "plt.plot(range(len(valid_acc)), valid_acc, label=\"valid accuracy\")\n",
    "plt.hlines(y=acc_loadback, xmin=0, xmax=len(train_loss), colors='r', linestyles='--')\n",
    "plt.legend()\n",
    "plt.title(\"Accuracy\")\n",
    "plt.show()"
   ]
  },
  {
   "cell_type": "code",
   "execution_count": null,
   "metadata": {},
   "outputs": [],
   "source": []
  }
 ],
 "metadata": {
  "hide_input": false,
  "kernelspec": {
   "display_name": "Python 3",
   "language": "python",
   "name": "python3"
  },
  "language_info": {
   "codemirror_mode": {
    "name": "ipython",
    "version": 3
   },
   "file_extension": ".py",
   "mimetype": "text/x-python",
   "name": "python",
   "nbconvert_exporter": "python",
   "pygments_lexer": "ipython3",
   "version": "3.6.9"
  },
  "toc": {
   "base_numbering": 1,
   "nav_menu": {},
   "number_sections": true,
   "sideBar": true,
   "skip_h1_title": false,
   "title_cell": "Table of Contents",
   "title_sidebar": "Contents",
   "toc_cell": false,
   "toc_position": {},
   "toc_section_display": true,
   "toc_window_display": false
  }
 },
 "nbformat": 4,
 "nbformat_minor": 2
}
