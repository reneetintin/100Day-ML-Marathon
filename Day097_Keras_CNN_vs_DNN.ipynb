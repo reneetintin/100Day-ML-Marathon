{
 "cells": [
  {
   "cell_type": "code",
   "execution_count": 1,
   "metadata": {
    "ExecuteTime": {
     "end_time": "2019-12-25T21:41:05.259518Z",
     "start_time": "2019-12-25T21:41:02.374468Z"
    }
   },
   "outputs": [
    {
     "name": "stderr",
     "output_type": "stream",
     "text": [
      "Using TensorFlow backend.\n"
     ]
    }
   ],
   "source": [
    "import keras\n",
    "from keras.datasets import cifar10\n",
    "from keras.preprocessing.image import ImageDataGenerator\n",
    "from keras.models import Sequential\n",
    "from keras.layers import Dense, Dropout, Activation, Flatten\n",
    "from keras.layers import Conv2D, MaxPooling2D\n",
    "from keras.optimizers import RMSprop, Adam\n",
    "import os"
   ]
  },
  {
   "cell_type": "code",
   "execution_count": 2,
   "metadata": {
    "ExecuteTime": {
     "end_time": "2019-12-25T21:41:08.352889Z",
     "start_time": "2019-12-25T21:41:07.964974Z"
    }
   },
   "outputs": [
    {
     "name": "stdout",
     "output_type": "stream",
     "text": [
      "x_train shape: (50000, 32, 32, 3)\n",
      "50000 train samples\n",
      "10000 test samples\n"
     ]
    }
   ],
   "source": [
    "batch_size = 128 # batch 的大小，如果出現 OOM error，請降低這個值\n",
    "num_classes = 10 # 類別的數量，Cifar 10 共有 10 個類別\n",
    "epochs = 10 # 訓練的 epochs 數量\n",
    "\n",
    "# 讀取資料並檢視\n",
    "(x_train, y_train), (x_test, y_test) = cifar10.load_data()\n",
    "print('x_train shape:', x_train.shape)\n",
    "print(x_train.shape[0], 'train samples')\n",
    "print(x_test.shape[0], 'test samples')\n",
    "\n",
    "# 對 label 進行 one-hot encoding (y_trian 原本是純數字)\n",
    "y_train = keras.utils.to_categorical(y_train, num_classes)\n",
    "y_test = keras.utils.to_categorical(y_test, num_classes)"
   ]
  },
  {
   "cell_type": "markdown",
   "metadata": {},
   "source": [
    "## 首先我們使用一般的 DNN (MLP) 來訓練\n",
    "由於 DNN 只能輸入一維的資料，我們要先將影像進行攤平，若 (50000, 32, 32, 3) 的影像，攤平後會變成 (50000, 32*32*3) = (50000, 3072)"
   ]
  },
  {
   "cell_type": "code",
   "execution_count": 3,
   "metadata": {
    "ExecuteTime": {
     "end_time": "2019-12-25T21:42:14.591570Z",
     "start_time": "2019-12-25T21:42:13.411365Z"
    }
   },
   "outputs": [
    {
     "name": "stdout",
     "output_type": "stream",
     "text": [
      "50000 train samples\n",
      "10000 test samples\n"
     ]
    }
   ],
   "source": [
    "# 將資料攤平成一維資料\n",
    "x_train = x_train.reshape(50000, 3072) \n",
    "x_test = x_test.reshape(10000, 3072)\n",
    "\n",
    "# 將資料變為 float32 並標準化\n",
    "x_train = x_train.astype('float32')\n",
    "x_test = x_test.astype('float32')\n",
    "x_train /= 255\n",
    "x_test /= 255\n",
    "print(x_train.shape[0], 'train samples')\n",
    "print(x_test.shape[0], 'test samples')"
   ]
  },
  {
   "cell_type": "code",
   "execution_count": 4,
   "metadata": {
    "ExecuteTime": {
     "end_time": "2019-12-25T21:44:09.823269Z",
     "start_time": "2019-12-25T21:42:35.970752Z"
    }
   },
   "outputs": [
    {
     "name": "stdout",
     "output_type": "stream",
     "text": [
      "Model: \"sequential_1\"\n",
      "_________________________________________________________________\n",
      "Layer (type)                 Output Shape              Param #   \n",
      "=================================================================\n",
      "dense_1 (Dense)              (None, 512)               1573376   \n",
      "_________________________________________________________________\n",
      "dropout_1 (Dropout)          (None, 512)               0         \n",
      "_________________________________________________________________\n",
      "dense_2 (Dense)              (None, 512)               262656    \n",
      "_________________________________________________________________\n",
      "dropout_2 (Dropout)          (None, 512)               0         \n",
      "_________________________________________________________________\n",
      "dense_3 (Dense)              (None, 10)                5130      \n",
      "=================================================================\n",
      "Total params: 1,841,162\n",
      "Trainable params: 1,841,162\n",
      "Non-trainable params: 0\n",
      "_________________________________________________________________\n",
      "Train on 50000 samples, validate on 10000 samples\n",
      "Epoch 1/10\n",
      "50000/50000 [==============================] - 10s 201us/step - loss: 2.1549 - accuracy: 0.2459 - val_loss: 1.8392 - val_accuracy: 0.3273\n",
      "Epoch 2/10\n",
      "50000/50000 [==============================] - 9s 180us/step - loss: 1.8630 - accuracy: 0.3290 - val_loss: 1.7811 - val_accuracy: 0.3541\n",
      "Epoch 3/10\n",
      "50000/50000 [==============================] - 9s 181us/step - loss: 1.7799 - accuracy: 0.3619 - val_loss: 1.6601 - val_accuracy: 0.4141\n",
      "Epoch 4/10\n",
      "50000/50000 [==============================] - 10s 191us/step - loss: 1.7295 - accuracy: 0.3796 - val_loss: 1.7485 - val_accuracy: 0.3811\n",
      "Epoch 5/10\n",
      "50000/50000 [==============================] - 9s 186us/step - loss: 1.6948 - accuracy: 0.3957 - val_loss: 1.6601 - val_accuracy: 0.4008\n",
      "Epoch 6/10\n",
      "50000/50000 [==============================] - 9s 180us/step - loss: 1.6650 - accuracy: 0.4028 - val_loss: 1.6486 - val_accuracy: 0.3981\n",
      "Epoch 7/10\n",
      "50000/50000 [==============================] - 9s 179us/step - loss: 1.6391 - accuracy: 0.4134 - val_loss: 1.5877 - val_accuracy: 0.4420\n",
      "Epoch 8/10\n",
      "50000/50000 [==============================] - 9s 185us/step - loss: 1.6162 - accuracy: 0.4203 - val_loss: 1.5515 - val_accuracy: 0.4525\n",
      "Epoch 9/10\n",
      "50000/50000 [==============================] - 9s 185us/step - loss: 1.5993 - accuracy: 0.4260 - val_loss: 1.5652 - val_accuracy: 0.4518\n",
      "Epoch 10/10\n",
      "50000/50000 [==============================] - 9s 185us/step - loss: 1.5912 - accuracy: 0.4300 - val_loss: 1.5828 - val_accuracy: 0.4273\n",
      "Test loss: 1.5828138650894166\n",
      "Test accuracy: 0.42730000615119934\n"
     ]
    }
   ],
   "source": [
    "model = Sequential()\n",
    "model.add(Dense(512, activation='relu', input_shape=(3072,)))\n",
    "model.add(Dropout(0.2))\n",
    "model.add(Dense(512, activation='relu'))\n",
    "model.add(Dropout(0.2))\n",
    "model.add(Dense(num_classes, activation='softmax'))\n",
    "\n",
    "model.summary()\n",
    "\n",
    "model.compile(loss='categorical_crossentropy',\n",
    "              optimizer=RMSprop(),\n",
    "              metrics=['accuracy'])\n",
    "\n",
    "history = model.fit(x_train, y_train,\n",
    "                    batch_size=batch_size,\n",
    "                    epochs=epochs,\n",
    "                    verbose=1,\n",
    "                    validation_data=(x_test, y_test))\n",
    "score = model.evaluate(x_test, y_test, verbose=0)\n",
    "print('Test loss:', score[0])\n",
    "print('Test accuracy:', score[1])"
   ]
  },
  {
   "cell_type": "markdown",
   "metadata": {},
   "source": [
    "## 接下來我們使用 CNN 來訓練神經網路\n",
    "CNN 的原理非常適合處理影像類的資料，就讓我們來看看，同樣的訓練條件，CNN 是否顯著優於 DNN 呢?"
   ]
  },
  {
   "cell_type": "code",
   "execution_count": 5,
   "metadata": {
    "ExecuteTime": {
     "end_time": "2019-12-25T21:44:11.353834Z",
     "start_time": "2019-12-25T21:44:09.825394Z"
    }
   },
   "outputs": [
    {
     "name": "stdout",
     "output_type": "stream",
     "text": [
      "x_train shape: (50000, 32, 32, 3)\n",
      "50000 train samples\n",
      "10000 test samples\n"
     ]
    }
   ],
   "source": [
    "(x_train, y_train), (x_test, y_test) = cifar10.load_data()\n",
    "print('x_train shape:', x_train.shape)\n",
    "print(x_train.shape[0], 'train samples')\n",
    "print(x_test.shape[0], 'test samples')\n",
    "x_train = x_train.astype('float32')\n",
    "x_test = x_test.astype('float32')\n",
    "x_train /= 255\n",
    "x_test /= 255\n",
    "\n",
    "# Convert class vectors to binary class matrices.\n",
    "y_train = keras.utils.to_categorical(y_train, num_classes)\n",
    "y_test = keras.utils.to_categorical(y_test, num_classes)"
   ]
  },
  {
   "cell_type": "code",
   "execution_count": 6,
   "metadata": {
    "ExecuteTime": {
     "end_time": "2019-12-25T22:00:24.525497Z",
     "start_time": "2019-12-25T21:44:11.356160Z"
    }
   },
   "outputs": [
    {
     "name": "stdout",
     "output_type": "stream",
     "text": [
      "Model: \"sequential_2\"\n",
      "_________________________________________________________________\n",
      "Layer (type)                 Output Shape              Param #   \n",
      "=================================================================\n",
      "conv2d_1 (Conv2D)            (None, 32, 32, 32)        896       \n",
      "_________________________________________________________________\n",
      "activation_1 (Activation)    (None, 32, 32, 32)        0         \n",
      "_________________________________________________________________\n",
      "conv2d_2 (Conv2D)            (None, 30, 30, 32)        9248      \n",
      "_________________________________________________________________\n",
      "activation_2 (Activation)    (None, 30, 30, 32)        0         \n",
      "_________________________________________________________________\n",
      "max_pooling2d_1 (MaxPooling2 (None, 15, 15, 32)        0         \n",
      "_________________________________________________________________\n",
      "dropout_3 (Dropout)          (None, 15, 15, 32)        0         \n",
      "_________________________________________________________________\n",
      "conv2d_3 (Conv2D)            (None, 15, 15, 64)        18496     \n",
      "_________________________________________________________________\n",
      "activation_3 (Activation)    (None, 15, 15, 64)        0         \n",
      "_________________________________________________________________\n",
      "conv2d_4 (Conv2D)            (None, 13, 13, 64)        36928     \n",
      "_________________________________________________________________\n",
      "activation_4 (Activation)    (None, 13, 13, 64)        0         \n",
      "_________________________________________________________________\n",
      "max_pooling2d_2 (MaxPooling2 (None, 6, 6, 64)          0         \n",
      "_________________________________________________________________\n",
      "dropout_4 (Dropout)          (None, 6, 6, 64)          0         \n",
      "_________________________________________________________________\n",
      "flatten_1 (Flatten)          (None, 2304)              0         \n",
      "_________________________________________________________________\n",
      "dense_4 (Dense)              (None, 512)               1180160   \n",
      "_________________________________________________________________\n",
      "activation_5 (Activation)    (None, 512)               0         \n",
      "_________________________________________________________________\n",
      "dropout_5 (Dropout)          (None, 512)               0         \n",
      "_________________________________________________________________\n",
      "dense_5 (Dense)              (None, 10)                5130      \n",
      "_________________________________________________________________\n",
      "activation_6 (Activation)    (None, 10)                0         \n",
      "=================================================================\n",
      "Total params: 1,250,858\n",
      "Trainable params: 1,250,858\n",
      "Non-trainable params: 0\n",
      "_________________________________________________________________\n",
      "Train on 50000 samples, validate on 10000 samples\n",
      "Epoch 1/10\n",
      "50000/50000 [==============================] - 97s 2ms/step - loss: 1.7197 - accuracy: 0.3780 - val_loss: 1.3722 - val_accuracy: 0.5174\n",
      "Epoch 2/10\n",
      "50000/50000 [==============================] - 97s 2ms/step - loss: 1.2990 - accuracy: 0.5393 - val_loss: 1.1077 - val_accuracy: 0.6132\n",
      "Epoch 3/10\n",
      "50000/50000 [==============================] - 97s 2ms/step - loss: 1.1021 - accuracy: 0.6124 - val_loss: 1.0047 - val_accuracy: 0.6498\n",
      "Epoch 4/10\n",
      "50000/50000 [==============================] - 98s 2ms/step - loss: 0.9705 - accuracy: 0.6636 - val_loss: 1.0969 - val_accuracy: 0.6261\n",
      "Epoch 5/10\n",
      "50000/50000 [==============================] - 97s 2ms/step - loss: 0.8799 - accuracy: 0.6927 - val_loss: 0.8544 - val_accuracy: 0.6964\n",
      "Epoch 6/10\n",
      "50000/50000 [==============================] - 96s 2ms/step - loss: 0.8112 - accuracy: 0.7156 - val_loss: 0.7590 - val_accuracy: 0.7368\n",
      "Epoch 7/10\n",
      "50000/50000 [==============================] - 96s 2ms/step - loss: 0.7600 - accuracy: 0.7381 - val_loss: 0.7875 - val_accuracy: 0.7319\n",
      "Epoch 8/10\n",
      "50000/50000 [==============================] - 97s 2ms/step - loss: 0.7158 - accuracy: 0.7519 - val_loss: 0.7192 - val_accuracy: 0.7629\n",
      "Epoch 9/10\n",
      "50000/50000 [==============================] - 96s 2ms/step - loss: 0.6774 - accuracy: 0.7656 - val_loss: 0.7976 - val_accuracy: 0.7285\n",
      "Epoch 10/10\n",
      "50000/50000 [==============================] - 96s 2ms/step - loss: 0.6518 - accuracy: 0.7735 - val_loss: 0.6851 - val_accuracy: 0.7674\n",
      "Test loss: 0.6850749659538269\n",
      "Test accuracy: 0.7674000263214111\n"
     ]
    }
   ],
   "source": [
    "model = Sequential()\n",
    "model.add(Conv2D(32, (3, 3), padding='same',\n",
    "                 input_shape=x_train.shape[1:]))\n",
    "model.add(Activation('relu'))\n",
    "model.add(Conv2D(32, (3, 3)))\n",
    "model.add(Activation('relu'))\n",
    "model.add(MaxPooling2D(pool_size=(2, 2)))\n",
    "model.add(Dropout(0.25))\n",
    "\n",
    "model.add(Conv2D(64, (3, 3), padding='same'))\n",
    "model.add(Activation('relu'))\n",
    "model.add(Conv2D(64, (3, 3)))\n",
    "model.add(Activation('relu'))\n",
    "model.add(MaxPooling2D(pool_size=(2, 2)))\n",
    "model.add(Dropout(0.25))\n",
    "\n",
    "model.add(Flatten())\n",
    "model.add(Dense(512))\n",
    "model.add(Activation('relu'))\n",
    "model.add(Dropout(0.5))\n",
    "model.add(Dense(num_classes))\n",
    "model.add(Activation('softmax'))\n",
    "model.summary()\n",
    "\n",
    "model.compile(loss='categorical_crossentropy',\n",
    "              optimizer=RMSprop(),\n",
    "              metrics=['accuracy'])\n",
    "\n",
    "history = model.fit(x_train, y_train,\n",
    "                    batch_size=batch_size,\n",
    "                    epochs=epochs,\n",
    "                    verbose=1,\n",
    "                    validation_data=(x_test, y_test))\n",
    "score = model.evaluate(x_test, y_test, verbose=0)\n",
    "print('Test loss:', score[0])\n",
    "print('Test accuracy:', score[1])"
   ]
  },
  {
   "cell_type": "markdown",
   "metadata": {},
   "source": [
    "## 同樣運算 10 個 epochs，但 CNN 在 test data 的準確率顯著優於 DNN!"
   ]
  },
  {
   "cell_type": "markdown",
   "metadata": {},
   "source": [
    "## 作業\n",
    "1. 請試著調整各個超參數，並說明那些超參數對於結果有明顯的影響?\n",
    "2. CNN 與 DNN 哪個模型的參數數量比較多? 造成參數的數量不同的原因在哪?"
   ]
  },
  {
   "cell_type": "markdown",
   "metadata": {},
   "source": [
    "Q1: 請試著調整各個超參數，並說明那些超參數對於結果有明顯的影響?\n",
    "hyperparameters: learning rate, batch size, gradient descent method, decay learning rate, momemtum, etc.\n",
    "try learning rate and gradient descent method"
   ]
  },
  {
   "cell_type": "code",
   "execution_count": 21,
   "metadata": {
    "ExecuteTime": {
     "end_time": "2019-12-27T16:00:48.987679Z",
     "start_time": "2019-12-27T16:00:48.102774Z"
    }
   },
   "outputs": [],
   "source": [
    "# subsample of training data\n",
    "import numpy as np\n",
    "\n",
    "a = np.arange(50000)\n",
    "np.random.shuffle(a)\n",
    "indexs = a[:5000]\n",
    "\n",
    "x_train = x_train[indexs]\n",
    "y_train = y_train[indexs]"
   ]
  },
  {
   "cell_type": "code",
   "execution_count": 22,
   "metadata": {
    "ExecuteTime": {
     "end_time": "2019-12-27T16:00:50.081757Z",
     "start_time": "2019-12-27T16:00:50.078470Z"
    }
   },
   "outputs": [],
   "source": [
    "LEARNING_RATES = [1e-2, 1e-3, 1e-4]"
   ]
  },
  {
   "cell_type": "code",
   "execution_count": 26,
   "metadata": {
    "ExecuteTime": {
     "end_time": "2019-12-27T16:26:01.821116Z",
     "start_time": "2019-12-27T16:02:32.746803Z"
    }
   },
   "outputs": [
    {
     "name": "stdout",
     "output_type": "stream",
     "text": [
      "model_gd_sgd_lr_0.01\n",
      "Test loss: 1.8431377422332764\n",
      "Test accuracy: 0.30809998512268066\n",
      "model_gd_adam_lr_0.01\n",
      "Test loss: 2.303378533935547\n",
      "Test accuracy: 0.10000000149011612\n",
      "model_gd_rmsprop_lr_0.01\n",
      "Test loss: 2.3032190444946288\n",
      "Test accuracy: 0.10000000149011612\n",
      "model_gd_sgd_lr_0.001\n",
      "Test loss: 1.979196639251709\n",
      "Test accuracy: 0.29600000381469727\n",
      "model_gd_adam_lr_0.001\n",
      "Test loss: 1.455298418045044\n",
      "Test accuracy: 0.47519999742507935\n",
      "model_gd_rmsprop_lr_0.001\n",
      "Test loss: 2.950486672592163\n",
      "Test accuracy: 0.21950000524520874\n",
      "model_gd_sgd_lr_0.0001\n",
      "Test loss: 2.291461792755127\n",
      "Test accuracy: 0.12020000070333481\n",
      "model_gd_adam_lr_0.0001\n",
      "Test loss: 1.640100451850891\n",
      "Test accuracy: 0.40950000286102295\n",
      "model_gd_rmsprop_lr_0.0001\n",
      "Test loss: 1.8733471382141114\n",
      "Test accuracy: 0.3264000117778778\n"
     ]
    }
   ],
   "source": [
    "results = {}\n",
    "for LEARNING_RATE in LEARNING_RATES:\n",
    "    for optim_name, optim in {'sgd':keras.optimizers.SGD(lr=LEARNING_RATE, nesterov=True, momentum=0.95),\n",
    "                 'adam':keras.optimizers.Adam(lr=LEARNING_RATE),\n",
    "                 'rmsprop':keras.optimizers.RMSprop(lr=LEARNING_RATE)}.items():\n",
    "        print('model_gd_{}_lr_{}'.format(optim_name,LEARNING_RATE))\n",
    "        model = Sequential()\n",
    "        model.add(Conv2D(32, (3, 3), padding='same',\n",
    "                         input_shape=x_train.shape[1:]))\n",
    "        model.add(Activation('relu'))\n",
    "        model.add(Conv2D(32, (3, 3)))\n",
    "        model.add(Activation('relu'))\n",
    "        model.add(MaxPooling2D(pool_size=(2, 2)))\n",
    "        model.add(Dropout(0.25))\n",
    "\n",
    "        model.add(Conv2D(64, (3, 3), padding='same'))\n",
    "        model.add(Activation('relu'))\n",
    "        model.add(Conv2D(64, (3, 3)))\n",
    "        model.add(Activation('relu'))\n",
    "        model.add(MaxPooling2D(pool_size=(2, 2)))\n",
    "        model.add(Dropout(0.25))\n",
    "\n",
    "        model.add(Flatten())\n",
    "        model.add(Dense(512))\n",
    "        model.add(Activation('relu'))\n",
    "        model.add(Dropout(0.5))\n",
    "        model.add(Dense(num_classes))\n",
    "        model.add(Activation('softmax'))\n",
    "#         model.summary()\n",
    "\n",
    "        model.compile(loss='categorical_crossentropy',\n",
    "                      optimizer=optim,\n",
    "                      metrics=['accuracy'])\n",
    "\n",
    "        history = model.fit(x_train, y_train,\n",
    "                            batch_size=batch_size,\n",
    "                            epochs=epochs,\n",
    "                            verbose=0,\n",
    "                            validation_data=(x_test, y_test))\n",
    "        score = model.evaluate(x_test, y_test, verbose=0)\n",
    "        \n",
    "        print('Test loss:', score[0])\n",
    "        print('Test accuracy:', score[1])"
   ]
  },
  {
   "cell_type": "markdown",
   "metadata": {},
   "source": [
    "model model_gd_adam_lr_0.001 performs the best. It seems like for different gradient descent method, we need to use different learning rate"
   ]
  },
  {
   "cell_type": "markdown",
   "metadata": {},
   "source": [
    "Q2: CNN 與 DNN 哪個模型的參數數量比較多? 造成參數的數量不同的原因在哪?"
   ]
  },
  {
   "cell_type": "markdown",
   "metadata": {
    "ExecuteTime": {
     "end_time": "2019-12-27T16:26:01.832410Z",
     "start_time": "2019-12-27T16:07:01.625Z"
    }
   },
   "source": [
    "CNN模型餐數量較少，因為filter是可以重複使用，所以每一層convolution參數量為(filter_height * filter_width * input_channel + 1) * filters\n",
    "DNN的每一層參數是(input_size * channels +1) * output_size"
   ]
  },
  {
   "cell_type": "code",
   "execution_count": null,
   "metadata": {},
   "outputs": [],
   "source": []
  }
 ],
 "metadata": {
  "hide_input": false,
  "kernelspec": {
   "display_name": "Python 3",
   "language": "python",
   "name": "python3"
  },
  "language_info": {
   "codemirror_mode": {
    "name": "ipython",
    "version": 3
   },
   "file_extension": ".py",
   "mimetype": "text/x-python",
   "name": "python",
   "nbconvert_exporter": "python",
   "pygments_lexer": "ipython3",
   "version": "3.6.9"
  },
  "toc": {
   "base_numbering": 1,
   "nav_menu": {},
   "number_sections": true,
   "sideBar": true,
   "skip_h1_title": false,
   "title_cell": "Table of Contents",
   "title_sidebar": "Contents",
   "toc_cell": false,
   "toc_position": {},
   "toc_section_display": true,
   "toc_window_display": false
  }
 },
 "nbformat": 4,
 "nbformat_minor": 2
}
