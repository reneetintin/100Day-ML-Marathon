{
 "cells": [
  {
   "cell_type": "markdown",
   "metadata": {},
   "source": [
    "## 範例重點\n",
    "* 學習如何在 keras 中加入 BatchNorm\n",
    "* 知道有無 BN 對訓練的影響\n",
    "* 比較 BN 在不同 batch size 下的效果"
   ]
  },
  {
   "cell_type": "code",
   "execution_count": 35,
   "metadata": {
    "ExecuteTime": {
     "end_time": "2019-12-22T19:19:24.639634Z",
     "start_time": "2019-12-22T19:19:24.633781Z"
    }
   },
   "outputs": [],
   "source": [
    "import tensorflow.keras as keras"
   ]
  },
  {
   "cell_type": "code",
   "execution_count": 5,
   "metadata": {
    "ExecuteTime": {
     "end_time": "2019-12-22T18:39:53.231847Z",
     "start_time": "2019-12-22T18:39:53.228574Z"
    }
   },
   "outputs": [],
   "source": [
    "import os\n",
    "import keras\n",
    "os.environ[\"CUDA_VISIBLE_DEVICES\"] = \"\""
   ]
  },
  {
   "cell_type": "code",
   "execution_count": 19,
   "metadata": {
    "ExecuteTime": {
     "end_time": "2019-12-22T18:52:39.755773Z",
     "start_time": "2019-12-22T18:52:39.745229Z"
    }
   },
   "outputs": [],
   "source": [
    "import tensorflow as tf"
   ]
  },
  {
   "cell_type": "code",
   "execution_count": 6,
   "metadata": {
    "ExecuteTime": {
     "end_time": "2019-12-22T18:40:01.901615Z",
     "start_time": "2019-12-22T18:40:01.514306Z"
    }
   },
   "outputs": [],
   "source": [
    "train, test = keras.datasets.cifar10.load_data()"
   ]
  },
  {
   "cell_type": "code",
   "execution_count": 14,
   "metadata": {
    "ExecuteTime": {
     "end_time": "2019-12-22T18:48:20.462977Z",
     "start_time": "2019-12-22T18:48:20.458078Z"
    }
   },
   "outputs": [],
   "source": [
    "## 資料前處理\n",
    "def preproc_x(x, flatten=True):\n",
    "    x = x / 255.\n",
    "    if flatten:\n",
    "        x = x.reshape((len(x), -1))\n",
    "    return x\n",
    "\n",
    "def preproc_y(y, num_classes=10):\n",
    "    if y.shape[-1] == 1:\n",
    "        y = keras.utils.to_categorical(y, num_classes)\n",
    "    return y    "
   ]
  },
  {
   "cell_type": "code",
   "execution_count": 15,
   "metadata": {
    "ExecuteTime": {
     "end_time": "2019-12-22T18:48:25.010136Z",
     "start_time": "2019-12-22T18:48:21.325419Z"
    }
   },
   "outputs": [],
   "source": [
    "x_train, y_train = train\n",
    "x_test, y_test = test\n",
    "\n",
    "# 資料前處理 - X 標準化\n",
    "x_train = preproc_x(x_train)\n",
    "x_test = preproc_x(x_test)\n",
    "\n",
    "# 資料前處理 -Y 轉成 onehot\n",
    "y_train = preproc_y(y_train)\n",
    "y_test = preproc_y(y_test)"
   ]
  },
  {
   "cell_type": "code",
   "execution_count": 36,
   "metadata": {
    "ExecuteTime": {
     "end_time": "2019-12-22T19:19:30.876039Z",
     "start_time": "2019-12-22T19:19:30.867255Z"
    }
   },
   "outputs": [],
   "source": [
    "from tensorflow.keras.layers import BatchNormalization\n",
    "\n",
    "\"\"\"\n",
    "建立神經網路，並加入 BN layer\n",
    "\"\"\"\n",
    "def build_mlp(input_shape, output_units=10, num_neurons=[512, 256, 128]):\n",
    "    input_layer = keras.layers.Input(input_shape)\n",
    "    \n",
    "    for i, n_units in enumerate(num_neurons):\n",
    "        if i == 0:\n",
    "            x = keras.layers.Dense(units=n_units, \n",
    "                                   activation=\"relu\", \n",
    "                                   name=\"hidden_layer\"+str(i+1))(input_layer)\n",
    "            x = BatchNormalization()(x)\n",
    "        else:\n",
    "            x = keras.layers.Dense(units=n_units, \n",
    "                                   activation=\"relu\", \n",
    "                                   name=\"hidden_layer\"+str(i+1))(x)\n",
    "            x = BatchNormalization()(x)\n",
    "    \n",
    "    out = keras.layers.Dense(units=output_units, activation=\"softmax\", name=\"output\")(x)\n",
    "    \n",
    "    model = keras.models.Model(inputs=[input_layer], outputs=[out])\n",
    "    return model"
   ]
  },
  {
   "cell_type": "code",
   "execution_count": 37,
   "metadata": {
    "ExecuteTime": {
     "end_time": "2019-12-22T19:19:32.028519Z",
     "start_time": "2019-12-22T19:19:32.025233Z"
    }
   },
   "outputs": [],
   "source": [
    "## 超參數設定\n",
    "LEARNING_RATE = 1e-3\n",
    "EPOCHS = 50\n",
    "BATCH_SIZE = 1024\n",
    "MOMENTUM = 0.95"
   ]
  },
  {
   "cell_type": "code",
   "execution_count": 38,
   "metadata": {
    "ExecuteTime": {
     "end_time": "2019-12-22T19:25:47.481819Z",
     "start_time": "2019-12-22T19:19:32.421788Z"
    },
    "scrolled": true
   },
   "outputs": [
    {
     "name": "stdout",
     "output_type": "stream",
     "text": [
      "Model: \"model\"\n",
      "_________________________________________________________________\n",
      "Layer (type)                 Output Shape              Param #   \n",
      "=================================================================\n",
      "input_9 (InputLayer)         [(None, 3072)]            0         \n",
      "_________________________________________________________________\n",
      "hidden_layer1 (Dense)        (None, 512)               1573376   \n",
      "_________________________________________________________________\n",
      "batch_normalization_6 (Batch (None, 512)               2048      \n",
      "_________________________________________________________________\n",
      "hidden_layer2 (Dense)        (None, 256)               131328    \n",
      "_________________________________________________________________\n",
      "batch_normalization_7 (Batch (None, 256)               1024      \n",
      "_________________________________________________________________\n",
      "hidden_layer3 (Dense)        (None, 128)               32896     \n",
      "_________________________________________________________________\n",
      "batch_normalization_8 (Batch (None, 128)               512       \n",
      "_________________________________________________________________\n",
      "output (Dense)               (None, 10)                1290      \n",
      "=================================================================\n",
      "Total params: 1,742,474\n",
      "Trainable params: 1,740,682\n",
      "Non-trainable params: 1,792\n",
      "_________________________________________________________________\n",
      "Train on 50000 samples, validate on 10000 samples\n",
      "Epoch 1/50\n",
      "50000/50000 [==============================] - 7s 143us/sample - loss: 2.2052 - accuracy: 0.2706 - val_loss: 2.1181 - val_accuracy: 0.1963\n",
      "Epoch 2/50\n",
      "50000/50000 [==============================] - 5s 99us/sample - loss: 1.7356 - accuracy: 0.3961 - val_loss: 1.9473 - val_accuracy: 0.3132\n",
      "Epoch 3/50\n",
      "50000/50000 [==============================] - 5s 92us/sample - loss: 1.6166 - accuracy: 0.4357 - val_loss: 1.8017 - val_accuracy: 0.3872\n",
      "Epoch 4/50\n",
      "50000/50000 [==============================] - 5s 103us/sample - loss: 1.5476 - accuracy: 0.4607 - val_loss: 1.7129 - val_accuracy: 0.4097\n",
      "Epoch 5/50\n",
      "50000/50000 [==============================] - 5s 99us/sample - loss: 1.4934 - accuracy: 0.4790 - val_loss: 1.6422 - val_accuracy: 0.4319\n",
      "Epoch 6/50\n",
      "50000/50000 [==============================] - 5s 93us/sample - loss: 1.4498 - accuracy: 0.4946 - val_loss: 1.5884 - val_accuracy: 0.4409\n",
      "Epoch 7/50\n",
      "50000/50000 [==============================] - 5s 92us/sample - loss: 1.4098 - accuracy: 0.5093 - val_loss: 1.5724 - val_accuracy: 0.4398\n",
      "Epoch 8/50\n",
      "50000/50000 [==============================] - 5s 101us/sample - loss: 1.3754 - accuracy: 0.5214 - val_loss: 1.5279 - val_accuracy: 0.4550\n",
      "Epoch 9/50\n",
      "50000/50000 [==============================] - 4s 89us/sample - loss: 1.3450 - accuracy: 0.5337 - val_loss: 1.5266 - val_accuracy: 0.4631\n",
      "Epoch 10/50\n",
      "50000/50000 [==============================] - 4s 86us/sample - loss: 1.3141 - accuracy: 0.5448 - val_loss: 1.5091 - val_accuracy: 0.4634\n",
      "Epoch 11/50\n",
      "50000/50000 [==============================] - 4s 87us/sample - loss: 1.2865 - accuracy: 0.5562 - val_loss: 1.4967 - val_accuracy: 0.4636\n",
      "Epoch 12/50\n",
      "50000/50000 [==============================] - 4s 86us/sample - loss: 1.2617 - accuracy: 0.5639 - val_loss: 1.4737 - val_accuracy: 0.4804\n",
      "Epoch 13/50\n",
      "50000/50000 [==============================] - 4s 88us/sample - loss: 1.2359 - accuracy: 0.5737 - val_loss: 1.4694 - val_accuracy: 0.4828\n",
      "Epoch 14/50\n",
      "50000/50000 [==============================] - 4s 88us/sample - loss: 1.2121 - accuracy: 0.5819 - val_loss: 1.4805 - val_accuracy: 0.4804\n",
      "Epoch 15/50\n",
      "50000/50000 [==============================] - 4s 87us/sample - loss: 1.1884 - accuracy: 0.5902 - val_loss: 1.4619 - val_accuracy: 0.4854\n",
      "Epoch 16/50\n",
      "50000/50000 [==============================] - 4s 88us/sample - loss: 1.1636 - accuracy: 0.5989 - val_loss: 1.4620 - val_accuracy: 0.4807\n",
      "Epoch 17/50\n",
      "50000/50000 [==============================] - 4s 87us/sample - loss: 1.1409 - accuracy: 0.6104 - val_loss: 1.4572 - val_accuracy: 0.4912\n",
      "Epoch 18/50\n",
      "50000/50000 [==============================] - 4s 88us/sample - loss: 1.1208 - accuracy: 0.6175 - val_loss: 1.4642 - val_accuracy: 0.4829\n",
      "Epoch 19/50\n",
      "50000/50000 [==============================] - 4s 89us/sample - loss: 1.0999 - accuracy: 0.6243 - val_loss: 1.4570 - val_accuracy: 0.4883\n",
      "Epoch 20/50\n",
      "50000/50000 [==============================] - 4s 87us/sample - loss: 1.0781 - accuracy: 0.6331 - val_loss: 1.4533 - val_accuracy: 0.4932\n",
      "Epoch 21/50\n",
      "50000/50000 [==============================] - 4s 89us/sample - loss: 1.0551 - accuracy: 0.6425 - val_loss: 1.4622 - val_accuracy: 0.4928\n",
      "Epoch 22/50\n",
      "50000/50000 [==============================] - 4s 86us/sample - loss: 1.0339 - accuracy: 0.6491 - val_loss: 1.4611 - val_accuracy: 0.4927\n",
      "Epoch 23/50\n",
      "50000/50000 [==============================] - 4s 89us/sample - loss: 1.0142 - accuracy: 0.6576 - val_loss: 1.4743 - val_accuracy: 0.4902\n",
      "Epoch 24/50\n",
      "50000/50000 [==============================] - 4s 87us/sample - loss: 0.9934 - accuracy: 0.6642 - val_loss: 1.4600 - val_accuracy: 0.4937\n",
      "Epoch 25/50\n",
      "50000/50000 [==============================] - 4s 86us/sample - loss: 0.9741 - accuracy: 0.6710 - val_loss: 1.4582 - val_accuracy: 0.4944\n",
      "Epoch 26/50\n",
      "50000/50000 [==============================] - 4s 86us/sample - loss: 0.9519 - accuracy: 0.6809 - val_loss: 1.4731 - val_accuracy: 0.4877\n",
      "Epoch 27/50\n",
      "50000/50000 [==============================] - 5s 98us/sample - loss: 0.9308 - accuracy: 0.6887 - val_loss: 1.4785 - val_accuracy: 0.4899\n",
      "Epoch 28/50\n",
      "50000/50000 [==============================] - 5s 91us/sample - loss: 0.9126 - accuracy: 0.6957 - val_loss: 1.4805 - val_accuracy: 0.4885\n",
      "Epoch 29/50\n",
      "50000/50000 [==============================] - 4s 86us/sample - loss: 0.8924 - accuracy: 0.7025 - val_loss: 1.4858 - val_accuracy: 0.4904\n",
      "Epoch 30/50\n",
      "50000/50000 [==============================] - 4s 88us/sample - loss: 0.8715 - accuracy: 0.7123 - val_loss: 1.4811 - val_accuracy: 0.4986\n",
      "Epoch 31/50\n",
      "50000/50000 [==============================] - 4s 87us/sample - loss: 0.8513 - accuracy: 0.7185 - val_loss: 1.5081 - val_accuracy: 0.4880\n",
      "Epoch 32/50\n",
      "50000/50000 [==============================] - 4s 88us/sample - loss: 0.8312 - accuracy: 0.7284 - val_loss: 1.5033 - val_accuracy: 0.4919\n",
      "Epoch 33/50\n",
      "50000/50000 [==============================] - 4s 87us/sample - loss: 0.8110 - accuracy: 0.7353 - val_loss: 1.5072 - val_accuracy: 0.4888\n",
      "Epoch 34/50\n",
      "50000/50000 [==============================] - 4s 86us/sample - loss: 0.7930 - accuracy: 0.7421 - val_loss: 1.5188 - val_accuracy: 0.4913\n",
      "Epoch 35/50\n",
      "50000/50000 [==============================] - 4s 89us/sample - loss: 0.7741 - accuracy: 0.7516 - val_loss: 1.5241 - val_accuracy: 0.4900\n",
      "Epoch 36/50\n",
      "50000/50000 [==============================] - 4s 86us/sample - loss: 0.7540 - accuracy: 0.7581 - val_loss: 1.5254 - val_accuracy: 0.4962\n",
      "Epoch 37/50\n",
      "50000/50000 [==============================] - 4s 86us/sample - loss: 0.7354 - accuracy: 0.7658 - val_loss: 1.5297 - val_accuracy: 0.4932\n",
      "Epoch 38/50\n",
      "50000/50000 [==============================] - 4s 87us/sample - loss: 0.7170 - accuracy: 0.7743 - val_loss: 1.5360 - val_accuracy: 0.4922\n",
      "Epoch 39/50\n",
      "50000/50000 [==============================] - 4s 89us/sample - loss: 0.6973 - accuracy: 0.7799 - val_loss: 1.5534 - val_accuracy: 0.4913\n",
      "Epoch 40/50\n",
      "50000/50000 [==============================] - 5s 98us/sample - loss: 0.6773 - accuracy: 0.7893 - val_loss: 1.5698 - val_accuracy: 0.4889\n",
      "Epoch 41/50\n",
      "50000/50000 [==============================] - 4s 87us/sample - loss: 0.6622 - accuracy: 0.7962 - val_loss: 1.5845 - val_accuracy: 0.4887\n",
      "Epoch 42/50\n",
      "50000/50000 [==============================] - 4s 87us/sample - loss: 0.6430 - accuracy: 0.8033 - val_loss: 1.5761 - val_accuracy: 0.4956\n",
      "Epoch 43/50\n",
      "50000/50000 [==============================] - 4s 87us/sample - loss: 0.6244 - accuracy: 0.8099 - val_loss: 1.5967 - val_accuracy: 0.4901\n",
      "Epoch 44/50\n",
      "50000/50000 [==============================] - 149s 3ms/sample - loss: 0.6058 - accuracy: 0.8184 - val_loss: 1.6046 - val_accuracy: 0.4915\n",
      "Epoch 45/50\n",
      "50000/50000 [==============================] - 6s 119us/sample - loss: 0.5896 - accuracy: 0.8238 - val_loss: 1.6132 - val_accuracy: 0.4873\n"
     ]
    },
    {
     "name": "stdout",
     "output_type": "stream",
     "text": [
      "Epoch 46/50\n",
      "50000/50000 [==============================] - 5s 100us/sample - loss: 0.5716 - accuracy: 0.8311 - val_loss: 1.6334 - val_accuracy: 0.4876\n",
      "Epoch 47/50\n",
      "50000/50000 [==============================] - 5s 98us/sample - loss: 0.5540 - accuracy: 0.8374 - val_loss: 1.6389 - val_accuracy: 0.4856\n",
      "Epoch 48/50\n",
      "50000/50000 [==============================] - 6s 111us/sample - loss: 0.5387 - accuracy: 0.8440 - val_loss: 1.6753 - val_accuracy: 0.4820\n",
      "Epoch 49/50\n",
      "50000/50000 [==============================] - 5s 92us/sample - loss: 0.5202 - accuracy: 0.8500 - val_loss: 1.6691 - val_accuracy: 0.4786\n",
      "Epoch 50/50\n",
      "50000/50000 [==============================] - 4s 88us/sample - loss: 0.5027 - accuracy: 0.8588 - val_loss: 1.6760 - val_accuracy: 0.4866\n"
     ]
    }
   ],
   "source": [
    "model = build_mlp(input_shape=x_train.shape[1:])\n",
    "model.summary()\n",
    "optimizer = keras.optimizers.SGD(lr=LEARNING_RATE, nesterov=True, momentum=MOMENTUM)\n",
    "model.compile(loss=\"categorical_crossentropy\", metrics=[\"accuracy\"], optimizer=optimizer)\n",
    "\n",
    "model.fit(x_train, y_train, \n",
    "          epochs=EPOCHS, \n",
    "          batch_size=BATCH_SIZE, \n",
    "          validation_data=(x_test, y_test), \n",
    "          shuffle=True)\n",
    "\n",
    "# Collect results\n",
    "train_loss = model.history.history[\"loss\"]\n",
    "valid_loss = model.history.history[\"val_loss\"]\n",
    "train_acc = model.history.history[\"accuracy\"]\n",
    "valid_acc = model.history.history[\"val_accuracy\"]"
   ]
  },
  {
   "cell_type": "code",
   "execution_count": 39,
   "metadata": {
    "ExecuteTime": {
     "end_time": "2019-12-22T19:25:47.857603Z",
     "start_time": "2019-12-22T19:25:47.486391Z"
    }
   },
   "outputs": [
    {
     "data": {
      "image/png": "[encoded data removed]",
      "text/plain": [
       "<Figure size 432x288 with 1 Axes>"
      ]
     },
     "metadata": {
      "needs_background": "light"
     },
     "output_type": "display_data"
    },
    {
     "data": {
      "image/png": "[encoded data removed]",
      "text/plain": [
       "<Figure size 432x288 with 1 Axes>"
      ]
     },
     "metadata": {
      "needs_background": "light"
     },
     "output_type": "display_data"
    }
   ],
   "source": [
    "import matplotlib.pyplot as plt\n",
    "%matplotlib inline\n",
    "\n",
    "plt.plot(range(len(train_loss)), train_loss, label=\"train loss\")\n",
    "plt.plot(range(len(valid_loss)), valid_loss, label=\"valid loss\")\n",
    "plt.legend()\n",
    "plt.title(\"Loss\")\n",
    "plt.show()\n",
    "\n",
    "plt.plot(range(len(train_acc)), train_acc, label=\"train accuracy\")\n",
    "plt.plot(range(len(valid_acc)), valid_acc, label=\"valid accuracy\")\n",
    "plt.legend()\n",
    "plt.title(\"Accuracy\")\n",
    "plt.show()"
   ]
  },
  {
   "cell_type": "markdown",
   "metadata": {},
   "source": [
    "## Work\n",
    "1. 試比較有 BN 在 Batch_size = 2, 16, 32, 128, 256 下的差異\n",
    "2. 請嘗試將 BN 放在 Activation 之前，並比較訓練結果\n",
    "3. 請於 BN 放在 Input Layer 後，並比較結果"
   ]
  }
 ],
 "metadata": {
  "hide_input": false,
  "kernelspec": {
   "display_name": "Python 3",
   "language": "python",
   "name": "python3"
  },
  "language_info": {
   "codemirror_mode": {
    "name": "ipython",
    "version": 3
   },
   "file_extension": ".py",
   "mimetype": "text/x-python",
   "name": "python",
   "nbconvert_exporter": "python",
   "pygments_lexer": "ipython3",
   "version": "3.6.9"
  },
  "toc": {
   "base_numbering": 1,
   "nav_menu": {},
   "number_sections": true,
   "sideBar": true,
   "skip_h1_title": false,
   "title_cell": "Table of Contents",
   "title_sidebar": "Contents",
   "toc_cell": false,
   "toc_position": {},
   "toc_section_display": true,
   "toc_window_display": false
  }
 },
 "nbformat": 4,
 "nbformat_minor": 2
}
