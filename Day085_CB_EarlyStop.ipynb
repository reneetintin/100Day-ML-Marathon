{
 "cells": [
  {
   "cell_type": "markdown",
   "metadata": {},
   "source": [
    "## 範例重點\n",
    "* 學習如何在 keras 中加入 EarlyStop\n",
    "* 知道如何設定監控目標\n",
    "* 比較有無 earlystopping 對 validation 的影響"
   ]
  },
  {
   "cell_type": "code",
   "execution_count": 1,
   "metadata": {
    "ExecuteTime": {
     "end_time": "2019-12-22T22:30:48.571088Z",
     "start_time": "2019-12-22T22:30:44.024134Z"
    }
   },
   "outputs": [
    {
     "name": "stderr",
     "output_type": "stream",
     "text": [
      "Using TensorFlow backend.\n"
     ]
    }
   ],
   "source": [
    "import os\n",
    "import keras\n",
    "\n",
    "# 本範例不需使用 GPU, 將 GPU 設定為 \"無\"\n",
    "os.environ[\"CUDA_VISIBLE_DEVICES\"] = \"\""
   ]
  },
  {
   "cell_type": "code",
   "execution_count": 2,
   "metadata": {
    "ExecuteTime": {
     "end_time": "2019-12-22T22:30:49.286094Z",
     "start_time": "2019-12-22T22:30:48.580294Z"
    }
   },
   "outputs": [],
   "source": [
    "train, test = keras.datasets.cifar10.load_data()"
   ]
  },
  {
   "cell_type": "code",
   "execution_count": 3,
   "metadata": {
    "ExecuteTime": {
     "end_time": "2019-12-22T22:30:49.297129Z",
     "start_time": "2019-12-22T22:30:49.289567Z"
    }
   },
   "outputs": [],
   "source": [
    "## 資料前處理\n",
    "def preproc_x(x, flatten=True):\n",
    "    x = x / 255.\n",
    "    if flatten:\n",
    "        x = x.reshape((len(x), -1))\n",
    "    return x\n",
    "\n",
    "def preproc_y(y, num_classes=10):\n",
    "    if y.shape[-1] == 1:\n",
    "        y = keras.utils.to_categorical(y, num_classes)\n",
    "    return y    "
   ]
  },
  {
   "cell_type": "code",
   "execution_count": 4,
   "metadata": {
    "ExecuteTime": {
     "end_time": "2019-12-22T22:30:55.343041Z",
     "start_time": "2019-12-22T22:30:49.299455Z"
    }
   },
   "outputs": [],
   "source": [
    "x_train, y_train = train\n",
    "x_test, y_test = test\n",
    "\n",
    "# 資料前處理 - X 標準化\n",
    "x_train = preproc_x(x_train)\n",
    "x_test = preproc_x(x_test)\n",
    "\n",
    "# 資料前處理 -Y 轉成 onehot\n",
    "y_train = preproc_y(y_train)\n",
    "y_test = preproc_y(y_test)"
   ]
  },
  {
   "cell_type": "code",
   "execution_count": 5,
   "metadata": {
    "ExecuteTime": {
     "end_time": "2019-12-22T22:30:58.724018Z",
     "start_time": "2019-12-22T22:30:58.719926Z"
    }
   },
   "outputs": [],
   "source": [
    "x_train = x_train[:5000]\n",
    "x_test = x_test[:5000]\n",
    "y_train = y_train[:5000]\n",
    "y_test = y_test[:5000]"
   ]
  },
  {
   "cell_type": "code",
   "execution_count": 6,
   "metadata": {
    "ExecuteTime": {
     "end_time": "2019-12-22T22:31:02.084554Z",
     "start_time": "2019-12-22T22:31:02.055136Z"
    }
   },
   "outputs": [],
   "source": [
    "from keras.layers import BatchNormalization\n",
    "\n",
    "\"\"\"\n",
    "建立神經網路，並加入 BN layer\n",
    "\"\"\"\n",
    "def build_mlp(input_shape, output_units=10, num_neurons=[512, 256, 128]):\n",
    "    input_layer = keras.layers.Input(input_shape)\n",
    "    \n",
    "    for i, n_units in enumerate(num_neurons):\n",
    "        if i == 0:\n",
    "            x = keras.layers.Dense(units=n_units, \n",
    "                                   activation=\"relu\", \n",
    "                                   name=\"hidden_layer\"+str(i+1))(input_layer)\n",
    "            x = BatchNormalization()(x)\n",
    "        else:\n",
    "            x = keras.layers.Dense(units=n_units, \n",
    "                                   activation=\"relu\", \n",
    "                                   name=\"hidden_layer\"+str(i+1))(x)\n",
    "            x = BatchNormalization()(x)\n",
    "    \n",
    "    out = keras.layers.Dense(units=output_units, activation=\"softmax\", name=\"output\")(x)\n",
    "    \n",
    "    model = keras.models.Model(inputs=[input_layer], outputs=[out])\n",
    "    return model"
   ]
  },
  {
   "cell_type": "code",
   "execution_count": 7,
   "metadata": {
    "ExecuteTime": {
     "end_time": "2019-12-22T22:31:09.027569Z",
     "start_time": "2019-12-22T22:31:09.021927Z"
    }
   },
   "outputs": [],
   "source": [
    "## 超參數設定\n",
    "LEARNING_RATE = 1e-3\n",
    "EPOCHS = 50\n",
    "BATCH_SIZE = 1024\n",
    "MOMENTUM = 0.95"
   ]
  },
  {
   "cell_type": "code",
   "execution_count": 8,
   "metadata": {
    "ExecuteTime": {
     "end_time": "2019-12-22T22:31:21.203242Z",
     "start_time": "2019-12-22T22:31:21.193957Z"
    }
   },
   "outputs": [],
   "source": [
    "\"\"\"\n",
    "# 載入 Callbacks, 並將 monitor 設定為監控 validation loss\n",
    "\"\"\"\n",
    "from keras.callbacks import EarlyStopping\n",
    "\n",
    "earlystop = EarlyStopping(monitor=\"val_loss\", \n",
    "                          patience=5, \n",
    "                          verbose=1\n",
    "                          )"
   ]
  },
  {
   "cell_type": "code",
   "execution_count": 9,
   "metadata": {
    "ExecuteTime": {
     "end_time": "2019-12-22T22:32:45.853645Z",
     "start_time": "2019-12-22T22:31:32.552017Z"
    },
    "scrolled": true
   },
   "outputs": [
    {
     "name": "stdout",
     "output_type": "stream",
     "text": [
      "Model: \"model_1\"\n",
      "_________________________________________________________________\n",
      "Layer (type)                 Output Shape              Param #   \n",
      "=================================================================\n",
      "input_1 (InputLayer)         (None, 3072)              0         \n",
      "_________________________________________________________________\n",
      "hidden_layer1 (Dense)        (None, 512)               1573376   \n",
      "_________________________________________________________________\n",
      "batch_normalization_1 (Batch (None, 512)               2048      \n",
      "_________________________________________________________________\n",
      "hidden_layer2 (Dense)        (None, 256)               131328    \n",
      "_________________________________________________________________\n",
      "batch_normalization_2 (Batch (None, 256)               1024      \n",
      "_________________________________________________________________\n",
      "hidden_layer3 (Dense)        (None, 128)               32896     \n",
      "_________________________________________________________________\n",
      "batch_normalization_3 (Batch (None, 128)               512       \n",
      "_________________________________________________________________\n",
      "output (Dense)               (None, 10)                1290      \n",
      "=================================================================\n",
      "Total params: 1,742,474\n",
      "Trainable params: 1,740,682\n",
      "Non-trainable params: 1,792\n",
      "_________________________________________________________________\n",
      "Train on 5000 samples, validate on 5000 samples\n",
      "Epoch 1/50\n",
      "5000/5000 [==============================] - 2s 493us/step - loss: 3.0527 - accuracy: 0.1046 - val_loss: 2.3417 - val_accuracy: 0.1176\n",
      "Epoch 2/50\n",
      "5000/5000 [==============================] - 1s 240us/step - loss: 2.5628 - accuracy: 0.1908 - val_loss: 2.3402 - val_accuracy: 0.1182\n",
      "Epoch 3/50\n",
      "5000/5000 [==============================] - 1s 245us/step - loss: 2.2544 - accuracy: 0.2638 - val_loss: 2.3273 - val_accuracy: 0.1218\n",
      "Epoch 4/50\n",
      "5000/5000 [==============================] - 1s 262us/step - loss: 2.0676 - accuracy: 0.3130 - val_loss: 2.2924 - val_accuracy: 0.1358\n",
      "Epoch 5/50\n",
      "5000/5000 [==============================] - 1s 252us/step - loss: 1.9194 - accuracy: 0.3560 - val_loss: 2.2419 - val_accuracy: 0.1520\n",
      "Epoch 6/50\n",
      "5000/5000 [==============================] - 1s 244us/step - loss: 1.7986 - accuracy: 0.3826 - val_loss: 2.2022 - val_accuracy: 0.1676\n",
      "Epoch 7/50\n",
      "5000/5000 [==============================] - 1s 245us/step - loss: 1.6961 - accuracy: 0.4118 - val_loss: 2.1733 - val_accuracy: 0.1816\n",
      "Epoch 8/50\n",
      "5000/5000 [==============================] - 1s 242us/step - loss: 1.6164 - accuracy: 0.4352 - val_loss: 2.1529 - val_accuracy: 0.1984\n",
      "Epoch 9/50\n",
      "5000/5000 [==============================] - 1s 250us/step - loss: 1.5430 - accuracy: 0.4606 - val_loss: 2.1342 - val_accuracy: 0.2112\n",
      "Epoch 10/50\n",
      "5000/5000 [==============================] - 1s 240us/step - loss: 1.4777 - accuracy: 0.4932 - val_loss: 2.1215 - val_accuracy: 0.2228\n",
      "Epoch 11/50\n",
      "5000/5000 [==============================] - 1s 240us/step - loss: 1.4168 - accuracy: 0.5146 - val_loss: 2.1132 - val_accuracy: 0.2266\n",
      "Epoch 12/50\n",
      "5000/5000 [==============================] - 1s 261us/step - loss: 1.3600 - accuracy: 0.5422 - val_loss: 2.1001 - val_accuracy: 0.2346\n",
      "Epoch 13/50\n",
      "5000/5000 [==============================] - 1s 239us/step - loss: 1.3133 - accuracy: 0.5616 - val_loss: 2.0871 - val_accuracy: 0.2400\n",
      "Epoch 14/50\n",
      "5000/5000 [==============================] - 1s 282us/step - loss: 1.2691 - accuracy: 0.5848 - val_loss: 2.0714 - val_accuracy: 0.2546\n",
      "Epoch 15/50\n",
      "5000/5000 [==============================] - 1s 248us/step - loss: 1.2276 - accuracy: 0.6060 - val_loss: 2.0550 - val_accuracy: 0.2654\n",
      "Epoch 16/50\n",
      "5000/5000 [==============================] - 1s 244us/step - loss: 1.1872 - accuracy: 0.6252 - val_loss: 2.0406 - val_accuracy: 0.2784\n",
      "Epoch 17/50\n",
      "5000/5000 [==============================] - 2s 324us/step - loss: 1.1455 - accuracy: 0.6394 - val_loss: 2.0278 - val_accuracy: 0.2866\n",
      "Epoch 18/50\n",
      "5000/5000 [==============================] - 2s 322us/step - loss: 1.1095 - accuracy: 0.6574 - val_loss: 2.0169 - val_accuracy: 0.2904\n",
      "Epoch 19/50\n",
      "5000/5000 [==============================] - 2s 307us/step - loss: 1.0764 - accuracy: 0.6700 - val_loss: 2.0040 - val_accuracy: 0.2978\n",
      "Epoch 20/50\n",
      "5000/5000 [==============================] - 2s 352us/step - loss: 1.0446 - accuracy: 0.6852 - val_loss: 1.9888 - val_accuracy: 0.3062\n",
      "Epoch 21/50\n",
      "5000/5000 [==============================] - 1s 215us/step - loss: 1.0151 - accuracy: 0.6954 - val_loss: 1.9778 - val_accuracy: 0.3098\n",
      "Epoch 22/50\n",
      "5000/5000 [==============================] - 1s 205us/step - loss: 0.9835 - accuracy: 0.7152 - val_loss: 1.9629 - val_accuracy: 0.3180\n",
      "Epoch 23/50\n",
      "5000/5000 [==============================] - 1s 169us/step - loss: 0.9521 - accuracy: 0.7282 - val_loss: 1.9520 - val_accuracy: 0.3242\n",
      "Epoch 24/50\n",
      "5000/5000 [==============================] - 1s 235us/step - loss: 0.9266 - accuracy: 0.7380 - val_loss: 1.9403 - val_accuracy: 0.3294\n",
      "Epoch 25/50\n",
      "5000/5000 [==============================] - 1s 197us/step - loss: 0.9000 - accuracy: 0.7510 - val_loss: 1.9307 - val_accuracy: 0.3318\n",
      "Epoch 26/50\n",
      "5000/5000 [==============================] - 1s 204us/step - loss: 0.8747 - accuracy: 0.7658 - val_loss: 1.9215 - val_accuracy: 0.3360\n",
      "Epoch 27/50\n",
      "5000/5000 [==============================] - 1s 261us/step - loss: 0.8497 - accuracy: 0.7774 - val_loss: 1.9133 - val_accuracy: 0.3364\n",
      "Epoch 28/50\n",
      "5000/5000 [==============================] - 1s 269us/step - loss: 0.8258 - accuracy: 0.7876 - val_loss: 1.9044 - val_accuracy: 0.3384\n",
      "Epoch 29/50\n",
      "5000/5000 [==============================] - 1s 288us/step - loss: 0.8004 - accuracy: 0.7972 - val_loss: 1.8926 - val_accuracy: 0.3404\n",
      "Epoch 30/50\n",
      "5000/5000 [==============================] - 1s 270us/step - loss: 0.7798 - accuracy: 0.8046 - val_loss: 1.8827 - val_accuracy: 0.3456\n",
      "Epoch 31/50\n",
      "5000/5000 [==============================] - 1s 263us/step - loss: 0.7573 - accuracy: 0.8178 - val_loss: 1.8757 - val_accuracy: 0.3474\n",
      "Epoch 32/50\n",
      "5000/5000 [==============================] - 1s 246us/step - loss: 0.7375 - accuracy: 0.8242 - val_loss: 1.8679 - val_accuracy: 0.3510\n",
      "Epoch 33/50\n",
      "5000/5000 [==============================] - 1s 260us/step - loss: 0.7138 - accuracy: 0.8350 - val_loss: 1.8596 - val_accuracy: 0.3534\n",
      "Epoch 34/50\n",
      "5000/5000 [==============================] - 1s 252us/step - loss: 0.6956 - accuracy: 0.8424 - val_loss: 1.8516 - val_accuracy: 0.3560\n",
      "Epoch 35/50\n",
      "5000/5000 [==============================] - 1s 261us/step - loss: 0.6780 - accuracy: 0.8486 - val_loss: 1.8436 - val_accuracy: 0.3604\n",
      "Epoch 36/50\n",
      "5000/5000 [==============================] - 1s 265us/step - loss: 0.6594 - accuracy: 0.8604 - val_loss: 1.8344 - val_accuracy: 0.3632\n",
      "Epoch 37/50\n",
      "5000/5000 [==============================] - 1s 272us/step - loss: 0.6397 - accuracy: 0.8646 - val_loss: 1.8296 - val_accuracy: 0.3622\n",
      "Epoch 38/50\n",
      "5000/5000 [==============================] - 2s 307us/step - loss: 0.6216 - accuracy: 0.8730 - val_loss: 1.8227 - val_accuracy: 0.3654\n",
      "Epoch 39/50\n",
      "5000/5000 [==============================] - 2s 391us/step - loss: 0.6027 - accuracy: 0.8818 - val_loss: 1.8152 - val_accuracy: 0.3678\n",
      "Epoch 40/50\n",
      "5000/5000 [==============================] - 2s 491us/step - loss: 0.5865 - accuracy: 0.8890 - val_loss: 1.8121 - val_accuracy: 0.3686\n",
      "Epoch 41/50\n",
      "5000/5000 [==============================] - 2s 333us/step - loss: 0.5714 - accuracy: 0.8940 - val_loss: 1.8092 - val_accuracy: 0.3684\n",
      "Epoch 42/50\n",
      "5000/5000 [==============================] - 2s 304us/step - loss: 0.5538 - accuracy: 0.8986 - val_loss: 1.8047 - val_accuracy: 0.3702\n",
      "Epoch 43/50\n",
      "5000/5000 [==============================] - 1s 288us/step - loss: 0.5393 - accuracy: 0.9076 - val_loss: 1.7987 - val_accuracy: 0.3720\n",
      "Epoch 44/50\n",
      "5000/5000 [==============================] - 2s 306us/step - loss: 0.5225 - accuracy: 0.9112 - val_loss: 1.7968 - val_accuracy: 0.3722\n",
      "Epoch 45/50\n",
      "5000/5000 [==============================] - 2s 316us/step - loss: 0.5074 - accuracy: 0.9150 - val_loss: 1.7944 - val_accuracy: 0.3704\n",
      "Epoch 46/50\n",
      "5000/5000 [==============================] - 1s 271us/step - loss: 0.4938 - accuracy: 0.9188 - val_loss: 1.7902 - val_accuracy: 0.3754\n"
     ]
    },
    {
     "name": "stdout",
     "output_type": "stream",
     "text": [
      "Epoch 47/50\n",
      "5000/5000 [==============================] - 2s 307us/step - loss: 0.4808 - accuracy: 0.9232 - val_loss: 1.7880 - val_accuracy: 0.3766\n",
      "Epoch 48/50\n",
      "5000/5000 [==============================] - 2s 303us/step - loss: 0.4669 - accuracy: 0.9262 - val_loss: 1.7859 - val_accuracy: 0.3778\n",
      "Epoch 49/50\n",
      "5000/5000 [==============================] - 1s 294us/step - loss: 0.4540 - accuracy: 0.9326 - val_loss: 1.7809 - val_accuracy: 0.3776\n",
      "Epoch 50/50\n",
      "5000/5000 [==============================] - 2s 310us/step - loss: 0.4406 - accuracy: 0.9358 - val_loss: 1.7828 - val_accuracy: 0.3780\n"
     ]
    }
   ],
   "source": [
    "model = build_mlp(input_shape=x_train.shape[1:])\n",
    "model.summary()\n",
    "optimizer = keras.optimizers.SGD(lr=LEARNING_RATE, nesterov=True, momentum=MOMENTUM)\n",
    "model.compile(loss=\"categorical_crossentropy\", metrics=[\"accuracy\"], optimizer=optimizer)\n",
    "\n",
    "model.fit(x_train, y_train, \n",
    "          epochs=EPOCHS, \n",
    "          batch_size=BATCH_SIZE, \n",
    "          validation_data=(x_test, y_test), \n",
    "          shuffle=True,\n",
    "          callbacks=[earlystop]\n",
    "         )\n",
    "\n",
    "# Collect results\n",
    "train_loss = model.history.history[\"loss\"]\n",
    "valid_loss = model.history.history[\"val_loss\"]\n",
    "train_acc = model.history.history[\"accuracy\"]\n",
    "valid_acc = model.history.history[\"val_accuracy\"]"
   ]
  },
  {
   "cell_type": "code",
   "execution_count": 10,
   "metadata": {
    "ExecuteTime": {
     "end_time": "2019-12-22T22:32:46.955498Z",
     "start_time": "2019-12-22T22:32:45.862028Z"
    }
   },
   "outputs": [
    {
     "data": {
      "image/png": "[encoded data removed]",
      "text/plain": [
       "<Figure size 432x288 with 1 Axes>"
      ]
     },
     "metadata": {
      "needs_background": "light"
     },
     "output_type": "display_data"
    },
    {
     "data": {
      "image/png": "[encoded data removed]",
      "text/plain": [
       "<Figure size 432x288 with 1 Axes>"
      ]
     },
     "metadata": {
      "needs_background": "light"
     },
     "output_type": "display_data"
    }
   ],
   "source": [
    "import matplotlib.pyplot as plt\n",
    "%matplotlib inline\n",
    "\n",
    "plt.plot(range(len(train_loss)), train_loss, label=\"train loss\")\n",
    "plt.plot(range(len(valid_loss)), valid_loss, label=\"valid loss\")\n",
    "plt.legend()\n",
    "plt.title(\"Loss\")\n",
    "plt.show()\n",
    "\n",
    "plt.plot(range(len(train_acc)), train_acc, label=\"train accuracy\")\n",
    "plt.plot(range(len(valid_acc)), valid_acc, label=\"valid accuracy\")\n",
    "plt.legend()\n",
    "plt.title(\"Accuracy\")\n",
    "plt.show()"
   ]
  },
  {
   "cell_type": "markdown",
   "metadata": {},
   "source": [
    "## Work\n",
    "1. 試改變 monitor \"Validation Accuracy\" 並比較結果\n",
    "2. 調整 earlystop 的等待次數至 10, 25 並比較結果"
   ]
  }
 ],
 "metadata": {
  "hide_input": false,
  "kernelspec": {
   "display_name": "Python 3",
   "language": "python",
   "name": "python3"
  },
  "language_info": {
   "codemirror_mode": {
    "name": "ipython",
    "version": 3
   },
   "file_extension": ".py",
   "mimetype": "text/x-python",
   "name": "python",
   "nbconvert_exporter": "python",
   "pygments_lexer": "ipython3",
   "version": "3.6.9"
  },
  "toc": {
   "base_numbering": 1,
   "nav_menu": {},
   "number_sections": true,
   "sideBar": true,
   "skip_h1_title": false,
   "title_cell": "Table of Contents",
   "title_sidebar": "Contents",
   "toc_cell": false,
   "toc_position": {},
   "toc_section_display": true,
   "toc_window_display": false
  }
 },
 "nbformat": 4,
 "nbformat_minor": 2
}
