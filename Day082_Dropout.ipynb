{
 "cells": [
  {
   "cell_type": "markdown",
   "metadata": {},
   "source": [
    "## 範例重點\n",
    "* 知道如何在 keras 中加入 dropout\n",
    "* 了解 dropout 中 ratio 的意義與對訓練的影響"
   ]
  },
  {
   "cell_type": "code",
   "execution_count": 35,
   "metadata": {
    "ExecuteTime": {
     "end_time": "2019-12-21T20:00:37.302716Z",
     "start_time": "2019-12-21T20:00:37.299015Z"
    }
   },
   "outputs": [],
   "source": [
    "import os\n",
    "import tensorflow.keras as keras\n",
    "\n",
    "# 本範例不需使用 GPU, 將 GPU 設定為 \"無\"\n",
    "os.environ[\"CUDA_VISIBLE_DEVICES\"] = \"\""
   ]
  },
  {
   "cell_type": "code",
   "execution_count": 33,
   "metadata": {
    "ExecuteTime": {
     "end_time": "2019-12-21T20:00:12.737891Z",
     "start_time": "2019-12-21T20:00:12.734733Z"
    }
   },
   "outputs": [],
   "source": [
    "# import keras"
   ]
  },
  {
   "cell_type": "code",
   "execution_count": 2,
   "metadata": {
    "ExecuteTime": {
     "end_time": "2019-12-21T19:40:32.666778Z",
     "start_time": "2019-12-21T19:40:32.417836Z"
    }
   },
   "outputs": [],
   "source": [
    "train, test = keras.datasets.cifar10.load_data()"
   ]
  },
  {
   "cell_type": "code",
   "execution_count": 3,
   "metadata": {
    "ExecuteTime": {
     "end_time": "2019-12-21T19:40:33.219306Z",
     "start_time": "2019-12-21T19:40:33.213102Z"
    }
   },
   "outputs": [],
   "source": [
    "## 資料前處理\n",
    "def preproc_x(x, flatten=True):\n",
    "    x = x / 255.\n",
    "    if flatten:\n",
    "        x = x.reshape((len(x), -1))\n",
    "    return x\n",
    "\n",
    "def preproc_y(y, num_classes=10):\n",
    "    if y.shape[-1] == 1:\n",
    "        y = keras.utils.to_categorical(y, num_classes)\n",
    "    return y    "
   ]
  },
  {
   "cell_type": "code",
   "execution_count": 4,
   "metadata": {
    "ExecuteTime": {
     "end_time": "2019-12-21T19:40:37.962237Z",
     "start_time": "2019-12-21T19:40:34.813116Z"
    }
   },
   "outputs": [],
   "source": [
    "x_train, y_train = train\n",
    "x_test, y_test = test\n",
    "\n",
    "# 資料前處理 - X 標準化\n",
    "x_train = preproc_x(x_train)\n",
    "x_test = preproc_x(x_test)\n",
    "\n",
    "# 資料前處理 -Y 轉成 onehot\n",
    "y_train = preproc_y(y_train)\n",
    "y_test = preproc_y(y_test)"
   ]
  },
  {
   "cell_type": "code",
   "execution_count": 5,
   "metadata": {
    "ExecuteTime": {
     "end_time": "2019-12-21T19:42:48.379732Z",
     "start_time": "2019-12-21T19:42:48.375186Z"
    }
   },
   "outputs": [],
   "source": [
    "x_train = x_train[:5000]\n",
    "x_test = x_test[:5000]\n",
    "y_train = y_train[:5000]\n",
    "y_test = y_test[:5000]"
   ]
  },
  {
   "cell_type": "code",
   "execution_count": 45,
   "metadata": {
    "ExecuteTime": {
     "end_time": "2019-12-21T20:04:01.555423Z",
     "start_time": "2019-12-21T20:04:01.548356Z"
    }
   },
   "outputs": [],
   "source": [
    "from tensorflow.keras.layers import Dropout\n",
    "\n",
    "\"\"\"\n",
    "建立神經網路，並加入 dropout layer\n",
    "\"\"\"\n",
    "def build_mlp(input_shape, output_units=10, num_neurons=[512, 256, 128], drp_ratio=0.2):\n",
    "    input_layer = keras.layers.Input(input_shape)\n",
    "    \n",
    "    for i, n_units in enumerate(num_neurons):\n",
    "        if i == 0:\n",
    "            x = keras.layers.Dense(units=n_units, \n",
    "                                   activation=\"relu\", \n",
    "                                   name=\"hidden_layer\"+str(i+1))(input_layer)\n",
    "#             x = keras.layers.Dropout(drp_ratio)(x) ## dropout function has bug: https://github.com/tensorflow/tensorflow/issues/23410\n",
    "        else:\n",
    "            x = keras.layers.Dense(units=n_units, \n",
    "                                   activation=\"relu\", \n",
    "                                   name=\"hidden_layer\"+str(i+1))(x)\n",
    "#             x = keras.layers.Dropout(drp_ratio)(x)\n",
    "    \n",
    "    out = keras.layers.Dense(units=output_units, activation=\"softmax\", name=\"output\")(x)\n",
    "    \n",
    "    model = keras.models.Model(inputs=[input_layer], outputs=[out])\n",
    "    return model"
   ]
  },
  {
   "cell_type": "code",
   "execution_count": 46,
   "metadata": {
    "ExecuteTime": {
     "end_time": "2019-12-21T20:04:01.962609Z",
     "start_time": "2019-12-21T20:04:01.958996Z"
    }
   },
   "outputs": [],
   "source": [
    "## 超參數設定\n",
    "LEARNING_RATE = 1e-3\n",
    "EPOCHS = 50\n",
    "BATCH_SIZE = 256\n",
    "MOMENTUM = 0.95\n",
    "Dropout_EXP = 0.25"
   ]
  },
  {
   "cell_type": "code",
   "execution_count": 47,
   "metadata": {
    "ExecuteTime": {
     "end_time": "2019-12-21T20:04:02.426416Z",
     "start_time": "2019-12-21T20:04:02.333303Z"
    }
   },
   "outputs": [],
   "source": [
    "model = build_mlp(input_shape=x_train.shape[1:], drp_ratio=Dropout_EXP)"
   ]
  },
  {
   "cell_type": "code",
   "execution_count": 48,
   "metadata": {
    "ExecuteTime": {
     "end_time": "2019-12-21T20:04:03.160672Z",
     "start_time": "2019-12-21T20:04:03.154456Z"
    }
   },
   "outputs": [
    {
     "name": "stdout",
     "output_type": "stream",
     "text": [
      "_________________________________________________________________\n",
      "Layer (type)                 Output Shape              Param #   \n",
      "=================================================================\n",
      "input_11 (InputLayer)        (None, 3072)              0         \n",
      "_________________________________________________________________\n",
      "hidden_layer1 (Dense)        (None, 512)               1573376   \n",
      "_________________________________________________________________\n",
      "hidden_layer2 (Dense)        (None, 256)               131328    \n",
      "_________________________________________________________________\n",
      "hidden_layer3 (Dense)        (None, 128)               32896     \n",
      "_________________________________________________________________\n",
      "output (Dense)               (None, 10)                1290      \n",
      "=================================================================\n",
      "Total params: 1,738,890\n",
      "Trainable params: 1,738,890\n",
      "Non-trainable params: 0\n",
      "_________________________________________________________________\n"
     ]
    }
   ],
   "source": [
    "model.summary()"
   ]
  },
  {
   "cell_type": "code",
   "execution_count": 49,
   "metadata": {
    "ExecuteTime": {
     "end_time": "2019-12-21T20:05:04.667734Z",
     "start_time": "2019-12-21T20:04:03.994510Z"
    },
    "scrolled": true
   },
   "outputs": [
    {
     "name": "stdout",
     "output_type": "stream",
     "text": [
      "_________________________________________________________________\n",
      "Layer (type)                 Output Shape              Param #   \n",
      "=================================================================\n",
      "input_11 (InputLayer)        (None, 3072)              0         \n",
      "_________________________________________________________________\n",
      "hidden_layer1 (Dense)        (None, 512)               1573376   \n",
      "_________________________________________________________________\n",
      "hidden_layer2 (Dense)        (None, 256)               131328    \n",
      "_________________________________________________________________\n",
      "hidden_layer3 (Dense)        (None, 128)               32896     \n",
      "_________________________________________________________________\n",
      "output (Dense)               (None, 10)                1290      \n",
      "=================================================================\n",
      "Total params: 1,738,890\n",
      "Trainable params: 1,738,890\n",
      "Non-trainable params: 0\n",
      "_________________________________________________________________\n",
      "Train on 5000 samples, validate on 5000 samples\n",
      "Epoch 1/50\n",
      "5000/5000 [==============================] - 2s 374us/step - loss: 2.2890 - acc: 0.1370 - val_loss: 2.2320 - val_acc: 0.1928\n",
      "Epoch 2/50\n",
      "5000/5000 [==============================] - 1s 192us/step - loss: 2.1819 - acc: 0.2232 - val_loss: 2.1451 - val_acc: 0.2520\n",
      "Epoch 3/50\n",
      "5000/5000 [==============================] - 1s 194us/step - loss: 2.0984 - acc: 0.2604 - val_loss: 2.0749 - val_acc: 0.2706\n",
      "Epoch 4/50\n",
      "5000/5000 [==============================] - 1s 197us/step - loss: 2.0306 - acc: 0.2842 - val_loss: 2.0214 - val_acc: 0.2908\n",
      "Epoch 5/50\n",
      "5000/5000 [==============================] - 1s 190us/step - loss: 1.9783 - acc: 0.2958 - val_loss: 1.9772 - val_acc: 0.3084\n",
      "Epoch 6/50\n",
      "5000/5000 [==============================] - 1s 234us/step - loss: 1.9337 - acc: 0.3160 - val_loss: 1.9476 - val_acc: 0.3164\n",
      "Epoch 7/50\n",
      "5000/5000 [==============================] - 1s 227us/step - loss: 1.8970 - acc: 0.3404 - val_loss: 1.9184 - val_acc: 0.3222\n",
      "Epoch 8/50\n",
      "5000/5000 [==============================] - 1s 192us/step - loss: 1.8669 - acc: 0.3436 - val_loss: 1.8968 - val_acc: 0.3316\n",
      "Epoch 9/50\n",
      "5000/5000 [==============================] - 1s 181us/step - loss: 1.8420 - acc: 0.3514 - val_loss: 1.8782 - val_acc: 0.3402\n",
      "Epoch 10/50\n",
      "5000/5000 [==============================] - 1s 179us/step - loss: 1.8188 - acc: 0.3724 - val_loss: 1.8623 - val_acc: 0.3484\n",
      "Epoch 11/50\n",
      "5000/5000 [==============================] - 1s 210us/step - loss: 1.7943 - acc: 0.3714 - val_loss: 1.8478 - val_acc: 0.3540\n",
      "Epoch 12/50\n",
      "5000/5000 [==============================] - 1s 184us/step - loss: 1.7763 - acc: 0.3808 - val_loss: 1.8269 - val_acc: 0.3598\n",
      "Epoch 13/50\n",
      "5000/5000 [==============================] - 1s 226us/step - loss: 1.7577 - acc: 0.3874 - val_loss: 1.8204 - val_acc: 0.3632\n",
      "Epoch 14/50\n",
      "5000/5000 [==============================] - 1s 288us/step - loss: 1.7433 - acc: 0.3952 - val_loss: 1.8079 - val_acc: 0.3638\n",
      "Epoch 15/50\n",
      "5000/5000 [==============================] - 1s 295us/step - loss: 1.7266 - acc: 0.3960 - val_loss: 1.7981 - val_acc: 0.3658\n",
      "Epoch 16/50\n",
      "5000/5000 [==============================] - 1s 286us/step - loss: 1.7090 - acc: 0.4094 - val_loss: 1.7964 - val_acc: 0.3716\n",
      "Epoch 17/50\n",
      "5000/5000 [==============================] - 2s 336us/step - loss: 1.6947 - acc: 0.4098 - val_loss: 1.7839 - val_acc: 0.3736\n",
      "Epoch 18/50\n",
      "5000/5000 [==============================] - 1s 220us/step - loss: 1.6829 - acc: 0.4148 - val_loss: 1.7719 - val_acc: 0.3824\n",
      "Epoch 19/50\n",
      "5000/5000 [==============================] - 1s 206us/step - loss: 1.6667 - acc: 0.4202 - val_loss: 1.7635 - val_acc: 0.3834\n",
      "Epoch 20/50\n",
      "5000/5000 [==============================] - 1s 203us/step - loss: 1.6538 - acc: 0.4266 - val_loss: 1.7604 - val_acc: 0.3810\n",
      "Epoch 21/50\n",
      "5000/5000 [==============================] - 1s 199us/step - loss: 1.6437 - acc: 0.4356 - val_loss: 1.7526 - val_acc: 0.3862\n",
      "Epoch 22/50\n",
      "5000/5000 [==============================] - 1s 207us/step - loss: 1.6284 - acc: 0.4326 - val_loss: 1.7470 - val_acc: 0.3854\n",
      "Epoch 23/50\n",
      "5000/5000 [==============================] - 1s 191us/step - loss: 1.6176 - acc: 0.4426 - val_loss: 1.7567 - val_acc: 0.3810\n",
      "Epoch 24/50\n",
      "5000/5000 [==============================] - 1s 181us/step - loss: 1.6065 - acc: 0.4404 - val_loss: 1.7308 - val_acc: 0.3924\n",
      "Epoch 25/50\n",
      "5000/5000 [==============================] - 1s 189us/step - loss: 1.5924 - acc: 0.4520 - val_loss: 1.7373 - val_acc: 0.3922\n",
      "Epoch 26/50\n",
      "5000/5000 [==============================] - 1s 188us/step - loss: 1.5826 - acc: 0.4518 - val_loss: 1.7330 - val_acc: 0.3896\n",
      "Epoch 27/50\n",
      "5000/5000 [==============================] - 1s 197us/step - loss: 1.5762 - acc: 0.4530 - val_loss: 1.7158 - val_acc: 0.4014\n",
      "Epoch 28/50\n",
      "5000/5000 [==============================] - 1s 201us/step - loss: 1.5588 - acc: 0.4630 - val_loss: 1.7185 - val_acc: 0.3990\n",
      "Epoch 29/50\n",
      "5000/5000 [==============================] - 1s 203us/step - loss: 1.5502 - acc: 0.4652 - val_loss: 1.7108 - val_acc: 0.4000\n",
      "Epoch 30/50\n",
      "5000/5000 [==============================] - 1s 199us/step - loss: 1.5401 - acc: 0.4722 - val_loss: 1.7149 - val_acc: 0.3934\n",
      "Epoch 31/50\n",
      "5000/5000 [==============================] - 1s 191us/step - loss: 1.5285 - acc: 0.4716 - val_loss: 1.7012 - val_acc: 0.4086\n",
      "Epoch 32/50\n",
      "5000/5000 [==============================] - 1s 185us/step - loss: 1.5151 - acc: 0.4818 - val_loss: 1.7050 - val_acc: 0.3988\n",
      "Epoch 33/50\n",
      "5000/5000 [==============================] - 1s 182us/step - loss: 1.5057 - acc: 0.4858 - val_loss: 1.6937 - val_acc: 0.4004\n",
      "Epoch 34/50\n",
      "5000/5000 [==============================] - 1s 181us/step - loss: 1.4983 - acc: 0.4860 - val_loss: 1.6927 - val_acc: 0.4038\n",
      "Epoch 35/50\n",
      "5000/5000 [==============================] - 1s 182us/step - loss: 1.4843 - acc: 0.4886 - val_loss: 1.6808 - val_acc: 0.4080\n",
      "Epoch 36/50\n",
      "5000/5000 [==============================] - 1s 192us/step - loss: 1.4752 - acc: 0.4896 - val_loss: 1.6923 - val_acc: 0.4014\n",
      "Epoch 37/50\n",
      "5000/5000 [==============================] - 1s 185us/step - loss: 1.4673 - acc: 0.4940 - val_loss: 1.6817 - val_acc: 0.4110\n",
      "Epoch 38/50\n",
      "5000/5000 [==============================] - 1s 184us/step - loss: 1.4559 - acc: 0.4964 - val_loss: 1.6995 - val_acc: 0.4018\n",
      "Epoch 39/50\n",
      "5000/5000 [==============================] - 1s 197us/step - loss: 1.4517 - acc: 0.4968 - val_loss: 1.6700 - val_acc: 0.4120\n",
      "Epoch 40/50\n",
      "5000/5000 [==============================] - 1s 250us/step - loss: 1.4334 - acc: 0.5038 - val_loss: 1.6747 - val_acc: 0.4136\n",
      "Epoch 41/50\n",
      "5000/5000 [==============================] - 2s 421us/step - loss: 1.4270 - acc: 0.5074 - val_loss: 1.6634 - val_acc: 0.4160\n",
      "Epoch 42/50\n",
      "5000/5000 [==============================] - 2s 364us/step - loss: 1.4136 - acc: 0.5186 - val_loss: 1.6656 - val_acc: 0.4130\n",
      "Epoch 43/50\n",
      "5000/5000 [==============================] - 2s 372us/step - loss: 1.4064 - acc: 0.5192 - val_loss: 1.6555 - val_acc: 0.4180\n",
      "Epoch 44/50\n",
      "5000/5000 [==============================] - 2s 368us/step - loss: 1.3921 - acc: 0.5244 - val_loss: 1.6621 - val_acc: 0.4124\n",
      "Epoch 45/50\n",
      "5000/5000 [==============================] - 2s 409us/step - loss: 1.3816 - acc: 0.5332 - val_loss: 1.6595 - val_acc: 0.4244\n",
      "Epoch 46/50\n",
      "5000/5000 [==============================] - 2s 353us/step - loss: 1.3717 - acc: 0.5334 - val_loss: 1.6605 - val_acc: 0.4126\n",
      "Epoch 47/50\n",
      "5000/5000 [==============================] - 2s 333us/step - loss: 1.3648 - acc: 0.5356 - val_loss: 1.6514 - val_acc: 0.4164\n",
      "Epoch 48/50\n",
      "5000/5000 [==============================] - 2s 316us/step - loss: 1.3547 - acc: 0.5408 - val_loss: 1.6624 - val_acc: 0.4134\n",
      "Epoch 49/50\n",
      "5000/5000 [==============================] - 2s 306us/step - loss: 1.3459 - acc: 0.5464 - val_loss: 1.6577 - val_acc: 0.4188\n",
      "Epoch 50/50\n",
      "5000/5000 [==============================] - 2s 302us/step - loss: 1.3332 - acc: 0.5518 - val_loss: 1.6453 - val_acc: 0.4282\n"
     ]
    }
   ],
   "source": [
    "\n",
    "model.summary()\n",
    "optimizer = keras.optimizers.SGD(lr=LEARNING_RATE, nesterov=True, momentum=MOMENTUM)\n",
    "model.compile(loss=\"categorical_crossentropy\", metrics=[\"accuracy\"], optimizer=optimizer)\n",
    "\n",
    "model.fit(x_train, y_train, \n",
    "          epochs=EPOCHS, \n",
    "          batch_size=BATCH_SIZE, \n",
    "          validation_data=(x_test, y_test), \n",
    "          shuffle=True)\n",
    "\n",
    "# Collect results\n",
    "train_loss = model.history.history[\"loss\"]\n",
    "valid_loss = model.history.history[\"val_loss\"]\n",
    "train_acc = model.history.history[\"acc\"]\n",
    "valid_acc = model.history.history[\"val_acc\"]"
   ]
  },
  {
   "cell_type": "code",
   "execution_count": 50,
   "metadata": {
    "ExecuteTime": {
     "end_time": "2019-12-21T20:05:05.199314Z",
     "start_time": "2019-12-21T20:05:04.670617Z"
    }
   },
   "outputs": [
    {
     "data": {
      "image/png": "[encoded data removed]",
      "text/plain": [
       "<Figure size 432x288 with 1 Axes>"
      ]
     },
     "metadata": {
      "needs_background": "light"
     },
     "output_type": "display_data"
    },
    {
     "data": {
      "image/png": "[encoded data removed]",
      "text/plain": [
       "<Figure size 432x288 with 1 Axes>"
      ]
     },
     "metadata": {
      "needs_background": "light"
     },
     "output_type": "display_data"
    }
   ],
   "source": [
    "import matplotlib.pyplot as plt\n",
    "%matplotlib inline\n",
    "\n",
    "plt.plot(range(len(train_loss)), train_loss, label=\"train loss\")\n",
    "plt.plot(range(len(valid_loss)), valid_loss, label=\"valid loss\")\n",
    "plt.legend()\n",
    "plt.title(\"Loss\")\n",
    "plt.show()\n",
    "\n",
    "plt.plot(range(len(train_acc)), train_acc, label=\"train accuracy\")\n",
    "plt.plot(range(len(valid_acc)), valid_acc, label=\"valid accuracy\")\n",
    "plt.legend()\n",
    "plt.title(\"Accuracy\")\n",
    "plt.show()"
   ]
  },
  {
   "cell_type": "markdown",
   "metadata": {},
   "source": [
    "## Work\n",
    "1. 請比較使用不同層數以及不同 Dropout rate 對訓練的效果\n",
    "2. 將 optimizer 改成使用 Adam 並加上適當的 dropout rate 檢視結果"
   ]
  }
 ],
 "metadata": {
  "hide_input": false,
  "kernelspec": {
   "display_name": "Python 3",
   "language": "python",
   "name": "python3"
  },
  "language_info": {
   "codemirror_mode": {
    "name": "ipython",
    "version": 3
   },
   "file_extension": ".py",
   "mimetype": "text/x-python",
   "name": "python",
   "nbconvert_exporter": "python",
   "pygments_lexer": "ipython3",
   "version": "3.7.3"
  },
  "toc": {
   "base_numbering": 1,
   "nav_menu": {},
   "number_sections": true,
   "sideBar": true,
   "skip_h1_title": false,
   "title_cell": "Table of Contents",
   "title_sidebar": "Contents",
   "toc_cell": false,
   "toc_position": {},
   "toc_section_display": true,
   "toc_window_display": false
  }
 },
 "nbformat": 4,
 "nbformat_minor": 2
}
