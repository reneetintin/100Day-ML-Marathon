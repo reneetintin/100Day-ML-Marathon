{
 "cells": [
  {
   "cell_type": "markdown",
   "metadata": {},
   "source": [
    "## 範例重點\n",
    "* 知道如何在 keras 中加入 dropout\n",
    "* 了解 dropout 中 ratio 的意義與對訓練的影響"
   ]
  },
  {
   "cell_type": "code",
   "execution_count": 1,
   "metadata": {
    "ExecuteTime": {
     "end_time": "2019-12-22T12:37:40.373565Z",
     "start_time": "2019-12-22T12:37:40.369497Z"
    }
   },
   "outputs": [
    {
     "name": "stdout",
     "output_type": "stream",
     "text": [
      "3.6.9 |Anaconda, Inc.| (default, Jul 30 2019, 13:42:17) \n",
      "[GCC 4.2.1 Compatible Clang 4.0.1 (tags/RELEASE_401/final)]\n"
     ]
    }
   ],
   "source": [
    "import sys\n",
    "print(sys.version)"
   ]
  },
  {
   "cell_type": "code",
   "execution_count": 2,
   "metadata": {
    "ExecuteTime": {
     "end_time": "2019-12-22T12:37:42.456280Z",
     "start_time": "2019-12-22T12:37:40.947937Z"
    }
   },
   "outputs": [
    {
     "name": "stderr",
     "output_type": "stream",
     "text": [
      "Using TensorFlow backend.\n"
     ]
    }
   ],
   "source": [
    "import os\n",
    "import keras\n",
    "import tensorflow as tf\n",
    "# 本範例不需使用 GPU, 將 GPU 設定為 \"無\"\n",
    "os.environ[\"CUDA_VISIBLE_DEVICES\"] = \"\""
   ]
  },
  {
   "cell_type": "code",
   "execution_count": 3,
   "metadata": {
    "ExecuteTime": {
     "end_time": "2019-12-22T12:37:43.924213Z",
     "start_time": "2019-12-22T12:37:43.661957Z"
    }
   },
   "outputs": [],
   "source": [
    "train, test = keras.datasets.cifar10.load_data()"
   ]
  },
  {
   "cell_type": "code",
   "execution_count": 4,
   "metadata": {
    "ExecuteTime": {
     "end_time": "2019-12-22T12:37:44.443133Z",
     "start_time": "2019-12-22T12:37:44.438411Z"
    }
   },
   "outputs": [],
   "source": [
    "## 資料前處理\n",
    "def preproc_x(x, flatten=True):\n",
    "    x = x / 255.\n",
    "    if flatten:\n",
    "        x = x.reshape((len(x), -1))\n",
    "    return x\n",
    "\n",
    "def preproc_y(y, num_classes=10):\n",
    "    if y.shape[-1] == 1:\n",
    "        y = keras.utils.to_categorical(y, num_classes)\n",
    "    return y    "
   ]
  },
  {
   "cell_type": "code",
   "execution_count": 5,
   "metadata": {
    "ExecuteTime": {
     "end_time": "2019-12-22T12:37:48.989426Z",
     "start_time": "2019-12-22T12:37:45.084432Z"
    }
   },
   "outputs": [],
   "source": [
    "x_train, y_train = train\n",
    "x_test, y_test = test\n",
    "\n",
    "# 資料前處理 - X 標準化\n",
    "x_train = preproc_x(x_train)\n",
    "x_test = preproc_x(x_test)\n",
    "\n",
    "# 資料前處理 -Y 轉成 onehot\n",
    "y_train = preproc_y(y_train)\n",
    "y_test = preproc_y(y_test)"
   ]
  },
  {
   "cell_type": "code",
   "execution_count": 6,
   "metadata": {
    "ExecuteTime": {
     "end_time": "2019-12-22T12:37:48.995884Z",
     "start_time": "2019-12-22T12:37:48.992332Z"
    }
   },
   "outputs": [],
   "source": [
    "x_train = x_train[:5000]\n",
    "x_test = x_test[:5000]\n",
    "y_train = y_train[:5000]\n",
    "y_test = y_test[:5000]"
   ]
  },
  {
   "cell_type": "code",
   "execution_count": 7,
   "metadata": {
    "ExecuteTime": {
     "end_time": "2019-12-22T12:37:49.010848Z",
     "start_time": "2019-12-22T12:37:48.998093Z"
    }
   },
   "outputs": [],
   "source": [
    "from tensorflow.keras.layers import Dropout\n",
    "\n",
    "\"\"\"\n",
    "建立神經網路，並加入 dropout layer\n",
    "\"\"\"\n",
    "def build_mlp(input_shape, output_units=10, num_neurons=[512, 256, 128], drp_ratio=0.2):\n",
    "    input_layer = keras.layers.Input(input_shape)\n",
    "    \n",
    "    for i, n_units in enumerate(num_neurons):\n",
    "        if i == 0:\n",
    "            x = keras.layers.Dense(units=n_units, \n",
    "                                   activation=\"relu\", \n",
    "                                   name=\"hidden_layer\"+str(i+1))(input_layer)\n",
    "            x = keras.layers.Dropout(drp_ratio)(x) \n",
    "        else:\n",
    "            x = keras.layers.Dense(units=n_units, \n",
    "                                   activation=\"relu\", \n",
    "                                   name=\"hidden_layer\"+str(i+1))(x)\n",
    "            x = keras.layers.Dropout(drp_ratio)(x)\n",
    "    \n",
    "    out = keras.layers.Dense(units=output_units, activation=\"softmax\", name=\"output\")(x)\n",
    "    \n",
    "    model = keras.models.Model(inputs=[input_layer], outputs=[out])\n",
    "    return model"
   ]
  },
  {
   "cell_type": "code",
   "execution_count": 8,
   "metadata": {
    "ExecuteTime": {
     "end_time": "2019-12-22T12:37:49.017978Z",
     "start_time": "2019-12-22T12:37:49.012828Z"
    }
   },
   "outputs": [],
   "source": [
    "## 超參數設定\n",
    "LEARNING_RATE = 1e-3\n",
    "EPOCHS = 50\n",
    "BATCH_SIZE = 32\n",
    "MOMENTUM = 0.95\n",
    "Dropout_EXP = 0.25"
   ]
  },
  {
   "cell_type": "code",
   "execution_count": 9,
   "metadata": {
    "ExecuteTime": {
     "end_time": "2019-12-22T12:37:49.238610Z",
     "start_time": "2019-12-22T12:37:49.020618Z"
    }
   },
   "outputs": [],
   "source": [
    "model = build_mlp(input_shape=x_train.shape[1:], drp_ratio=Dropout_EXP)"
   ]
  },
  {
   "cell_type": "code",
   "execution_count": 10,
   "metadata": {
    "ExecuteTime": {
     "end_time": "2019-12-22T12:37:49.303165Z",
     "start_time": "2019-12-22T12:37:49.240852Z"
    }
   },
   "outputs": [
    {
     "name": "stdout",
     "output_type": "stream",
     "text": [
      "Model: \"model_1\"\n",
      "_________________________________________________________________\n",
      "Layer (type)                 Output Shape              Param #   \n",
      "=================================================================\n",
      "input_1 (InputLayer)         (None, 3072)              0         \n",
      "_________________________________________________________________\n",
      "hidden_layer1 (Dense)        (None, 512)               1573376   \n",
      "_________________________________________________________________\n",
      "dropout_1 (Dropout)          (None, 512)               0         \n",
      "_________________________________________________________________\n",
      "hidden_layer2 (Dense)        (None, 256)               131328    \n",
      "_________________________________________________________________\n",
      "dropout_2 (Dropout)          (None, 256)               0         \n",
      "_________________________________________________________________\n",
      "hidden_layer3 (Dense)        (None, 128)               32896     \n",
      "_________________________________________________________________\n",
      "dropout_3 (Dropout)          (None, 128)               0         \n",
      "_________________________________________________________________\n",
      "output (Dense)               (None, 10)                1290      \n",
      "=================================================================\n",
      "Total params: 1,738,890\n",
      "Trainable params: 1,738,890\n",
      "Non-trainable params: 0\n",
      "_________________________________________________________________\n"
     ]
    }
   ],
   "source": [
    "model.summary()\n",
    "optimizer = keras.optimizers.SGD(lr=LEARNING_RATE, nesterov=True, momentum=MOMENTUM)\n",
    "model.compile(loss=\"categorical_crossentropy\", metrics=[\"accuracy\"], optimizer=optimizer)\n"
   ]
  },
  {
   "cell_type": "code",
   "execution_count": 11,
   "metadata": {
    "ExecuteTime": {
     "end_time": "2019-12-22T12:39:50.597123Z",
     "start_time": "2019-12-22T12:37:51.020921Z"
    },
    "scrolled": true
   },
   "outputs": [
    {
     "name": "stdout",
     "output_type": "stream",
     "text": [
      "Train on 5000 samples, validate on 5000 samples\n",
      "Epoch 1/50\n",
      "5000/5000 [==============================] - 3s 534us/step - loss: 2.2607 - accuracy: 0.1570 - val_loss: 2.1003 - val_accuracy: 0.2148\n",
      "Epoch 2/50\n",
      "5000/5000 [==============================] - 2s 492us/step - loss: 2.0926 - accuracy: 0.2260 - val_loss: 2.0064 - val_accuracy: 0.2622\n",
      "Epoch 3/50\n",
      "5000/5000 [==============================] - 2s 457us/step - loss: 2.0225 - accuracy: 0.2532 - val_loss: 1.9271 - val_accuracy: 0.3030\n",
      "Epoch 4/50\n",
      "5000/5000 [==============================] - 2s 457us/step - loss: 1.9673 - accuracy: 0.2672 - val_loss: 1.8953 - val_accuracy: 0.3208\n",
      "Epoch 5/50\n",
      "5000/5000 [==============================] - 2s 437us/step - loss: 1.9268 - accuracy: 0.2892 - val_loss: 1.8594 - val_accuracy: 0.3282\n",
      "Epoch 6/50\n",
      "5000/5000 [==============================] - 2s 437us/step - loss: 1.8954 - accuracy: 0.3074 - val_loss: 1.8766 - val_accuracy: 0.3240\n",
      "Epoch 7/50\n",
      "5000/5000 [==============================] - 2s 465us/step - loss: 1.8684 - accuracy: 0.3098 - val_loss: 1.8155 - val_accuracy: 0.3498\n",
      "Epoch 8/50\n",
      "5000/5000 [==============================] - 2s 486us/step - loss: 1.8508 - accuracy: 0.3208 - val_loss: 1.7997 - val_accuracy: 0.3492\n",
      "Epoch 9/50\n",
      "5000/5000 [==============================] - 3s 518us/step - loss: 1.8238 - accuracy: 0.3328 - val_loss: 1.8242 - val_accuracy: 0.3336\n",
      "Epoch 10/50\n",
      "5000/5000 [==============================] - 2s 446us/step - loss: 1.8021 - accuracy: 0.3390 - val_loss: 1.7693 - val_accuracy: 0.3646\n",
      "Epoch 11/50\n",
      "5000/5000 [==============================] - 2s 474us/step - loss: 1.7921 - accuracy: 0.3552 - val_loss: 1.7583 - val_accuracy: 0.3688\n",
      "Epoch 12/50\n",
      "5000/5000 [==============================] - 2s 462us/step - loss: 1.7653 - accuracy: 0.3542 - val_loss: 1.7416 - val_accuracy: 0.3796\n",
      "Epoch 13/50\n",
      "5000/5000 [==============================] - 2s 456us/step - loss: 1.7497 - accuracy: 0.3730 - val_loss: 1.7226 - val_accuracy: 0.3834\n",
      "Epoch 14/50\n",
      "5000/5000 [==============================] - 2s 449us/step - loss: 1.7289 - accuracy: 0.3776 - val_loss: 1.7600 - val_accuracy: 0.3664\n",
      "Epoch 15/50\n",
      "5000/5000 [==============================] - 2s 454us/step - loss: 1.7290 - accuracy: 0.3758 - val_loss: 1.7418 - val_accuracy: 0.3666\n",
      "Epoch 16/50\n",
      "5000/5000 [==============================] - 2s 447us/step - loss: 1.7014 - accuracy: 0.3826 - val_loss: 1.7103 - val_accuracy: 0.3894\n",
      "Epoch 17/50\n",
      "5000/5000 [==============================] - 2s 465us/step - loss: 1.6964 - accuracy: 0.3796 - val_loss: 1.7163 - val_accuracy: 0.3894\n",
      "Epoch 18/50\n",
      "5000/5000 [==============================] - 2s 470us/step - loss: 1.6740 - accuracy: 0.4040 - val_loss: 1.7231 - val_accuracy: 0.3860\n",
      "Epoch 19/50\n",
      "5000/5000 [==============================] - 2s 455us/step - loss: 1.6712 - accuracy: 0.3906 - val_loss: 1.6987 - val_accuracy: 0.3928\n",
      "Epoch 20/50\n",
      "5000/5000 [==============================] - 2s 445us/step - loss: 1.6548 - accuracy: 0.4006 - val_loss: 1.7011 - val_accuracy: 0.3954\n",
      "Epoch 21/50\n",
      "5000/5000 [==============================] - 2s 444us/step - loss: 1.6418 - accuracy: 0.4112 - val_loss: 1.6794 - val_accuracy: 0.4004\n",
      "Epoch 22/50\n",
      "5000/5000 [==============================] - 2s 476us/step - loss: 1.6306 - accuracy: 0.4164 - val_loss: 1.6732 - val_accuracy: 0.4050\n",
      "Epoch 23/50\n",
      "5000/5000 [==============================] - 2s 459us/step - loss: 1.6083 - accuracy: 0.4180 - val_loss: 1.6846 - val_accuracy: 0.4042\n",
      "Epoch 24/50\n",
      "5000/5000 [==============================] - 2s 459us/step - loss: 1.6081 - accuracy: 0.4234 - val_loss: 1.6807 - val_accuracy: 0.3958\n",
      "Epoch 25/50\n",
      "5000/5000 [==============================] - 2s 449us/step - loss: 1.6033 - accuracy: 0.4190 - val_loss: 1.6714 - val_accuracy: 0.4068\n",
      "Epoch 26/50\n",
      "5000/5000 [==============================] - 2s 433us/step - loss: 1.5777 - accuracy: 0.4296 - val_loss: 1.6328 - val_accuracy: 0.4120\n",
      "Epoch 27/50\n",
      "5000/5000 [==============================] - 2s 433us/step - loss: 1.5789 - accuracy: 0.4294 - val_loss: 1.6629 - val_accuracy: 0.4098\n",
      "Epoch 28/50\n",
      "5000/5000 [==============================] - 3s 583us/step - loss: 1.5620 - accuracy: 0.4388 - val_loss: 1.6561 - val_accuracy: 0.4102\n",
      "Epoch 29/50\n",
      "5000/5000 [==============================] - 3s 591us/step - loss: 1.5423 - accuracy: 0.4464 - val_loss: 1.6478 - val_accuracy: 0.4192\n",
      "Epoch 30/50\n",
      "5000/5000 [==============================] - 2s 482us/step - loss: 1.5182 - accuracy: 0.4496 - val_loss: 1.6622 - val_accuracy: 0.4028\n",
      "Epoch 31/50\n",
      "5000/5000 [==============================] - 4s 703us/step - loss: 1.5209 - accuracy: 0.4456 - val_loss: 1.6691 - val_accuracy: 0.4104\n",
      "Epoch 32/50\n",
      "5000/5000 [==============================] - 2s 469us/step - loss: 1.5193 - accuracy: 0.4494 - val_loss: 1.6492 - val_accuracy: 0.4130\n",
      "Epoch 33/50\n",
      "5000/5000 [==============================] - 2s 408us/step - loss: 1.5151 - accuracy: 0.4472 - val_loss: 1.6744 - val_accuracy: 0.3936\n",
      "Epoch 34/50\n",
      "5000/5000 [==============================] - 2s 433us/step - loss: 1.4994 - accuracy: 0.4630 - val_loss: 1.6563 - val_accuracy: 0.4162\n",
      "Epoch 35/50\n",
      "5000/5000 [==============================] - 2s 453us/step - loss: 1.4787 - accuracy: 0.4636 - val_loss: 1.6537 - val_accuracy: 0.4204\n",
      "Epoch 36/50\n",
      "5000/5000 [==============================] - 3s 566us/step - loss: 1.4649 - accuracy: 0.4662 - val_loss: 1.6314 - val_accuracy: 0.4222\n",
      "Epoch 37/50\n",
      "5000/5000 [==============================] - 3s 562us/step - loss: 1.4637 - accuracy: 0.4716 - val_loss: 1.6467 - val_accuracy: 0.4192\n",
      "Epoch 38/50\n",
      "5000/5000 [==============================] - 3s 637us/step - loss: 1.4393 - accuracy: 0.4846 - val_loss: 1.6670 - val_accuracy: 0.4166\n",
      "Epoch 39/50\n",
      "5000/5000 [==============================] - 3s 601us/step - loss: 1.4297 - accuracy: 0.4874 - val_loss: 1.6701 - val_accuracy: 0.4170\n",
      "Epoch 40/50\n",
      "5000/5000 [==============================] - 3s 530us/step - loss: 1.4105 - accuracy: 0.4918 - val_loss: 1.6393 - val_accuracy: 0.4248\n",
      "Epoch 41/50\n",
      "5000/5000 [==============================] - 2s 409us/step - loss: 1.4117 - accuracy: 0.4930 - val_loss: 1.6551 - val_accuracy: 0.4172\n",
      "Epoch 42/50\n",
      "5000/5000 [==============================] - 2s 422us/step - loss: 1.4052 - accuracy: 0.4886 - val_loss: 1.6263 - val_accuracy: 0.4294\n",
      "Epoch 43/50\n",
      "5000/5000 [==============================] - 2s 470us/step - loss: 1.3857 - accuracy: 0.5022 - val_loss: 1.6348 - val_accuracy: 0.4304\n",
      "Epoch 44/50\n",
      "5000/5000 [==============================] - 2s 466us/step - loss: 1.3739 - accuracy: 0.5028 - val_loss: 1.6197 - val_accuracy: 0.4326\n",
      "Epoch 45/50\n",
      "5000/5000 [==============================] - 2s 442us/step - loss: 1.3588 - accuracy: 0.5118 - val_loss: 1.6775 - val_accuracy: 0.4230\n",
      "Epoch 46/50\n",
      "5000/5000 [==============================] - 2s 466us/step - loss: 1.3725 - accuracy: 0.5066 - val_loss: 1.6531 - val_accuracy: 0.4218\n",
      "Epoch 47/50\n",
      "5000/5000 [==============================] - 2s 411us/step - loss: 1.3479 - accuracy: 0.5104 - val_loss: 1.6307 - val_accuracy: 0.4258\n",
      "Epoch 48/50\n",
      "5000/5000 [==============================] - 2s 411us/step - loss: 1.3366 - accuracy: 0.5198 - val_loss: 1.6312 - val_accuracy: 0.4320\n",
      "Epoch 49/50\n",
      "5000/5000 [==============================] - 2s 410us/step - loss: 1.3562 - accuracy: 0.5086 - val_loss: 1.6664 - val_accuracy: 0.4242\n",
      "Epoch 50/50\n",
      "5000/5000 [==============================] - 2s 418us/step - loss: 1.3226 - accuracy: 0.5232 - val_loss: 1.6637 - val_accuracy: 0.4258\n"
     ]
    },
    {
     "data": {
      "text/plain": [
       "<keras.callbacks.callbacks.History at 0x13e426f60>"
      ]
     },
     "execution_count": 11,
     "metadata": {},
     "output_type": "execute_result"
    }
   ],
   "source": [
    "\n",
    "model.fit(x_train, y_train, \n",
    "          epochs=EPOCHS, \n",
    "          batch_size=BATCH_SIZE, \n",
    "          validation_data=(x_test, y_test), \n",
    "          shuffle=True)"
   ]
  },
  {
   "cell_type": "code",
   "execution_count": 13,
   "metadata": {
    "ExecuteTime": {
     "end_time": "2019-12-22T12:40:30.945594Z",
     "start_time": "2019-12-22T12:40:30.940020Z"
    }
   },
   "outputs": [],
   "source": [
    "\n",
    "# Collect results\n",
    "train_loss = model.history.history[\"loss\"]\n",
    "valid_loss = model.history.history[\"val_loss\"]\n",
    "train_acc = model.history.history[\"accuracy\"]\n",
    "valid_acc = model.history.history[\"val_accuracy\"]"
   ]
  },
  {
   "cell_type": "code",
   "execution_count": 15,
   "metadata": {
    "ExecuteTime": {
     "end_time": "2019-12-22T17:46:12.374142Z",
     "start_time": "2019-12-22T17:46:09.637100Z"
    }
   },
   "outputs": [
    {
     "data": {
      "image/png": "[encoded data removed]",
      "text/plain": [
       "<Figure size 432x288 with 1 Axes>"
      ]
     },
     "metadata": {
      "needs_background": "light"
     },
     "output_type": "display_data"
    },
    {
     "data": {
      "image/png": "[encoded data removed]",
      "text/plain": [
       "<Figure size 432x288 with 1 Axes>"
      ]
     },
     "metadata": {
      "needs_background": "light"
     },
     "output_type": "display_data"
    }
   ],
   "source": [
    "import matplotlib.pyplot as plt\n",
    "%matplotlib inline\n",
    "\n",
    "plt.plot(range(len(train_loss)), train_loss, label=\"train loss\")\n",
    "plt.plot(range(len(valid_loss)), valid_loss, label=\"valid loss\")\n",
    "plt.legend()\n",
    "plt.title(\"Loss\")\n",
    "plt.show()\n",
    "\n",
    "plt.plot(range(len(train_acc)), train_acc, label=\"train accuracy\")\n",
    "plt.plot(range(len(valid_acc)), valid_acc, label=\"valid accuracy\")\n",
    "plt.legend()\n",
    "plt.title(\"Accuracy\")\n",
    "plt.show()"
   ]
  },
  {
   "cell_type": "markdown",
   "metadata": {},
   "source": [
    "## Work\n",
    "1. 請比較使用不同層數以及不同 Dropout rate 對訓練的效果\n",
    "2. 將 optimizer 改成使用 Adam 並加上適當的 dropout rate 檢視結果"
   ]
  },
  {
   "cell_type": "code",
   "execution_count": null,
   "metadata": {},
   "outputs": [],
   "source": []
  }
 ],
 "metadata": {
  "hide_input": false,
  "kernelspec": {
   "display_name": "Python 3",
   "language": "python",
   "name": "python3"
  },
  "language_info": {
   "codemirror_mode": {
    "name": "ipython",
    "version": 3
   },
   "file_extension": ".py",
   "mimetype": "text/x-python",
   "name": "python",
   "nbconvert_exporter": "python",
   "pygments_lexer": "ipython3",
   "version": "3.6.9"
  },
  "toc": {
   "base_numbering": 1,
   "nav_menu": {},
   "number_sections": true,
   "sideBar": true,
   "skip_h1_title": false,
   "title_cell": "Table of Contents",
   "title_sidebar": "Contents",
   "toc_cell": false,
   "toc_position": {},
   "toc_section_display": true,
   "toc_window_display": false
  }
 },
 "nbformat": 4,
 "nbformat_minor": 2
}
