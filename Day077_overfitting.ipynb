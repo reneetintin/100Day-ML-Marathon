{
 "cells": [
  {
   "cell_type": "markdown",
   "metadata": {},
   "source": [
    "## 範例重點\n",
    "* 學會從 Keras 內建函式取得資料\n",
    "* 能夠建立簡易的深度學習模型\n",
    "* 觀察並了解 Overfit 現象"
   ]
  },
  {
   "cell_type": "code",
   "execution_count": 7,
   "metadata": {
    "ExecuteTime": {
     "end_time": "2019-12-21T16:27:09.375969Z",
     "start_time": "2019-12-21T16:27:09.372579Z"
    }
   },
   "outputs": [],
   "source": [
    "import os\n",
    "from tensorflow.keras import backend\n",
    "import tensorflow.keras as keras\n",
    "\n",
    "# 本範例不需使用 GPU, 將 GPU 設定為 \"無\""
   ]
  },
  {
   "cell_type": "code",
   "execution_count": 8,
   "metadata": {
    "ExecuteTime": {
     "end_time": "2019-12-21T16:27:12.772142Z",
     "start_time": "2019-12-21T16:27:12.268583Z"
    }
   },
   "outputs": [],
   "source": [
    "# 從 Keras 的內建功能中，取得 train 與 test 資料集\n",
    "train, test = keras.datasets.cifar10.load_data()"
   ]
  },
  {
   "cell_type": "code",
   "execution_count": 10,
   "metadata": {
    "ExecuteTime": {
     "end_time": "2019-12-21T16:28:14.073784Z",
     "start_time": "2019-12-21T16:28:12.304304Z"
    }
   },
   "outputs": [
    {
     "name": "stdout",
     "output_type": "stream",
     "text": [
      "(50000, 32, 32, 3) (10000, 32, 32, 3)\n"
     ]
    }
   ],
   "source": [
    "# 將 X 與 Y 獨立放進變數\n",
    "x_train, y_train = train\n",
    "x_test, y_test = test\n",
    "# 資料前處理 - 標準化\n",
    "x_train = x_train / 255.\n",
    "x_test = x_test / 255.\n",
    "\n",
    "print(x_train.shape, x_test.shape)"
   ]
  },
  {
   "cell_type": "code",
   "execution_count": 11,
   "metadata": {
    "ExecuteTime": {
     "end_time": "2019-12-21T16:28:21.975096Z",
     "start_time": "2019-12-21T16:28:17.974100Z"
    }
   },
   "outputs": [
    {
     "name": "stdout",
     "output_type": "stream",
     "text": [
      "(50000, 3072) (10000, 3072)\n"
     ]
    }
   ],
   "source": [
    "\n",
    "\n",
    "# 將資料從圖形 (RGB) 轉為向量 (Single Vector)\n",
    "x_train = x_train.reshape((len(x_train), -1))\n",
    "x_test = x_test.reshape((len(x_test), -1))\n",
    "\n",
    "# 將目標轉為 one-hot encoding\n",
    "y_train = keras.utils.to_categorical(y_train, num_classes=10)\n",
    "y_test = keras.utils.to_categorical(y_test, num_classes=10)\n",
    "\n",
    "print(x_train.shape, x_test.shape)"
   ]
  },
  {
   "cell_type": "code",
   "execution_count": 12,
   "metadata": {
    "ExecuteTime": {
     "end_time": "2019-12-21T16:30:20.020169Z",
     "start_time": "2019-12-21T16:30:20.009916Z"
    }
   },
   "outputs": [],
   "source": [
    "# 建立一個有三層隱藏層之神經網路\n",
    "def build_mlp():\n",
    "    input_layer = keras.layers.Input([x_train.shape[-1]])\n",
    "    x = keras.layers.Dense(units=512, activation=\"relu\")(input_layer)\n",
    "    x = keras.layers.Dense(units=256, activation=\"relu\")(x)\n",
    "    x = keras.layers.Dense(units=128, activation=\"relu\")(x)\n",
    "    out = keras.layers.Dense(units=10, activation=\"softmax\")(x)\n",
    "    \n",
    "    model = keras.models.Model(inputs=[input_layer], outputs=[out])\n",
    "    return model"
   ]
  },
  {
   "cell_type": "code",
   "execution_count": 13,
   "metadata": {
    "ExecuteTime": {
     "end_time": "2019-12-21T16:30:22.107324Z",
     "start_time": "2019-12-21T16:30:21.820802Z"
    }
   },
   "outputs": [
    {
     "name": "stdout",
     "output_type": "stream",
     "text": [
      "_________________________________________________________________\n",
      "Layer (type)                 Output Shape              Param #   \n",
      "=================================================================\n",
      "input_1 (InputLayer)         (None, 3072)              0         \n",
      "_________________________________________________________________\n",
      "dense (Dense)                (None, 512)               1573376   \n",
      "_________________________________________________________________\n",
      "dense_1 (Dense)              (None, 256)               131328    \n",
      "_________________________________________________________________\n",
      "dense_2 (Dense)              (None, 128)               32896     \n",
      "_________________________________________________________________\n",
      "dense_3 (Dense)              (None, 10)                1290      \n",
      "=================================================================\n",
      "Total params: 1,738,890\n",
      "Trainable params: 1,738,890\n",
      "Non-trainable params: 0\n",
      "_________________________________________________________________\n"
     ]
    }
   ],
   "source": [
    "model = build_mlp()\n",
    "# 用 Keras 內建方法檢視模型各層參數量\n",
    "model.summary()\n",
    "\n",
    "optimizer = keras.optimizers.Adam(lr=0.001)\n",
    "model.compile(loss=\"categorical_crossentropy\", metrics=[\"accuracy\"], optimizer=optimizer)"
   ]
  },
  {
   "cell_type": "code",
   "execution_count": 15,
   "metadata": {
    "ExecuteTime": {
     "end_time": "2019-12-21T17:43:41.341972Z",
     "start_time": "2019-12-21T17:43:41.334310Z"
    }
   },
   "outputs": [],
   "source": [
    "x_train = x_train[:1000]\n",
    "x_test = x_test[:1000]\n",
    "y_train = y_train[:1000]\n",
    "y_test = y_test[:1000]"
   ]
  },
  {
   "cell_type": "code",
   "execution_count": 16,
   "metadata": {
    "ExecuteTime": {
     "end_time": "2019-12-21T17:44:50.685724Z",
     "start_time": "2019-12-21T17:43:41.908705Z"
    }
   },
   "outputs": [
    {
     "name": "stdout",
     "output_type": "stream",
     "text": [
      "Train on 1000 samples, validate on 1000 samples\n",
      "Epoch 1/100\n",
      "1000/1000 [==============================] - 1s 511us/step - loss: 0.4983 - acc: 0.8080 - val_loss: 1.8909 - val_acc: 0.5170\n",
      "Epoch 2/100\n",
      "1000/1000 [==============================] - 1s 708us/step - loss: 0.3785 - acc: 0.8680 - val_loss: 1.9397 - val_acc: 0.5160\n",
      "Epoch 3/100\n",
      "1000/1000 [==============================] - 1s 624us/step - loss: 0.3238 - acc: 0.8940 - val_loss: 1.9982 - val_acc: 0.5100\n",
      "Epoch 4/100\n",
      "1000/1000 [==============================] - 1s 679us/step - loss: 0.2686 - acc: 0.9160 - val_loss: 1.9516 - val_acc: 0.5110\n",
      "Epoch 5/100\n",
      "1000/1000 [==============================] - 1s 844us/step - loss: 0.2050 - acc: 0.9410 - val_loss: 1.9423 - val_acc: 0.5270\n",
      "Epoch 6/100\n",
      "1000/1000 [==============================] - 1s 775us/step - loss: 0.1611 - acc: 0.9610 - val_loss: 1.9736 - val_acc: 0.5280\n",
      "Epoch 7/100\n",
      "1000/1000 [==============================] - 1s 712us/step - loss: 0.1289 - acc: 0.9750 - val_loss: 1.9864 - val_acc: 0.5270\n",
      "Epoch 8/100\n",
      "1000/1000 [==============================] - 1s 728us/step - loss: 0.1061 - acc: 0.9840 - val_loss: 2.0491 - val_acc: 0.5340\n",
      "Epoch 9/100\n",
      "1000/1000 [==============================] - 1s 727us/step - loss: 0.0877 - acc: 0.9880 - val_loss: 2.0985 - val_acc: 0.5270\n",
      "Epoch 10/100\n",
      "1000/1000 [==============================] - 1s 779us/step - loss: 0.0748 - acc: 0.9930 - val_loss: 2.1253 - val_acc: 0.5290\n",
      "Epoch 11/100\n",
      "1000/1000 [==============================] - 1s 706us/step - loss: 0.0639 - acc: 0.9960 - val_loss: 2.1312 - val_acc: 0.5230\n",
      "Epoch 12/100\n",
      "1000/1000 [==============================] - 1s 619us/step - loss: 0.0563 - acc: 0.9980 - val_loss: 2.1525 - val_acc: 0.5360\n",
      "Epoch 13/100\n",
      "1000/1000 [==============================] - 1s 745us/step - loss: 0.0494 - acc: 0.9980 - val_loss: 2.1826 - val_acc: 0.5370\n",
      "Epoch 14/100\n",
      "1000/1000 [==============================] - 1s 744us/step - loss: 0.0428 - acc: 0.9990 - val_loss: 2.1936 - val_acc: 0.5320\n",
      "Epoch 15/100\n",
      "1000/1000 [==============================] - 1s 728us/step - loss: 0.0386 - acc: 1.0000 - val_loss: 2.2023 - val_acc: 0.5360\n",
      "Epoch 16/100\n",
      "1000/1000 [==============================] - 1s 662us/step - loss: 0.0352 - acc: 1.0000 - val_loss: 2.2274 - val_acc: 0.5290\n",
      "Epoch 17/100\n",
      "1000/1000 [==============================] - 1s 679us/step - loss: 0.0317 - acc: 1.0000 - val_loss: 2.2497 - val_acc: 0.5330\n",
      "Epoch 18/100\n",
      "1000/1000 [==============================] - 1s 678us/step - loss: 0.0292 - acc: 1.0000 - val_loss: 2.2611 - val_acc: 0.5340\n",
      "Epoch 19/100\n",
      "1000/1000 [==============================] - 1s 679us/step - loss: 0.0269 - acc: 1.0000 - val_loss: 2.2651 - val_acc: 0.5360\n",
      "Epoch 20/100\n",
      "1000/1000 [==============================] - 1s 1ms/step - loss: 0.0251 - acc: 1.0000 - val_loss: 2.2705 - val_acc: 0.5310\n",
      "Epoch 21/100\n",
      "1000/1000 [==============================] - 1s 582us/step - loss: 0.0235 - acc: 1.0000 - val_loss: 2.2826 - val_acc: 0.5310\n",
      "Epoch 22/100\n",
      "1000/1000 [==============================] - 1s 657us/step - loss: 0.0221 - acc: 1.0000 - val_loss: 2.2969 - val_acc: 0.5310\n",
      "Epoch 23/100\n",
      "1000/1000 [==============================] - 1s 557us/step - loss: 0.0209 - acc: 1.0000 - val_loss: 2.3052 - val_acc: 0.5370\n",
      "Epoch 24/100\n",
      "1000/1000 [==============================] - 1s 623us/step - loss: 0.0198 - acc: 1.0000 - val_loss: 2.3143 - val_acc: 0.5350\n",
      "Epoch 25/100\n",
      "1000/1000 [==============================] - 0s 487us/step - loss: 0.0188 - acc: 1.0000 - val_loss: 2.3240 - val_acc: 0.5310\n",
      "Epoch 26/100\n",
      "1000/1000 [==============================] - 0s 488us/step - loss: 0.0179 - acc: 1.0000 - val_loss: 2.3351 - val_acc: 0.5310\n",
      "Epoch 27/100\n",
      "1000/1000 [==============================] - 1s 600us/step - loss: 0.0171 - acc: 1.0000 - val_loss: 2.3456 - val_acc: 0.5290\n",
      "Epoch 28/100\n",
      "1000/1000 [==============================] - 1s 706us/step - loss: 0.0164 - acc: 1.0000 - val_loss: 2.3560 - val_acc: 0.5300\n",
      "Epoch 29/100\n",
      "1000/1000 [==============================] - 1s 713us/step - loss: 0.0157 - acc: 1.0000 - val_loss: 2.3593 - val_acc: 0.5330\n",
      "Epoch 30/100\n",
      "1000/1000 [==============================] - 1s 741us/step - loss: 0.0152 - acc: 1.0000 - val_loss: 2.3679 - val_acc: 0.5270\n",
      "Epoch 31/100\n",
      "1000/1000 [==============================] - 1s 696us/step - loss: 0.0145 - acc: 1.0000 - val_loss: 2.3734 - val_acc: 0.5310\n",
      "Epoch 32/100\n",
      "1000/1000 [==============================] - 1s 707us/step - loss: 0.0140 - acc: 1.0000 - val_loss: 2.3791 - val_acc: 0.5340\n",
      "Epoch 33/100\n",
      "1000/1000 [==============================] - 1s 697us/step - loss: 0.0135 - acc: 1.0000 - val_loss: 2.3867 - val_acc: 0.5320\n",
      "Epoch 34/100\n",
      "1000/1000 [==============================] - 1s 555us/step - loss: 0.0131 - acc: 1.0000 - val_loss: 2.3934 - val_acc: 0.5300\n",
      "Epoch 35/100\n",
      "1000/1000 [==============================] - 0s 488us/step - loss: 0.0127 - acc: 1.0000 - val_loss: 2.3970 - val_acc: 0.5320\n",
      "Epoch 36/100\n",
      "1000/1000 [==============================] - 1s 524us/step - loss: 0.0122 - acc: 1.0000 - val_loss: 2.4024 - val_acc: 0.5290\n",
      "Epoch 37/100\n",
      "1000/1000 [==============================] - 1s 529us/step - loss: 0.0119 - acc: 1.0000 - val_loss: 2.4110 - val_acc: 0.5280\n",
      "Epoch 38/100\n",
      "1000/1000 [==============================] - 0s 443us/step - loss: 0.0115 - acc: 1.0000 - val_loss: 2.4150 - val_acc: 0.5320\n",
      "Epoch 39/100\n",
      "1000/1000 [==============================] - 1s 629us/step - loss: 0.0112 - acc: 1.0000 - val_loss: 2.4210 - val_acc: 0.5300\n",
      "Epoch 40/100\n",
      "1000/1000 [==============================] - 1s 650us/step - loss: 0.0108 - acc: 1.0000 - val_loss: 2.4276 - val_acc: 0.5280\n",
      "Epoch 41/100\n",
      "1000/1000 [==============================] - 1s 672us/step - loss: 0.0106 - acc: 1.0000 - val_loss: 2.4339 - val_acc: 0.5310\n",
      "Epoch 42/100\n",
      "1000/1000 [==============================] - 1s 713us/step - loss: 0.0103 - acc: 1.0000 - val_loss: 2.4381 - val_acc: 0.5260\n",
      "Epoch 43/100\n",
      "1000/1000 [==============================] - 1s 712us/step - loss: 0.0100 - acc: 1.0000 - val_loss: 2.4418 - val_acc: 0.5270\n",
      "Epoch 44/100\n",
      "1000/1000 [==============================] - 1s 758us/step - loss: 0.0097 - acc: 1.0000 - val_loss: 2.4472 - val_acc: 0.5260\n",
      "Epoch 45/100\n",
      "1000/1000 [==============================] - 1s 650us/step - loss: 0.0095 - acc: 1.0000 - val_loss: 2.4516 - val_acc: 0.5260\n",
      "Epoch 46/100\n",
      "1000/1000 [==============================] - 1s 695us/step - loss: 0.0093 - acc: 1.0000 - val_loss: 2.4563 - val_acc: 0.5270\n",
      "Epoch 47/100\n",
      "1000/1000 [==============================] - 1s 665us/step - loss: 0.0091 - acc: 1.0000 - val_loss: 2.4634 - val_acc: 0.5260\n",
      "Epoch 48/100\n",
      "1000/1000 [==============================] - 1s 654us/step - loss: 0.0088 - acc: 1.0000 - val_loss: 2.4680 - val_acc: 0.5270\n",
      "Epoch 49/100\n",
      "1000/1000 [==============================] - 1s 605us/step - loss: 0.0086 - acc: 1.0000 - val_loss: 2.4707 - val_acc: 0.5260\n",
      "Epoch 50/100\n",
      "1000/1000 [==============================] - 1s 668us/step - loss: 0.0084 - acc: 1.0000 - val_loss: 2.4754 - val_acc: 0.5250\n",
      "Epoch 51/100\n",
      "1000/1000 [==============================] - 1s 620us/step - loss: 0.0083 - acc: 1.0000 - val_loss: 2.4805 - val_acc: 0.5260\n",
      "Epoch 52/100\n",
      "1000/1000 [==============================] - 1s 716us/step - loss: 0.0081 - acc: 1.0000 - val_loss: 2.4851 - val_acc: 0.5240\n",
      "Epoch 53/100\n",
      "1000/1000 [==============================] - 1s 845us/step - loss: 0.0079 - acc: 1.0000 - val_loss: 2.4892 - val_acc: 0.5210\n",
      "Epoch 54/100\n",
      "1000/1000 [==============================] - 1s 740us/step - loss: 0.0077 - acc: 1.0000 - val_loss: 2.4925 - val_acc: 0.5240\n",
      "Epoch 55/100\n",
      "1000/1000 [==============================] - 1s 689us/step - loss: 0.0076 - acc: 1.0000 - val_loss: 2.4961 - val_acc: 0.5220\n",
      "Epoch 56/100\n",
      "1000/1000 [==============================] - 1s 671us/step - loss: 0.0074 - acc: 1.0000 - val_loss: 2.5022 - val_acc: 0.5230\n",
      "Epoch 57/100\n",
      "1000/1000 [==============================] - 1s 651us/step - loss: 0.0073 - acc: 1.0000 - val_loss: 2.5057 - val_acc: 0.5240\n",
      "Epoch 58/100\n",
      "1000/1000 [==============================] - 1s 611us/step - loss: 0.0071 - acc: 1.0000 - val_loss: 2.5078 - val_acc: 0.5250\n",
      "Epoch 59/100\n",
      "1000/1000 [==============================] - 1s 713us/step - loss: 0.0070 - acc: 1.0000 - val_loss: 2.5130 - val_acc: 0.5260\n",
      "Epoch 60/100\n"
     ]
    },
    {
     "name": "stdout",
     "output_type": "stream",
     "text": [
      "1000/1000 [==============================] - 1s 633us/step - loss: 0.0068 - acc: 1.0000 - val_loss: 2.5184 - val_acc: 0.5240\n",
      "Epoch 61/100\n",
      "1000/1000 [==============================] - 1s 656us/step - loss: 0.0067 - acc: 1.0000 - val_loss: 2.5226 - val_acc: 0.5230\n",
      "Epoch 62/100\n",
      "1000/1000 [==============================] - 1s 640us/step - loss: 0.0066 - acc: 1.0000 - val_loss: 2.5254 - val_acc: 0.5240\n",
      "Epoch 63/100\n",
      "1000/1000 [==============================] - 1s 735us/step - loss: 0.0065 - acc: 1.0000 - val_loss: 2.5273 - val_acc: 0.5260\n",
      "Epoch 64/100\n",
      "1000/1000 [==============================] - 1s 807us/step - loss: 0.0064 - acc: 1.0000 - val_loss: 2.5316 - val_acc: 0.5270\n",
      "Epoch 65/100\n",
      "1000/1000 [==============================] - 1s 627us/step - loss: 0.0063 - acc: 1.0000 - val_loss: 2.5371 - val_acc: 0.5290\n",
      "Epoch 66/100\n",
      "1000/1000 [==============================] - 1s 828us/step - loss: 0.0062 - acc: 1.0000 - val_loss: 2.5398 - val_acc: 0.5280\n",
      "Epoch 67/100\n",
      "1000/1000 [==============================] - 1s 667us/step - loss: 0.0060 - acc: 1.0000 - val_loss: 2.5417 - val_acc: 0.5260\n",
      "Epoch 68/100\n",
      "1000/1000 [==============================] - 1s 780us/step - loss: 0.0059 - acc: 1.0000 - val_loss: 2.5452 - val_acc: 0.5280\n",
      "Epoch 69/100\n",
      "1000/1000 [==============================] - 1s 742us/step - loss: 0.0058 - acc: 1.0000 - val_loss: 2.5494 - val_acc: 0.5270\n",
      "Epoch 70/100\n",
      "1000/1000 [==============================] - 1s 746us/step - loss: 0.0057 - acc: 1.0000 - val_loss: 2.5543 - val_acc: 0.5280\n",
      "Epoch 71/100\n",
      "1000/1000 [==============================] - 1s 729us/step - loss: 0.0056 - acc: 1.0000 - val_loss: 2.5563 - val_acc: 0.5270\n",
      "Epoch 72/100\n",
      "1000/1000 [==============================] - 1s 746us/step - loss: 0.0055 - acc: 1.0000 - val_loss: 2.5594 - val_acc: 0.5270\n",
      "Epoch 73/100\n",
      "1000/1000 [==============================] - 1s 810us/step - loss: 0.0055 - acc: 1.0000 - val_loss: 2.5624 - val_acc: 0.5270\n",
      "Epoch 74/100\n",
      "1000/1000 [==============================] - 1s 734us/step - loss: 0.0054 - acc: 1.0000 - val_loss: 2.5668 - val_acc: 0.5230\n",
      "Epoch 75/100\n",
      "1000/1000 [==============================] - 1s 733us/step - loss: 0.0053 - acc: 1.0000 - val_loss: 2.5700 - val_acc: 0.5260\n",
      "Epoch 76/100\n",
      "1000/1000 [==============================] - 1s 762us/step - loss: 0.0052 - acc: 1.0000 - val_loss: 2.5716 - val_acc: 0.5290\n",
      "Epoch 77/100\n",
      "1000/1000 [==============================] - 1s 761us/step - loss: 0.0051 - acc: 1.0000 - val_loss: 2.5750 - val_acc: 0.5270\n",
      "Epoch 78/100\n",
      "1000/1000 [==============================] - 1s 736us/step - loss: 0.0050 - acc: 1.0000 - val_loss: 2.5792 - val_acc: 0.5270\n",
      "Epoch 79/100\n",
      "1000/1000 [==============================] - 1s 713us/step - loss: 0.0050 - acc: 1.0000 - val_loss: 2.5819 - val_acc: 0.5280\n",
      "Epoch 80/100\n",
      "1000/1000 [==============================] - 1s 752us/step - loss: 0.0049 - acc: 1.0000 - val_loss: 2.5848 - val_acc: 0.5270\n",
      "Epoch 81/100\n",
      "1000/1000 [==============================] - 1s 660us/step - loss: 0.0048 - acc: 1.0000 - val_loss: 2.5864 - val_acc: 0.5270\n",
      "Epoch 82/100\n",
      "1000/1000 [==============================] - 1s 763us/step - loss: 0.0048 - acc: 1.0000 - val_loss: 2.5889 - val_acc: 0.5270\n",
      "Epoch 83/100\n",
      "1000/1000 [==============================] - 1s 705us/step - loss: 0.0047 - acc: 1.0000 - val_loss: 2.5915 - val_acc: 0.5260\n",
      "Epoch 84/100\n",
      "1000/1000 [==============================] - 1s 674us/step - loss: 0.0046 - acc: 1.0000 - val_loss: 2.5957 - val_acc: 0.5270\n",
      "Epoch 85/100\n",
      "1000/1000 [==============================] - 1s 648us/step - loss: 0.0046 - acc: 1.0000 - val_loss: 2.6002 - val_acc: 0.5260\n",
      "Epoch 86/100\n",
      "1000/1000 [==============================] - 1s 704us/step - loss: 0.0045 - acc: 1.0000 - val_loss: 2.6017 - val_acc: 0.5260\n",
      "Epoch 87/100\n",
      "1000/1000 [==============================] - 1s 676us/step - loss: 0.0044 - acc: 1.0000 - val_loss: 2.6030 - val_acc: 0.5240\n",
      "Epoch 88/100\n",
      "1000/1000 [==============================] - 1s 721us/step - loss: 0.0044 - acc: 1.0000 - val_loss: 2.6061 - val_acc: 0.5240\n",
      "Epoch 89/100\n",
      "1000/1000 [==============================] - 1s 718us/step - loss: 0.0043 - acc: 1.0000 - val_loss: 2.6102 - val_acc: 0.5250\n",
      "Epoch 90/100\n",
      "1000/1000 [==============================] - 1s 676us/step - loss: 0.0043 - acc: 1.0000 - val_loss: 2.6134 - val_acc: 0.5250\n",
      "Epoch 91/100\n",
      "1000/1000 [==============================] - 1s 710us/step - loss: 0.0042 - acc: 1.0000 - val_loss: 2.6150 - val_acc: 0.5260\n",
      "Epoch 92/100\n",
      "1000/1000 [==============================] - 1s 764us/step - loss: 0.0041 - acc: 1.0000 - val_loss: 2.6180 - val_acc: 0.5260\n",
      "Epoch 93/100\n",
      "1000/1000 [==============================] - 1s 809us/step - loss: 0.0041 - acc: 1.0000 - val_loss: 2.6201 - val_acc: 0.5270\n",
      "Epoch 94/100\n",
      "1000/1000 [==============================] - 1s 679us/step - loss: 0.0040 - acc: 1.0000 - val_loss: 2.6224 - val_acc: 0.5270\n",
      "Epoch 95/100\n",
      "1000/1000 [==============================] - 1s 720us/step - loss: 0.0040 - acc: 1.0000 - val_loss: 2.6251 - val_acc: 0.5270\n",
      "Epoch 96/100\n",
      "1000/1000 [==============================] - 1s 653us/step - loss: 0.0039 - acc: 1.0000 - val_loss: 2.6286 - val_acc: 0.5270\n",
      "Epoch 97/100\n",
      "1000/1000 [==============================] - 1s 628us/step - loss: 0.0039 - acc: 1.0000 - val_loss: 2.6309 - val_acc: 0.5260\n",
      "Epoch 98/100\n",
      "1000/1000 [==============================] - 1s 641us/step - loss: 0.0038 - acc: 1.0000 - val_loss: 2.6334 - val_acc: 0.5260\n",
      "Epoch 99/100\n",
      "1000/1000 [==============================] - 1s 599us/step - loss: 0.0038 - acc: 1.0000 - val_loss: 2.6366 - val_acc: 0.5240\n",
      "Epoch 100/100\n",
      "1000/1000 [==============================] - 1s 611us/step - loss: 0.0037 - acc: 1.0000 - val_loss: 2.6401 - val_acc: 0.5260\n"
     ]
    },
    {
     "data": {
      "text/plain": [
       "<tensorflow.python.keras.callbacks.History at 0x1a33878780>"
      ]
     },
     "execution_count": 16,
     "metadata": {},
     "output_type": "execute_result"
    }
   ],
   "source": [
    "# 訓練模型並檢視驗證集的結果\n",
    "model.fit(x_train, y_train, \n",
    "          epochs=100, \n",
    "          batch_size=256, \n",
    "          validation_data=(x_test, y_test), \n",
    "          shuffle=True)"
   ]
  },
  {
   "cell_type": "code",
   "execution_count": 17,
   "metadata": {
    "ExecuteTime": {
     "end_time": "2019-12-21T17:45:07.068337Z",
     "start_time": "2019-12-21T17:45:04.868934Z"
    }
   },
   "outputs": [
    {
     "data": {
      "image/png": "[encoded data removed]",
      "text/plain": [
       "<Figure size 432x288 with 1 Axes>"
      ]
     },
     "metadata": {
      "needs_background": "light"
     },
     "output_type": "display_data"
    },
    {
     "data": {
      "image/png": "[encoded data removed]",
      "text/plain": [
       "<Figure size 432x288 with 1 Axes>"
      ]
     },
     "metadata": {
      "needs_background": "light"
     },
     "output_type": "display_data"
    }
   ],
   "source": [
    "# 以視覺畫方式檢視訓練過程\n",
    "import matplotlib.pyplot as plt\n",
    "train_loss = model.history.history[\"loss\"]\n",
    "valid_loss = model.history.history[\"val_loss\"]\n",
    "\n",
    "train_acc = model.history.history[\"acc\"]\n",
    "valid_acc = model.history.history[\"val_acc\"]\n",
    "\n",
    "plt.plot(range(len(train_loss)), train_loss, label=\"train loss\")\n",
    "plt.plot(range(len(valid_loss)), valid_loss, label=\"valid loss\")\n",
    "plt.legend()\n",
    "plt.title(\"Loss\")\n",
    "plt.show()\n",
    "\n",
    "plt.plot(range(len(train_acc)), train_acc, label=\"train accuracy\")\n",
    "plt.plot(range(len(valid_acc)), valid_acc, label=\"valid accuracy\")\n",
    "plt.legend()\n",
    "plt.title(\"Accuracy\")\n",
    "plt.show()"
   ]
  },
  {
   "cell_type": "markdown",
   "metadata": {},
   "source": [
    "## 作業\n",
    "1. 請將 Epoch 加到 500 個，並觀察 learning curve 的走勢\n",
    "2. 請將 Optimizer 換成 SGD，並觀察 learning curve 的走勢"
   ]
  }
 ],
 "metadata": {
  "hide_input": false,
  "kernelspec": {
   "display_name": "Python 3",
   "language": "python",
   "name": "python3"
  },
  "toc": {
   "base_numbering": 1,
   "nav_menu": {},
   "number_sections": true,
   "sideBar": true,
   "skip_h1_title": false,
   "title_cell": "Table of Contents",
   "title_sidebar": "Contents",
   "toc_cell": false,
   "toc_position": {},
   "toc_section_display": true,
   "toc_window_display": false
  }
 },
 "nbformat": 4,
 "nbformat_minor": 2
}
