{
 "cells": [
  {
   "cell_type": "markdown",
   "metadata": {},
   "source": [
    "## Work\n",
    "1. 請嘗試將 preproc_x 替換成以每筆資料的 min/max 進行標準化至 -1 ~ 1 間，再進行訓練\n",
    "2. 請嘗試將 mlp 疊更深 (e.g 5~10 層)，進行訓練後觀察 learning curve 的走勢\n",
    "3. (optional) 請改用 GPU 進行訓練 (如果你有 GPU 的話)，比較使用 CPU 與 GPU 的訓練速度"
   ]
  },
  {
   "cell_type": "code",
   "execution_count": 1,
   "metadata": {},
   "outputs": [],
   "source": [
    "## \n",
    "\"\"\"\n",
    "Your code here (optional)\n",
    "確認硬體資源\n",
    "\"\"\"\n"
   ]
  },
  {
   "cell_type": "code",
   "execution_count": 1,
   "metadata": {
    "ExecuteTime": {
     "end_time": "2019-12-21T16:36:09.687174Z",
     "start_time": "2019-12-21T16:35:54.061630Z"
    }
   },
   "outputs": [
    {
     "name": "stderr",
     "output_type": "stream",
     "text": [
      "/Users/ttyoung/anaconda3/lib/python3.7/importlib/_bootstrap.py:219: RuntimeWarning: compiletime version 3.6 of module 'tensorflow.python.framework.fast_tensor_util' does not match runtime version 3.7\n",
      "  return f(*args, **kwds)\n"
     ]
    }
   ],
   "source": [
    "import os\n",
    "import tensorflow.keras as keras\n",
    "\n",
    "# 請嘗試設定 GPU：os.environ\n"
   ]
  },
  {
   "cell_type": "code",
   "execution_count": 5,
   "metadata": {
    "ExecuteTime": {
     "end_time": "2019-12-21T17:36:23.687225Z",
     "start_time": "2019-12-21T17:36:20.768211Z"
    }
   },
   "outputs": [],
   "source": [
    "train, test = keras.datasets.cifar10.load_data()\n",
    "x_train, y_train = train\n",
    "x_test, y_test = test\n"
   ]
  },
  {
   "cell_type": "code",
   "execution_count": 6,
   "metadata": {
    "ExecuteTime": {
     "end_time": "2019-12-21T17:36:37.946090Z",
     "start_time": "2019-12-21T17:36:35.819884Z"
    }
   },
   "outputs": [
    {
     "data": {
      "text/plain": [
       "255"
      ]
     },
     "execution_count": 6,
     "metadata": {},
     "output_type": "execute_result"
    }
   ],
   "source": [
    "x_train.max()"
   ]
  },
  {
   "cell_type": "code",
   "execution_count": 10,
   "metadata": {
    "ExecuteTime": {
     "end_time": "2019-12-21T17:48:20.910775Z",
     "start_time": "2019-12-21T17:48:20.894026Z"
    }
   },
   "outputs": [],
   "source": [
    "## 資料前處理\n",
    "def preproc_x(x, flatten=True):\n",
    "    max_val = x.max()\n",
    "    min_val = x.min()\n",
    "    mean_val = x.mean()\n",
    "    x = (x - mean_val) / (max_val - min_val)\n",
    "    if flatten:\n",
    "        x = x.reshape((len(x), -1))\n",
    "    return x\n",
    "\n",
    "def preproc_y(y, num_classes=10):\n",
    "    if y.shape[-1] == 1:\n",
    "        y = keras.utils.to_categorical(y, num_classes)\n",
    "    return y    "
   ]
  },
  {
   "cell_type": "code",
   "execution_count": 11,
   "metadata": {
    "ExecuteTime": {
     "end_time": "2019-12-21T17:48:37.949171Z",
     "start_time": "2019-12-21T17:48:21.509642Z"
    }
   },
   "outputs": [],
   "source": [
    "\n",
    "# Preproc the inputs\n",
    "x_train = preproc_x(x_train)\n",
    "x_test = preproc_x(x_test)\n",
    "\n",
    "# Preprc the outputs\n",
    "y_train = preproc_y(y_train)\n",
    "y_test = preproc_y(y_test)"
   ]
  },
  {
   "cell_type": "code",
   "execution_count": 12,
   "metadata": {
    "ExecuteTime": {
     "end_time": "2019-12-21T17:48:38.050085Z",
     "start_time": "2019-12-21T17:48:37.995414Z"
    }
   },
   "outputs": [
    {
     "data": {
      "text/plain": [
       "array([[-0.24199045, -0.23022575, -0.22630418, ...,  0.00898994,\n",
       "        -0.11257869, -0.19101006],\n",
       "       [ 0.13055857,  0.22075465,  0.25997033, ...,  0.08742131,\n",
       "         0.04820563,  0.09134288],\n",
       "       [ 0.526637  ,  0.526637  ,  0.526637  , ..., -0.15963751,\n",
       "        -0.1361081 , -0.14395124],\n",
       "       ...,\n",
       "       [-0.3361081 ,  0.22467622,  0.44820563, ..., -0.42630418,\n",
       "        -0.35179437, -0.27728457],\n",
       "       [ 0.26781347,  0.35408798,  0.46781347, ...,  0.29134288,\n",
       "         0.27173504,  0.19722523],\n",
       "       [ 0.42467622,  0.42467622,  0.4638919 , ...,  0.16585269,\n",
       "         0.16585269,  0.15800955]])"
      ]
     },
     "execution_count": 12,
     "metadata": {},
     "output_type": "execute_result"
    }
   ],
   "source": [
    "x_train"
   ]
  },
  {
   "cell_type": "code",
   "execution_count": 14,
   "metadata": {
    "ExecuteTime": {
     "end_time": "2019-12-21T17:50:53.990566Z",
     "start_time": "2019-12-21T17:50:51.423241Z"
    }
   },
   "outputs": [
    {
     "name": "stdout",
     "output_type": "stream",
     "text": [
      "_________________________________________________________________\n",
      "Layer (type)                 Output Shape              Param #   \n",
      "=================================================================\n",
      "input_1 (InputLayer)         (None, 3072)              0         \n",
      "_________________________________________________________________\n",
      "hidden_layer1 (Dense)        (None, 512)               1573376   \n",
      "_________________________________________________________________\n",
      "hidden_layer2 (Dense)        (None, 256)               131328    \n",
      "_________________________________________________________________\n",
      "hidden_layer3 (Dense)        (None, 256)               65792     \n",
      "_________________________________________________________________\n",
      "hidden_layer4 (Dense)        (None, 128)               32896     \n",
      "_________________________________________________________________\n",
      "hidden_layer5 (Dense)        (None, 128)               16512     \n",
      "_________________________________________________________________\n",
      "output (Dense)               (None, 10)                1290      \n",
      "=================================================================\n",
      "Total params: 1,821,194\n",
      "Trainable params: 1,821,194\n",
      "Non-trainable params: 0\n",
      "_________________________________________________________________\n"
     ]
    }
   ],
   "source": [
    "\"\"\"Code Here\n",
    "建立你的神經網路\n",
    "\"\"\"\n",
    "def build_mlp(input_shape, output_units=10, num_neurons=[512, 256, 128]):\n",
    "    input_layer = keras.layers.Input(input_shape)\n",
    "    \n",
    "    for i, n_units in enumerate(num_neurons):\n",
    "        if i == 0:\n",
    "            x = keras.layers.Dense(units=n_units, activation=\"relu\", name=\"hidden_layer\"+str(i+1))(input_layer)\n",
    "        else:\n",
    "            x = keras.layers.Dense(units=n_units, activation=\"relu\", name=\"hidden_layer\"+str(i+1))(x)\n",
    "    \n",
    "    out = keras.layers.Dense(units=output_units, activation=\"softmax\", name=\"output\")(x)\n",
    "    \n",
    "    model = keras.models.Model(inputs=[input_layer], outputs=[out])\n",
    "    return model\n",
    "model = build_mlp(input_shape=x_train.shape[1:],num_neurons=[512, 256, 256, 128, 128])\n",
    "model.summary()"
   ]
  },
  {
   "cell_type": "code",
   "execution_count": 15,
   "metadata": {
    "ExecuteTime": {
     "end_time": "2019-12-21T17:50:59.028866Z",
     "start_time": "2019-12-21T17:50:59.024379Z"
    }
   },
   "outputs": [],
   "source": [
    "## 超參數設定\n",
    "LEARNING_RATE = 0.001\n",
    "EPOCHS = 100\n",
    "BATCH_SIZE = 256"
   ]
  },
  {
   "cell_type": "code",
   "execution_count": 16,
   "metadata": {
    "ExecuteTime": {
     "end_time": "2019-12-21T17:51:00.516279Z",
     "start_time": "2019-12-21T17:51:00.372849Z"
    }
   },
   "outputs": [],
   "source": [
    "optimizer = keras.optimizers.Adam(lr=LEARNING_RATE)\n",
    "model.compile(loss=\"categorical_crossentropy\", metrics=[\"accuracy\"], optimizer=optimizer)"
   ]
  },
  {
   "cell_type": "code",
   "execution_count": 17,
   "metadata": {
    "ExecuteTime": {
     "end_time": "2019-12-21T17:52:18.658394Z",
     "start_time": "2019-12-21T17:52:18.654133Z"
    }
   },
   "outputs": [],
   "source": [
    "x_train = x_train[:5000]\n",
    "x_test = x_test[:5000]\n",
    "y_train = y_train[:5000]\n",
    "y_test = y_test[:5000]"
   ]
  },
  {
   "cell_type": "code",
   "execution_count": 18,
   "metadata": {
    "ExecuteTime": {
     "end_time": "2019-12-21T17:54:19.429716Z",
     "start_time": "2019-12-21T17:52:19.295260Z"
    }
   },
   "outputs": [
    {
     "name": "stdout",
     "output_type": "stream",
     "text": [
      "Train on 5000 samples, validate on 5000 samples\n",
      "Epoch 1/100\n",
      "5000/5000 [==============================] - 2s 492us/step - loss: 2.0443 - acc: 0.2630 - val_loss: 1.8696 - val_acc: 0.3172\n",
      "Epoch 2/100\n",
      "5000/5000 [==============================] - 1s 270us/step - loss: 1.7053 - acc: 0.3836 - val_loss: 1.7420 - val_acc: 0.3816\n",
      "Epoch 3/100\n",
      "5000/5000 [==============================] - 1s 241us/step - loss: 1.5391 - acc: 0.4534 - val_loss: 1.7124 - val_acc: 0.3970\n",
      "Epoch 4/100\n",
      "5000/5000 [==============================] - 1s 252us/step - loss: 1.3831 - acc: 0.5212 - val_loss: 1.7449 - val_acc: 0.4046\n",
      "Epoch 5/100\n",
      "5000/5000 [==============================] - 1s 286us/step - loss: 1.2311 - acc: 0.5626 - val_loss: 1.6854 - val_acc: 0.4318\n",
      "Epoch 6/100\n",
      "5000/5000 [==============================] - 1s 269us/step - loss: 1.0743 - acc: 0.6312 - val_loss: 1.7439 - val_acc: 0.4232\n",
      "Epoch 7/100\n",
      "5000/5000 [==============================] - 1s 266us/step - loss: 0.9434 - acc: 0.6770 - val_loss: 1.8375 - val_acc: 0.4260\n",
      "Epoch 8/100\n",
      "5000/5000 [==============================] - 1s 237us/step - loss: 0.8209 - acc: 0.7140 - val_loss: 1.9742 - val_acc: 0.4154\n",
      "Epoch 9/100\n",
      "5000/5000 [==============================] - 2s 321us/step - loss: 0.6398 - acc: 0.7896 - val_loss: 2.0659 - val_acc: 0.4276\n",
      "Epoch 10/100\n",
      "5000/5000 [==============================] - 1s 281us/step - loss: 0.5403 - acc: 0.8138 - val_loss: 2.3798 - val_acc: 0.4166\n",
      "Epoch 11/100\n",
      "5000/5000 [==============================] - 2s 339us/step - loss: 0.4402 - acc: 0.8560 - val_loss: 2.3858 - val_acc: 0.4180\n",
      "Epoch 12/100\n",
      "5000/5000 [==============================] - 2s 353us/step - loss: 0.3400 - acc: 0.8888 - val_loss: 2.6230 - val_acc: 0.4142\n",
      "Epoch 13/100\n",
      "5000/5000 [==============================] - 2s 315us/step - loss: 0.2684 - acc: 0.9140 - val_loss: 2.6587 - val_acc: 0.4204\n",
      "Epoch 14/100\n",
      "5000/5000 [==============================] - 2s 392us/step - loss: 0.2679 - acc: 0.9168 - val_loss: 2.7037 - val_acc: 0.4196\n",
      "Epoch 15/100\n",
      "5000/5000 [==============================] - 2s 309us/step - loss: 0.2116 - acc: 0.9358 - val_loss: 2.9579 - val_acc: 0.4266\n",
      "Epoch 16/100\n",
      "5000/5000 [==============================] - 2s 339us/step - loss: 0.1953 - acc: 0.9380 - val_loss: 2.9867 - val_acc: 0.4306\n",
      "Epoch 17/100\n",
      "5000/5000 [==============================] - 1s 294us/step - loss: 0.1364 - acc: 0.9596 - val_loss: 3.1552 - val_acc: 0.4326\n",
      "Epoch 18/100\n",
      "5000/5000 [==============================] - 1s 299us/step - loss: 0.1020 - acc: 0.9696 - val_loss: 3.3811 - val_acc: 0.4322\n",
      "Epoch 19/100\n",
      "5000/5000 [==============================] - 2s 332us/step - loss: 0.1353 - acc: 0.9590 - val_loss: 3.4094 - val_acc: 0.4304\n",
      "Epoch 20/100\n",
      "5000/5000 [==============================] - 1s 277us/step - loss: 0.1325 - acc: 0.9568 - val_loss: 3.4104 - val_acc: 0.4210\n",
      "Epoch 21/100\n",
      "5000/5000 [==============================] - 1s 239us/step - loss: 0.1120 - acc: 0.9652 - val_loss: 3.4067 - val_acc: 0.4218\n",
      "Epoch 22/100\n",
      "5000/5000 [==============================] - 1s 251us/step - loss: 0.0939 - acc: 0.9718 - val_loss: 3.5493 - val_acc: 0.4358\n",
      "Epoch 23/100\n",
      "5000/5000 [==============================] - 1s 252us/step - loss: 0.0745 - acc: 0.9770 - val_loss: 3.6779 - val_acc: 0.4302\n",
      "Epoch 24/100\n",
      "5000/5000 [==============================] - 1s 230us/step - loss: 0.0808 - acc: 0.9774 - val_loss: 3.6756 - val_acc: 0.4198\n",
      "Epoch 25/100\n",
      "5000/5000 [==============================] - 1s 210us/step - loss: 0.0781 - acc: 0.9784 - val_loss: 3.7126 - val_acc: 0.4296\n",
      "Epoch 26/100\n",
      "5000/5000 [==============================] - 1s 204us/step - loss: 0.0519 - acc: 0.9860 - val_loss: 3.8899 - val_acc: 0.4172\n",
      "Epoch 27/100\n",
      "5000/5000 [==============================] - 1s 213us/step - loss: 0.0510 - acc: 0.9854 - val_loss: 4.0968 - val_acc: 0.4290\n",
      "Epoch 28/100\n",
      "5000/5000 [==============================] - 1s 211us/step - loss: 0.0846 - acc: 0.9732 - val_loss: 3.9029 - val_acc: 0.4158\n",
      "Epoch 29/100\n",
      "5000/5000 [==============================] - 1s 204us/step - loss: 0.1057 - acc: 0.9666 - val_loss: 3.7507 - val_acc: 0.4266\n",
      "Epoch 30/100\n",
      "5000/5000 [==============================] - 1s 202us/step - loss: 0.0801 - acc: 0.9752 - val_loss: 3.9219 - val_acc: 0.4240\n",
      "Epoch 31/100\n",
      "5000/5000 [==============================] - 1s 214us/step - loss: 0.0754 - acc: 0.9740 - val_loss: 3.8268 - val_acc: 0.4264\n",
      "Epoch 32/100\n",
      "5000/5000 [==============================] - 1s 226us/step - loss: 0.0693 - acc: 0.9778 - val_loss: 3.8858 - val_acc: 0.4228\n",
      "Epoch 33/100\n",
      "5000/5000 [==============================] - 1s 204us/step - loss: 0.0553 - acc: 0.9832 - val_loss: 4.1433 - val_acc: 0.4188\n",
      "Epoch 34/100\n",
      "5000/5000 [==============================] - 1s 209us/step - loss: 0.0631 - acc: 0.9792 - val_loss: 4.0490 - val_acc: 0.4244\n",
      "Epoch 35/100\n",
      "5000/5000 [==============================] - 1s 208us/step - loss: 0.0320 - acc: 0.9914 - val_loss: 4.2208 - val_acc: 0.4286\n",
      "Epoch 36/100\n",
      "5000/5000 [==============================] - 1s 207us/step - loss: 0.0279 - acc: 0.9934 - val_loss: 4.2551 - val_acc: 0.4348\n",
      "Epoch 37/100\n",
      "5000/5000 [==============================] - 1s 206us/step - loss: 0.0207 - acc: 0.9946 - val_loss: 4.4821 - val_acc: 0.4204\n",
      "Epoch 38/100\n",
      "5000/5000 [==============================] - 1s 207us/step - loss: 0.0204 - acc: 0.9940 - val_loss: 4.4855 - val_acc: 0.4302\n",
      "Epoch 39/100\n",
      "5000/5000 [==============================] - 1s 208us/step - loss: 0.0310 - acc: 0.9922 - val_loss: 4.4820 - val_acc: 0.4296\n",
      "Epoch 40/100\n",
      "5000/5000 [==============================] - 1s 206us/step - loss: 0.0495 - acc: 0.9842 - val_loss: 4.4207 - val_acc: 0.4320\n",
      "Epoch 41/100\n",
      "5000/5000 [==============================] - 1s 206us/step - loss: 0.0873 - acc: 0.9734 - val_loss: 4.1954 - val_acc: 0.4236\n",
      "Epoch 42/100\n",
      "5000/5000 [==============================] - 1s 208us/step - loss: 0.1028 - acc: 0.9658 - val_loss: 4.1913 - val_acc: 0.4186\n",
      "Epoch 43/100\n",
      "5000/5000 [==============================] - 1s 208us/step - loss: 0.1038 - acc: 0.9666 - val_loss: 3.9180 - val_acc: 0.4312\n",
      "Epoch 44/100\n",
      "5000/5000 [==============================] - 1s 211us/step - loss: 0.0664 - acc: 0.9804 - val_loss: 4.1143 - val_acc: 0.4336\n",
      "Epoch 45/100\n",
      "5000/5000 [==============================] - 1s 236us/step - loss: 0.0533 - acc: 0.9808 - val_loss: 4.2138 - val_acc: 0.4150\n",
      "Epoch 46/100\n",
      "5000/5000 [==============================] - 1s 231us/step - loss: 0.0437 - acc: 0.9860 - val_loss: 4.3840 - val_acc: 0.4330\n",
      "Epoch 47/100\n",
      "5000/5000 [==============================] - 1s 225us/step - loss: 0.0405 - acc: 0.9888 - val_loss: 4.2832 - val_acc: 0.4246\n",
      "Epoch 48/100\n",
      "5000/5000 [==============================] - 1s 217us/step - loss: 0.0317 - acc: 0.9904 - val_loss: 4.4432 - val_acc: 0.4278\n",
      "Epoch 49/100\n",
      "5000/5000 [==============================] - 1s 229us/step - loss: 0.0204 - acc: 0.9946 - val_loss: 4.5047 - val_acc: 0.4346\n",
      "Epoch 50/100\n",
      "5000/5000 [==============================] - 1s 222us/step - loss: 0.0126 - acc: 0.9962 - val_loss: 4.5205 - val_acc: 0.4444\n",
      "Epoch 51/100\n",
      "5000/5000 [==============================] - 1s 230us/step - loss: 0.0059 - acc: 0.9984 - val_loss: 4.5404 - val_acc: 0.4386\n",
      "Epoch 52/100\n",
      "5000/5000 [==============================] - 1s 272us/step - loss: 0.0027 - acc: 0.9998 - val_loss: 4.6566 - val_acc: 0.4390\n",
      "Epoch 53/100\n",
      "5000/5000 [==============================] - 1s 255us/step - loss: 0.0023 - acc: 0.9994 - val_loss: 4.6493 - val_acc: 0.4422\n",
      "Epoch 54/100\n",
      "5000/5000 [==============================] - 1s 260us/step - loss: 0.0043 - acc: 0.9986 - val_loss: 4.6804 - val_acc: 0.4396\n",
      "Epoch 55/100\n",
      "5000/5000 [==============================] - 1s 254us/step - loss: 0.0086 - acc: 0.9978 - val_loss: 4.7283 - val_acc: 0.4388\n",
      "Epoch 56/100\n",
      "5000/5000 [==============================] - 1s 232us/step - loss: 0.0177 - acc: 0.9950 - val_loss: 4.8025 - val_acc: 0.4292\n",
      "Epoch 57/100\n",
      "5000/5000 [==============================] - 1s 212us/step - loss: 0.0145 - acc: 0.9962 - val_loss: 4.6501 - val_acc: 0.4400\n",
      "Epoch 58/100\n",
      "5000/5000 [==============================] - 1s 215us/step - loss: 0.0068 - acc: 0.9978 - val_loss: 4.7334 - val_acc: 0.4396\n",
      "Epoch 59/100\n",
      "5000/5000 [==============================] - 1s 215us/step - loss: 0.0068 - acc: 0.9982 - val_loss: 4.8392 - val_acc: 0.4434\n",
      "Epoch 60/100\n"
     ]
    },
    {
     "name": "stdout",
     "output_type": "stream",
     "text": [
      "5000/5000 [==============================] - 1s 216us/step - loss: 0.0065 - acc: 0.9982 - val_loss: 4.8679 - val_acc: 0.4452\n",
      "Epoch 61/100\n",
      "5000/5000 [==============================] - 1s 274us/step - loss: 0.0041 - acc: 0.9988 - val_loss: 4.8770 - val_acc: 0.4308\n",
      "Epoch 62/100\n",
      "5000/5000 [==============================] - 1s 263us/step - loss: 0.0057 - acc: 0.9976 - val_loss: 4.9726 - val_acc: 0.4406\n",
      "Epoch 63/100\n",
      "5000/5000 [==============================] - 1s 224us/step - loss: 0.0241 - acc: 0.9938 - val_loss: 5.1359 - val_acc: 0.4144\n",
      "Epoch 64/100\n",
      "5000/5000 [==============================] - 1s 238us/step - loss: 0.0567 - acc: 0.9814 - val_loss: 4.8670 - val_acc: 0.4204\n",
      "Epoch 65/100\n",
      "5000/5000 [==============================] - 1s 208us/step - loss: 0.1169 - acc: 0.9632 - val_loss: 4.5243 - val_acc: 0.4134\n",
      "Epoch 66/100\n",
      "5000/5000 [==============================] - 1s 208us/step - loss: 0.1634 - acc: 0.9496 - val_loss: 4.0790 - val_acc: 0.4148\n",
      "Epoch 67/100\n",
      "5000/5000 [==============================] - 1s 208us/step - loss: 0.1244 - acc: 0.9606 - val_loss: 4.1201 - val_acc: 0.4170\n",
      "Epoch 68/100\n",
      "5000/5000 [==============================] - 1s 207us/step - loss: 0.1207 - acc: 0.9634 - val_loss: 4.1806 - val_acc: 0.4054\n",
      "Epoch 69/100\n",
      "5000/5000 [==============================] - 1s 209us/step - loss: 0.0917 - acc: 0.9718 - val_loss: 4.1346 - val_acc: 0.4210\n",
      "Epoch 70/100\n",
      "5000/5000 [==============================] - 1s 223us/step - loss: 0.0584 - acc: 0.9822 - val_loss: 4.3021 - val_acc: 0.4258\n",
      "Epoch 71/100\n",
      "5000/5000 [==============================] - 1s 239us/step - loss: 0.0361 - acc: 0.9898 - val_loss: 4.2757 - val_acc: 0.4278\n",
      "Epoch 72/100\n",
      "5000/5000 [==============================] - 1s 210us/step - loss: 0.0269 - acc: 0.9932 - val_loss: 4.3680 - val_acc: 0.4186\n",
      "Epoch 73/100\n",
      "5000/5000 [==============================] - 1s 210us/step - loss: 0.0271 - acc: 0.9920 - val_loss: 4.5794 - val_acc: 0.4234\n",
      "Epoch 74/100\n",
      "5000/5000 [==============================] - 1s 209us/step - loss: 0.0580 - acc: 0.9842 - val_loss: 4.4616 - val_acc: 0.4290\n",
      "Epoch 75/100\n",
      "5000/5000 [==============================] - 1s 208us/step - loss: 0.0403 - acc: 0.9870 - val_loss: 4.4309 - val_acc: 0.4334\n",
      "Epoch 76/100\n",
      "5000/5000 [==============================] - 1s 208us/step - loss: 0.0208 - acc: 0.9956 - val_loss: 4.3677 - val_acc: 0.4268\n",
      "Epoch 77/100\n",
      "5000/5000 [==============================] - 1s 227us/step - loss: 0.0132 - acc: 0.9970 - val_loss: 4.5345 - val_acc: 0.4410\n",
      "Epoch 78/100\n",
      "5000/5000 [==============================] - 1s 228us/step - loss: 0.0094 - acc: 0.9980 - val_loss: 4.7085 - val_acc: 0.4268\n",
      "Epoch 79/100\n",
      "5000/5000 [==============================] - 1s 220us/step - loss: 0.0112 - acc: 0.9968 - val_loss: 4.6610 - val_acc: 0.4272\n",
      "Epoch 80/100\n",
      "5000/5000 [==============================] - 1s 220us/step - loss: 0.0133 - acc: 0.9958 - val_loss: 4.8207 - val_acc: 0.4348\n",
      "Epoch 81/100\n",
      "5000/5000 [==============================] - 1s 253us/step - loss: 0.0127 - acc: 0.9962 - val_loss: 4.7106 - val_acc: 0.4328\n",
      "Epoch 82/100\n",
      "5000/5000 [==============================] - 1s 254us/step - loss: 0.0141 - acc: 0.9972 - val_loss: 4.7508 - val_acc: 0.4360\n",
      "Epoch 83/100\n",
      "5000/5000 [==============================] - 1s 214us/step - loss: 0.0155 - acc: 0.9956 - val_loss: 5.0055 - val_acc: 0.4292\n",
      "Epoch 84/100\n",
      "5000/5000 [==============================] - 1s 208us/step - loss: 0.0548 - acc: 0.9830 - val_loss: 4.7226 - val_acc: 0.4298\n",
      "Epoch 85/100\n",
      "5000/5000 [==============================] - 1s 225us/step - loss: 0.0643 - acc: 0.9810 - val_loss: 4.6583 - val_acc: 0.4220\n",
      "Epoch 86/100\n",
      "5000/5000 [==============================] - 1s 211us/step - loss: 0.0780 - acc: 0.9742 - val_loss: 4.6702 - val_acc: 0.4166\n",
      "Epoch 87/100\n",
      "5000/5000 [==============================] - 1s 216us/step - loss: 0.0467 - acc: 0.9860 - val_loss: 4.6345 - val_acc: 0.4196\n",
      "Epoch 88/100\n",
      "5000/5000 [==============================] - 1s 215us/step - loss: 0.0400 - acc: 0.9876 - val_loss: 4.7392 - val_acc: 0.4204\n",
      "Epoch 89/100\n",
      "5000/5000 [==============================] - 1s 232us/step - loss: 0.0344 - acc: 0.9886 - val_loss: 4.7587 - val_acc: 0.4292\n",
      "Epoch 90/100\n",
      "5000/5000 [==============================] - 1s 277us/step - loss: 0.0394 - acc: 0.9880 - val_loss: 4.9163 - val_acc: 0.4142\n",
      "Epoch 91/100\n",
      "5000/5000 [==============================] - 1s 242us/step - loss: 0.0841 - acc: 0.9734 - val_loss: 4.6771 - val_acc: 0.4200\n",
      "Epoch 92/100\n",
      "5000/5000 [==============================] - 1s 217us/step - loss: 0.0577 - acc: 0.9812 - val_loss: 4.7310 - val_acc: 0.4212\n",
      "Epoch 93/100\n",
      "5000/5000 [==============================] - 1s 205us/step - loss: 0.0460 - acc: 0.9830 - val_loss: 4.7370 - val_acc: 0.4232\n",
      "Epoch 94/100\n",
      "5000/5000 [==============================] - 1s 205us/step - loss: 0.0650 - acc: 0.9820 - val_loss: 4.7364 - val_acc: 0.4176\n",
      "Epoch 95/100\n",
      "5000/5000 [==============================] - 1s 223us/step - loss: 0.0707 - acc: 0.9794 - val_loss: 4.5437 - val_acc: 0.4212\n",
      "Epoch 96/100\n",
      "5000/5000 [==============================] - 1s 205us/step - loss: 0.0712 - acc: 0.9770 - val_loss: 4.5145 - val_acc: 0.4188\n",
      "Epoch 97/100\n",
      "5000/5000 [==============================] - 1s 203us/step - loss: 0.0420 - acc: 0.9882 - val_loss: 4.4979 - val_acc: 0.4270\n",
      "Epoch 98/100\n",
      "5000/5000 [==============================] - 1s 202us/step - loss: 0.0147 - acc: 0.9958 - val_loss: 4.6438 - val_acc: 0.4326\n",
      "Epoch 99/100\n",
      "5000/5000 [==============================] - 1s 203us/step - loss: 0.0272 - acc: 0.9928 - val_loss: 4.7050 - val_acc: 0.4338\n",
      "Epoch 100/100\n",
      "5000/5000 [==============================] - 1s 214us/step - loss: 0.0147 - acc: 0.9964 - val_loss: 4.6444 - val_acc: 0.4406\n"
     ]
    },
    {
     "data": {
      "text/plain": [
       "<tensorflow.python.keras.callbacks.History at 0x1a28982eb8>"
      ]
     },
     "execution_count": 18,
     "metadata": {},
     "output_type": "execute_result"
    }
   ],
   "source": [
    "model.fit(x_train, y_train, \n",
    "          epochs=EPOCHS, \n",
    "          batch_size=BATCH_SIZE, \n",
    "          validation_data=(x_test, y_test), \n",
    "          shuffle=True)"
   ]
  },
  {
   "cell_type": "code",
   "execution_count": 19,
   "metadata": {
    "ExecuteTime": {
     "end_time": "2019-12-21T17:54:19.775817Z",
     "start_time": "2019-12-21T17:54:19.434346Z"
    }
   },
   "outputs": [
    {
     "data": {
      "image/png": "[encoded data removed]",
      "text/plain": [
       "<Figure size 432x288 with 1 Axes>"
      ]
     },
     "metadata": {
      "needs_background": "light"
     },
     "output_type": "display_data"
    },
    {
     "data": {
      "image/png": "[encoded data removed]",
      "text/plain": [
       "<Figure size 432x288 with 1 Axes>"
      ]
     },
     "metadata": {
      "needs_background": "light"
     },
     "output_type": "display_data"
    }
   ],
   "source": [
    "import matplotlib.pyplot as plt\n",
    "\n",
    "\n",
    "train_loss = model.history.history[\"loss\"]\n",
    "valid_loss = model.history.history[\"val_loss\"]\n",
    "\n",
    "train_acc = model.history.history[\"acc\"]\n",
    "valid_acc = model.history.history[\"val_acc\"]\n",
    "\n",
    "plt.plot(range(len(train_loss)), train_loss, label=\"train loss\")\n",
    "plt.plot(range(len(valid_loss)), valid_loss, label=\"valid loss\")\n",
    "plt.legend()\n",
    "plt.title(\"Loss\")\n",
    "plt.show()\n",
    "\n",
    "plt.plot(range(len(train_acc)), train_acc, label=\"train accuracy\")\n",
    "plt.plot(range(len(valid_acc)), valid_acc, label=\"valid accuracy\")\n",
    "plt.legend()\n",
    "plt.title(\"Accuracy\")\n",
    "plt.show()"
   ]
  },
  {
   "cell_type": "code",
   "execution_count": null,
   "metadata": {},
   "outputs": [],
   "source": []
  },
  {
   "cell_type": "code",
   "execution_count": null,
   "metadata": {},
   "outputs": [],
   "source": []
  }
 ],
 "metadata": {
  "hide_input": false,
  "kernelspec": {
   "display_name": "Python 3",
   "language": "python",
   "name": "python3"
  },
  "language_info": {
   "codemirror_mode": {
    "name": "ipython",
    "version": 3
   },
   "file_extension": ".py",
   "mimetype": "text/x-python",
   "name": "python",
   "nbconvert_exporter": "python",
   "pygments_lexer": "ipython3",
   "version": "3.7.3"
  },
  "toc": {
   "base_numbering": 1,
   "nav_menu": {},
   "number_sections": true,
   "sideBar": true,
   "skip_h1_title": false,
   "title_cell": "Table of Contents",
   "title_sidebar": "Contents",
   "toc_cell": false,
   "toc_position": {},
   "toc_section_display": true,
   "toc_window_display": false
  }
 },
 "nbformat": 4,
 "nbformat_minor": 2
}
